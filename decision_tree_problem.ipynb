{
  "nbformat": 4,
  "nbformat_minor": 0,
  "metadata": {
    "colab": {
      "name": "decision_tree_problem.ipynb",
      "version": "0.3.2",
      "provenance": [],
      "collapsed_sections": []
    },
    "kernelspec": {
      "name": "python3",
      "display_name": "Python 3"
    }
  },
  "cells": [
    {
      "metadata": {
        "colab_type": "text",
        "id": "SIXYmYbkKww6"
      },
      "cell_type": "markdown",
      "source": [
        "#Decision Tree\n"
      ]
    },
    {
      "metadata": {
        "id": "XI9NDhtkoVoS",
        "colab_type": "text"
      },
      "cell_type": "markdown",
      "source": [
        "Decision Trees (DTs) are a non-parametric supervised learning method used for classification and regression. Decision trees learn from data to approximate a sine curve with a set of if-then-else decision rules. The deeper the tree, the more complex the decision rules and the fitter the model.\n",
        "\n",
        "Decision tree builds classification or regression models in the form of a tree structure. It breaks down a data set into smaller and smaller subsets while at the same time an associated decision tree is incrementally developed. The final result is a tree with decision nodes and leaf nodes. A decision node has two or more branches. Leaf node represents a classification or decision. The topmost decision node in a tree which corresponds to the best predictor called root node. Decision trees can handle both categorical and numerical data.\n",
        "\n",
        "A simple example of decision tree thats shows whether we can play outside based on the given weather or not:\n",
        "![alt text](https://i0.wp.com/sefiks.com/wp-content/uploads/2017/11/tree-v3.png?zoom=2&resize=760%2C478&ssl=1)\n",
        "\n",
        "The decision tree algorithm has implemented in sklearn library and here is a simple sample of using that:\n",
        "\n",
        "    from sklearn.tree import DecisionTreeClassifier\n",
        "    classifier = DecisionTreeClassifier()\n",
        "    classifier.fit(x,y) #build the decision tree classifier based on the training set (x,y).\n",
        "    \n",
        "    \n",
        "You can also find more about the classifier parametrs [here](https://scikit-learn.org/stable/modules/generated/sklearn.tree.DecisionTreeClassifier.html).\n",
        "\n",
        "---\n",
        "\n",
        "Now is your turn!\n",
        "\n",
        "Change the decision_tree_function to takes in an a training set (x,y) and return a decision tree classifier based on the input. Don't forget normalization!\n",
        "\n"
      ]
    },
    {
      "metadata": {
        "colab_type": "code",
        "id": "cT43QDWAKwx1",
        "colab": {}
      },
      "cell_type": "code",
      "source": [
        "#problem\n",
        "\n",
        "def decision_tree_function(x, y):\n",
        "  from sklearn.tree import DecisionTreeClassifier\n",
        "  #Build the classfier and return it\n",
        "  return classifier"
      ],
      "execution_count": 0,
      "outputs": []
    },
    {
      "metadata": {
        "colab_type": "code",
        "id": "EHkGDkwxKwyV",
        "colab": {}
      },
      "cell_type": "code",
      "source": [
        "# Tests \n",
        "def warn(*args, **kwargs):\n",
        "    pass\n",
        "import warnings\n",
        "warnings.warn = warn\n",
        "from sklearn.metrics import accuracy_score\n",
        "import pandas as pd\n",
        "import numpy as np\n",
        "import matplotlib.pyplot as plt\n",
        "%matplotlib inline \n",
        "from sklearn.model_selection import train_test_split\n",
        "from sklearn import datasets\n",
        "\n",
        "df = datasets.load_wine()\n",
        "x = df.data[:, 9:11]\n",
        "y = df.target\n",
        "\n",
        "\n",
        "x_train, x_test, y_train, y_test = train_test_split(x, y, test_size=.2, random_state=5685)\n",
        "model = decision_tree_function(x_train, y_train)\n",
        "\n",
        "from sklearn.preprocessing import StandardScaler\n",
        "sc = StandardScaler()\n",
        "x_test = sc.fit_transform(x_test)\n",
        "\n",
        "prediction = model.predict(x_test)\n",
        "accuracy = accuracy_score(y_test, prediction)\n",
        "\n",
        "#the plot begins \n",
        "x = sc.fit_transform(x)\n",
        "from matplotlib.colors import ListedColormap\n",
        "x_set, y_set = x_train, y_train\n",
        "x_min, x_max = x[:, 0].min() - 1, x[:, 0].max() + 1\n",
        "y_min, y_max = x[:, 1].min() - 1, x[:, 1].max() + 1\n",
        "xx, yy = np.meshgrid(np.arange(x_min, x_max, 0.1),\n",
        "                     np.arange(y_min, y_max, 0.1))\n",
        "z = model.predict(np.c_[xx.ravel(), yy.ravel()])\n",
        "z = z.reshape(xx.shape)\n",
        "\n",
        "color_list_light = ['red', 'green','blue']\n",
        "color_list_bold = ['red', 'green','blue']\n",
        "custom_cmap2 = ListedColormap(color_list_light)\n",
        "custom_cmap1 = ListedColormap(color_list_bold)\n",
        "plt.contourf(xx, yy, z, alpha=0.1,cmap=custom_cmap2)\n",
        "plt.scatter(x[:, 0], x[:, 1], c=y,cmap=custom_cmap1,\n",
        "                              s=20, edgecolor='black')\n",
        "plt.show()"
      ],
      "execution_count": 0,
      "outputs": []
    },
    {
      "metadata": {
        "colab_type": "code",
        "id": "Psx4_nWTKwyh",
        "colab": {}
      },
      "cell_type": "code",
      "source": [
        "assert accuracy >.8, 'Failed'"
      ],
      "execution_count": 0,
      "outputs": []
    }
  ]
}