{
  "nbformat": 4,
  "nbformat_minor": 0,
  "metadata": {
    "colab": {
      "name": "Regression2_problem.ipynb",
      "version": "0.3.2",
      "provenance": [],
      "collapsed_sections": []
    },
    "kernelspec": {
      "name": "python3",
      "display_name": "Python 3"
    }
  },
  "cells": [
    {
      "metadata": {
        "id": "RzobfEK6PmdL",
        "colab_type": "text"
      },
      "cell_type": "markdown",
      "source": [
        "\n",
        "#Regression 2\n",
        "Activation functions "
      ]
    },
    {
      "metadata": {
        "id": "yTtjCP9EPtqs",
        "colab_type": "code",
        "colab": {}
      },
      "cell_type": "code",
      "source": [
        "#walkthrough\n",
        "#Uncomment the code. Change the value of the activation functions from linear to other activation functions to reduce the error"
      ],
      "execution_count": 0,
      "outputs": []
    },
    {
      "metadata": {
        "id": "fBo9AqdnVrlU",
        "colab_type": "code",
        "colab": {}
      },
      "cell_type": "code",
      "source": [
        "#problem\n",
        "#use appropriate activation function\n",
        "# import tensorflow as tf\n",
        "# def create_prediction_function(x, y):\n",
        "#   num_classes = *Enter the number of classes which is 1 in this case*\n",
        "#   input_dim = *x.shape[1]*\n",
        "#   model = tf.keras.models.Sequential([\n",
        "#       tf.keras.layers.Dense(32, input_dim= input_dim, kernel_initializer='normal', activation='linear'),\n",
        "#       tf.keras.layers.Dense(8, activation='linear'),\n",
        "#       tf.keras.layers.Dense(num_classes, activation='linear')\n",
        "#       ])\n",
        "#   model.compile(optimizer='adam',\n",
        "#               loss='mean_squared_error',\n",
        "#               metrics=['accuracy'])\n",
        "#   model.fit(x, y, epochs=30,verbose=0,batch_size=16)\n",
        "#   return model\n"
      ],
      "execution_count": 0,
      "outputs": []
    },
    {
      "metadata": {
        "id": "-gpe8w3EPuSU",
        "colab_type": "code",
        "colab": {}
      },
      "cell_type": "code",
      "source": [
        "\n",
        "#test\n",
        "import pandas as pd\n",
        "from sklearn.metrics import mean_squared_error #regression problem\n",
        "from sklearn.model_selection import train_test_split\n",
        "import tensorflow as tf\n",
        "import time\n",
        "tf.logging.set_verbosity(tf.logging.ERROR)\n",
        "def warn(*args, **kwargs):\n",
        "    pass\n",
        "import warnings\n",
        "warnings.warn = warn\n",
        "%matplotlib inline\n",
        "max_error = 20\n",
        "df = pd.read_csv('https://docs.google.com/spreadsheets/d/1dkAiy6_T3DzmKXjM9vZsFDCIy-PuqM0J4DKApHXs04A/gviz/tq?tqx=out:csv&sheet=personal_data')\n",
        "x = df.iloc[:,:-1]\n",
        "y=df.iloc[:,-1:]\n",
        "\n",
        "x_train, x_test, y_train, y_test = train_test_split(x, y, test_size=.2, random_state=5685)\n",
        "start_time = time.time()\n",
        "model = create_prediction_function(x_train, y_train)\n",
        "run_time = time.time() - start_time\n",
        "from sklearn.preprocessing import StandardScaler\n",
        "sc = StandardScaler()\n",
        "x_test = sc.fit_transform(x_test)\n",
        "prediction = model.predict(x_test)\n",
        "mse = mean_squared_error(y_test, prediction)\n"
      ],
      "execution_count": 0,
      "outputs": []
    },
    {
      "metadata": {
        "id": "SyWHFILk8z96",
        "colab_type": "code",
        "colab": {}
      },
      "cell_type": "code",
      "source": [
        "assert mse < max_error , \"Your error is %f which is greater than the maximum error\"%mse"
      ],
      "execution_count": 0,
      "outputs": []
    }
  ]
}