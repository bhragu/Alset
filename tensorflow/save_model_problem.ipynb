{
  "nbformat": 4,
  "nbformat_minor": 0,
  "metadata": {
    "colab": {
      "name": "save_model_problem.ipynb",
      "version": "0.3.2",
      "provenance": [],
      "collapsed_sections": []
    },
    "kernelspec": {
      "name": "python3",
      "display_name": "Python 3"
    }
  },
  "cells": [
    {
      "metadata": {
        "id": "9r4KAjCU9rWx",
        "colab_type": "text"
      },
      "cell_type": "markdown",
      "source": [
        "\n",
        "# Save a model\n",
        "This is to save a a deep learning model\n"
      ]
    },
    {
      "metadata": {
        "id": "qQPiGQ6Q-YXy",
        "colab_type": "code",
        "colab": {}
      },
      "cell_type": "code",
      "source": [
        "#walkthrough\n"
      ],
      "execution_count": 0,
      "outputs": []
    },
    {
      "metadata": {
        "id": "fgB0lsr9KJnb",
        "colab_type": "code",
        "colab": {}
      },
      "cell_type": "code",
      "source": [
        "#problem\n",
        "import tensorflow as tf\n",
        "def create_prediction_function(model):\n",
        "#   model.save('model.h5')\n",
        "  return #Do not return anything"
      ],
      "execution_count": 0,
      "outputs": []
    },
    {
      "metadata": {
        "id": "_rY_Aafw-Xsq",
        "colab_type": "code",
        "colab": {}
      },
      "cell_type": "code",
      "source": [
        "#test\n",
        "import os.path\n",
        "import tensorflow as tf\n",
        "import numpy as np\n",
        "tf.logging.set_verbosity(tf.logging.ERROR)\n",
        "def warn(*args, **kwargs):\n",
        "    pass\n",
        "import warnings\n",
        "x = np.random.random((1000, 20))\n",
        "y = np.random.random((1000, 20))\n",
        "\n",
        "model = tf.keras.models.Sequential([\n",
        "    tf.keras.layers.Dense(8, 'relu'),\n",
        "    tf.keras.layers.Dense(1, 'relu')\n",
        "    ])\n",
        "model.compile(optimizer='adam',\n",
        "            loss='mean_squared_error',\n",
        "            metrics=['accuracy'])\n",
        "model.fit(x, y, epochs=1,verbose=0,batch_size=512)\n",
        "\n",
        "\n",
        "\n",
        "create_prediction_function(model)\n"
      ],
      "execution_count": 0,
      "outputs": []
    },
    {
      "metadata": {
        "id": "Rut0nif4LSiM",
        "colab_type": "code",
        "colab": {}
      },
      "cell_type": "code",
      "source": [
        "assert os.path.isfile('./model.h5'), \"Model not saved\""
      ],
      "execution_count": 0,
      "outputs": []
    }
  ]
}