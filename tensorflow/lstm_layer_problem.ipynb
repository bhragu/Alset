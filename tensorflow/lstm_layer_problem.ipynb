{
  "nbformat": 4,
  "nbformat_minor": 0,
  "metadata": {
    "colab": {
      "name": "lstm_layer_problem.ipynb",
      "version": "0.3.2",
      "provenance": [],
      "collapsed_sections": []
    },
    "kernelspec": {
      "name": "python3",
      "display_name": "Python 3"
    }
  },
  "cells": [
    {
      "metadata": {
        "id": "_AoPAUWo_8Ao",
        "colab_type": "text"
      },
      "cell_type": "markdown",
      "source": [
        "\n",
        "# LSTM Layer \n"
      ]
    },
    {
      "metadata": {
        "id": "Pyz6LxuUADwH",
        "colab_type": "code",
        "colab": {}
      },
      "cell_type": "code",
      "source": [
        "#walkthrough"
      ],
      "execution_count": 0,
      "outputs": []
    },
    {
      "metadata": {
        "id": "5UzPQEsn-nmy",
        "colab_type": "code",
        "colab": {}
      },
      "cell_type": "code",
      "source": [
        "#problem\n",
        "#replace * with LSTM\n",
        "import tensorflow as tf\n",
        "def create_prediction_function():\n",
        "  model = tf.keras.models.Sequential([\n",
        "      tf.keras.layers.*****(2, activation='sigmoid') \n",
        "  ])\n",
        "  return model"
      ],
      "execution_count": 0,
      "outputs": []
    },
    {
      "metadata": {
        "id": "VQv99n1pADL3",
        "colab_type": "code",
        "colab": {}
      },
      "cell_type": "code",
      "source": [
        "#test\n",
        "import tensorflow as tf\n",
        "tf.logging.set_verbosity(tf.logging.ERROR)\n",
        "def warn(*args, **kwargs):\n",
        "    pass\n",
        "import warnings\n",
        "warnings.warn = warn\n",
        "model = create_prediction_function()\n"
      ],
      "execution_count": 0,
      "outputs": []
    },
    {
      "metadata": {
        "id": "4ftFFzfp6j4C",
        "colab_type": "code",
        "colab": {}
      },
      "cell_type": "code",
      "source": [
        "assert str(type(model.get_layer(index = 0))) == \"<class 'tensorflow.python.keras.layers.recurrent.LSTM'>\", \"Model does not contain dense layer.\""
      ],
      "execution_count": 0,
      "outputs": []
    }
  ]
}