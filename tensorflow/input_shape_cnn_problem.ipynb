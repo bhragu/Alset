{
  "nbformat": 4,
  "nbformat_minor": 0,
  "metadata": {
    "colab": {
      "name": "input_shape_cnn_problem.ipynb",
      "version": "0.3.2",
      "provenance": [],
      "collapsed_sections": []
    },
    "kernelspec": {
      "name": "python3",
      "display_name": "Python 3"
    }
  },
  "cells": [
    {
      "metadata": {
        "id": "YMnmDfrn3Vey",
        "colab_type": "text"
      },
      "cell_type": "markdown",
      "source": [
        "\n",
        "# Input for the images or cnn\n"
      ]
    },
    {
      "metadata": {
        "id": "ypfw1F-f3huO",
        "colab_type": "code",
        "colab": {}
      },
      "cell_type": "code",
      "source": [
        "#problem\n",
        "#As we use keras high level api it uses other background so we need to reshape the images on the basis of the backend\n",
        "#check the documentation for a better idea\n"
      ],
      "execution_count": 0,
      "outputs": []
    },
    {
      "metadata": {
        "id": "5q-DzciV3hrg",
        "colab_type": "code",
        "colab": {}
      },
      "cell_type": "code",
      "source": [
        "#problem\n",
        "import tensorflow as tf\n",
        "def create_prediction_function(x, y):\n",
        "  img_rows, img_cols = 28, 28\n",
        "#   x = x.reshape(x.shape[0], img_rows, img_cols, 1)\n",
        "#   input_shape = (*, *, 1)\n",
        "  model = tf.keras.models.Sequential([\n",
        "      tf.keras.layers.Conv2D(8, kernel_size=(3, 3),\n",
        "                             activation='relu',\n",
        "                             input_shape=input_shape),\n",
        "      tf.keras.layers.Flatten(),\n",
        "      tf.keras.layers.Dense(1, activation='softmax')\n",
        "  ])\n",
        "  model.compile(optimizer='adam',\n",
        "                loss='sparse_categorical_crossentropy')\n",
        "  model.fit(x, y, epochs=1, batch_size = 1024, verbose = 0)\n",
        "\n",
        "  return model"
      ],
      "execution_count": 0,
      "outputs": []
    },
    {
      "metadata": {
        "id": "F_oh0i5i3hi7",
        "colab_type": "code",
        "colab": {}
      },
      "cell_type": "code",
      "source": [
        "# Tests\n",
        "from sklearn.metrics import accuracy_score\n",
        "import numpy as np\n",
        "tf.logging.set_verbosity(tf.logging.ERROR)\n",
        "def warn(*args, **kwargs):\n",
        "    pass\n",
        "import warnings\n",
        "warnings.warn = warn\n",
        "import tensorflow as tf\n",
        "mnist = tf.keras.datasets.mnist\n",
        "img_rows, img_cols = 28, 28\n",
        "(x_train, y_train),(x_test, y_test) = mnist.load_data()\n",
        "\n",
        "#filter to reduce the computation \n",
        "train_filter = np.where((y_train == 0 ))\n",
        "test_filter = np.where((y_test == 0))\n",
        "x_train, y_train = x_train[train_filter], y_train[train_filter]\n",
        "x_test, y_test = x_test[test_filter], y_test[test_filter]\n",
        "\n",
        "model = create_prediction_function(x_train, y_train)\n",
        "x_test = x_test.reshape(x_test.shape[0], img_rows, img_cols, 1)\n",
        "out=model.predict(x_test)\n",
        "out_classes = out.argmax(axis=-1)\n",
        "accuracy = accuracy_score(y_test, out_classes)"
      ],
      "execution_count": 0,
      "outputs": []
    },
    {
      "metadata": {
        "id": "yxh6vFEeIPOY",
        "colab_type": "code",
        "colab": {}
      },
      "cell_type": "code",
      "source": [
        "assert accuracy is not None, \"The shape specified is not correct. Please try again\""
      ],
      "execution_count": 0,
      "outputs": []
    }
  ]
}