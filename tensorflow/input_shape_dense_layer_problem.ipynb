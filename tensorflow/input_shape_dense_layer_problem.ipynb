{
  "nbformat": 4,
  "nbformat_minor": 0,
  "metadata": {
    "colab": {
      "name": "input_shape_dense_layer_problem.ipynb",
      "version": "0.3.2",
      "provenance": [],
      "collapsed_sections": []
    },
    "kernelspec": {
      "name": "python3",
      "display_name": "Python 3"
    }
  },
  "cells": [
    {
      "metadata": {
        "id": "wp8iL4wm22tt",
        "colab_type": "text"
      },
      "cell_type": "markdown",
      "source": [
        "\n",
        "# Input for the Dense\n"
      ]
    },
    {
      "metadata": {
        "id": "SvYeoyvu3CtS",
        "colab_type": "code",
        "colab": {}
      },
      "cell_type": "code",
      "source": [
        "#walkthrough\n",
        "# use \n",
        "# x.shape to get the shape nad them x.shape[1]"
      ],
      "execution_count": 0,
      "outputs": []
    },
    {
      "metadata": {
        "id": "HNldvtS03Ca6",
        "colab_type": "code",
        "colab": {}
      },
      "cell_type": "code",
      "source": [
        "#problem\n",
        "#use appropriate activation function\n",
        "import tensorflow as tf\n",
        "def create_prediction_function(x, y):\n",
        "#   input_dim = *Your Answer*\n",
        "  model = tf.keras.models.Sequential([\n",
        "#       tf.keras.layers.Dense(5, input_dim=input_dim, kernel_initializer='normal', activation='relu'),\n",
        "      tf.keras.layers.Dense(1, 'linear')\n",
        "      ])\n",
        "  model.compile(optimizer='adam',\n",
        "              loss='mean_squared_error',\n",
        "              metrics=['accuracy'])\n",
        "\n",
        "  model.fit(x, y, epochs=1,verbose=0,batch_size=64)\n",
        "  return model\n"
      ],
      "execution_count": 0,
      "outputs": []
    },
    {
      "metadata": {
        "id": "nk90SqAy3CPl",
        "colab_type": "code",
        "colab": {}
      },
      "cell_type": "code",
      "source": [
        "#test\n",
        "import os.path\n",
        "import tensorflow as tf\n",
        "import numpy as np\n",
        "from sklearn.model_selection import train_test_split\n",
        "from sklearn.metrics import mean_squared_error\n",
        "tf.logging.set_verbosity(tf.logging.ERROR)\n",
        "def warn(*args, **kwargs):\n",
        "    pass\n",
        "import warnings\n",
        "warnings.warn = warn\n",
        "x = np.random.random((100, 20))\n",
        "y = np.random.random((100))\n",
        "x_train, x_test, y_train, y_test = train_test_split(x, y, test_size=.2, random_state=5685)\n",
        "model = create_prediction_function(x_train, y_train)\n",
        "prediction = model.predict(x_test)\n",
        "mse = mean_squared_error(y_test, prediction)"
      ],
      "execution_count": 0,
      "outputs": []
    },
    {
      "metadata": {
        "id": "N1413--OBB9D",
        "colab_type": "code",
        "colab": {}
      },
      "cell_type": "code",
      "source": [
        "assert mse is not None , \"Your error is %f which is greater than the maximum error\"%mse"
      ],
      "execution_count": 0,
      "outputs": []
    }
  ]
}