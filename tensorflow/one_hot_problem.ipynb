{
  "nbformat": 4,
  "nbformat_minor": 0,
  "metadata": {
    "colab": {
      "name": "one_hot_problem.ipynb",
      "version": "0.3.2",
      "provenance": [],
      "collapsed_sections": []
    },
    "kernelspec": {
      "name": "python3",
      "display_name": "Python 3"
    }
  },
  "cells": [
    {
      "metadata": {
        "id": "drKY_xh17_t5",
        "colab_type": "text"
      },
      "cell_type": "markdown",
      "source": [
        "\n",
        "# One Hot Encoding\n",
        "\n"
      ]
    },
    {
      "metadata": {
        "id": "exUNY0rSA-u8",
        "colab_type": "code",
        "colab": {}
      },
      "cell_type": "code",
      "source": [
        "#walkthrough"
      ],
      "execution_count": 0,
      "outputs": []
    },
    {
      "metadata": {
        "id": "SuplMpiI8O6f",
        "colab_type": "code",
        "colab": {}
      },
      "cell_type": "code",
      "source": [
        "#Problem\n",
        "#replace ** with 'to_categorical'\n",
        "import tensorflow as tf\n",
        "from sklearn.preprocessing import LabelEncoder\n",
        "cities = ['New York','London','Hong Kong','Singapore','Frankfurt', 'Toronto', 'Hong Kong', 'Frankfurt','New York','Toronto','Singapore','London']\n",
        "encoder = LabelEncoder()\n",
        "# cities_encoded = encoder.fit_transform(cities)\n",
        "# cities_one_hot = tf.keras.utils.********(cities_encoded)"
      ],
      "execution_count": 0,
      "outputs": []
    },
    {
      "metadata": {
        "id": "l5an3tvq8Ohd",
        "colab_type": "code",
        "colab": {}
      },
      "cell_type": "code",
      "source": [
        "#Test Cases\n",
        "assert cities_one_hot is not None, \"No One Hot Encoding Found\"\n",
        "import random\n",
        "index = random.randint(0,len(cities_one_hot)-1)\n",
        "c = cities_one_hot[index]\n",
        "a=[x for x in c if x>0]"
      ],
      "execution_count": 0,
      "outputs": []
    },
    {
      "metadata": {
        "id": "kvmcSqjlpdEG",
        "colab_type": "code",
        "colab": {}
      },
      "cell_type": "code",
      "source": [
        "assert len(a)==1, \"Not One Hot encoded\""
      ],
      "execution_count": 0,
      "outputs": []
    }
  ]
}