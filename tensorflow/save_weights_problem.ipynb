{
  "nbformat": 4,
  "nbformat_minor": 0,
  "metadata": {
    "colab": {
      "name": "save_weights_problem.ipynb",
      "version": "0.3.2",
      "provenance": [],
      "collapsed_sections": []
    },
    "kernelspec": {
      "name": "python3",
      "display_name": "Python 3"
    }
  },
  "cells": [
    {
      "metadata": {
        "id": "_AoPAUWo_8Ao",
        "colab_type": "text"
      },
      "cell_type": "markdown",
      "source": [
        "\n",
        "# Save the weights of the model\n",
        "This is to save a a deep learning model\n"
      ]
    },
    {
      "metadata": {
        "id": "Pyz6LxuUADwH",
        "colab_type": "code",
        "colab": {}
      },
      "cell_type": "code",
      "source": [
        "#walkthrough"
      ],
      "execution_count": 0,
      "outputs": []
    },
    {
      "metadata": {
        "id": "fjGMbGTwADnM",
        "colab_type": "code",
        "colab": {}
      },
      "cell_type": "code",
      "source": [
        "#problem\n",
        "import tensorflow as tf\n",
        "def create_prediction_function(x, y):\n",
        "#   #save weights using 'save_weights'\n",
        "#   model.*******('weights.h5')\n",
        "  return #do not return anything"
      ],
      "execution_count": 0,
      "outputs": []
    },
    {
      "metadata": {
        "id": "BLed4J3JADTJ",
        "colab_type": "code",
        "colab": {}
      },
      "cell_type": "code",
      "source": [
        "#solution\n",
        "import tensorflow as tf\n",
        "def create_prediction_function(x, y):\n",
        "  model.save_weights('weights.h5')\n",
        "  return\n",
        "  \n",
        "  "
      ],
      "execution_count": 0,
      "outputs": []
    },
    {
      "metadata": {
        "id": "VQv99n1pADL3",
        "colab_type": "code",
        "colab": {}
      },
      "cell_type": "code",
      "source": [
        "#test\n",
        "import os.path\n",
        "import numpy as np\n",
        "tf.logging.set_verbosity(tf.logging.ERROR)\n",
        "def warn(*args, **kwargs):\n",
        "    pass\n",
        "import warnings\n",
        "x = np.random.random((1000, 20))\n",
        "y = np.random.random((1000, 20))\n",
        "model = tf.keras.models.Sequential([\n",
        "    tf.keras.layers.Dense(8, 'relu'),\n",
        "    tf.keras.layers.Dense(1, 'relu')\n",
        "    ])\n",
        "model.compile(optimizer='adam',\n",
        "            loss='mean_squared_error',\n",
        "            metrics=['accuracy'])\n",
        "model.fit(x, y, epochs=1,verbose=0,batch_size=128)\n",
        "create_prediction_function(x,y)\n",
        "file_exist = os.path.isfile('./weights.h5')  "
      ],
      "execution_count": 0,
      "outputs": []
    },
    {
      "metadata": {
        "id": "4ftFFzfp6j4C",
        "colab_type": "code",
        "colab": {}
      },
      "cell_type": "code",
      "source": [
        "assert file_exist, \"Weights are not saved\""
      ],
      "execution_count": 0,
      "outputs": []
    }
  ]
}