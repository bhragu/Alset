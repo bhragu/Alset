{
  "nbformat": 4,
  "nbformat_minor": 0,
  "metadata": {
    "colab": {
      "name": "regression1_problem.ipynb",
      "version": "0.3.2",
      "provenance": [],
      "collapsed_sections": []
    },
    "kernelspec": {
      "name": "python3",
      "display_name": "Python 3"
    }
  },
  "cells": [
    {
      "metadata": {
        "id": "dUMfaZBz5BAP",
        "colab_type": "text"
      },
      "cell_type": "markdown",
      "source": [
        "# Regression 1\n",
        "Aim to teach the number of classes thing\n"
      ]
    },
    {
      "metadata": {
        "id": "KWinI5Pn5WYX",
        "colab_type": "code",
        "colab": {}
      },
      "cell_type": "code",
      "source": [
        "#walkthrough"
      ],
      "execution_count": 0,
      "outputs": []
    },
    {
      "metadata": {
        "id": "3VTd_eez5WKR",
        "colab_type": "code",
        "colab": {}
      },
      "cell_type": "code",
      "source": [
        "#problem\n",
        "import tensorflow as tf\n",
        "def create_prediction_function(x, y):\n",
        "#   num_classes = *Enter the number of classes which is 1 in this case*\n",
        "#   input_dim = x.shape[1]\n",
        "  model = tf.keras.models.Sequential([\n",
        "      tf.keras.layers.Dense(32, input_dim=input_dim, kernel_initializer='normal', activation='relu'),\n",
        "#       tf.keras.layers.Dense(num_classes, 'relu')\n",
        "      ])\n",
        "  model.compile(optimizer='adam',\n",
        "              loss='mean_squared_error',)\n",
        "  model.summary()\n",
        "\n",
        "  model.fit(x, y, epochs=10,verbose=1,batch_size = 64)\n",
        "  return model"
      ],
      "execution_count": 0,
      "outputs": []
    },
    {
      "metadata": {
        "id": "OG7SMJaV5Vtv",
        "colab_type": "code",
        "colab": {}
      },
      "cell_type": "code",
      "source": [
        "#test\n",
        "import pandas as pd\n",
        "from sklearn.metrics import mean_squared_error #regression problem\n",
        "from sklearn.model_selection import train_test_split\n",
        "tf.logging.set_verbosity(tf.logging.ERROR)\n",
        "def warn(*args, **kwargs):\n",
        "    pass\n",
        "import warnings\n",
        "warnings.warn = warn\n",
        "%matplotlib inline \n",
        "\n",
        "df = pd.read_csv('https://docs.google.com/spreadsheets/d/1w1ykc27-yEGMQEbT93JMH66n3uu07di1dCg6B-saYRI/gviz/tq?tqx=out:csv&sheet=personal_data')\n",
        "x = df.iloc[:,:-1]\n",
        "y=df.iloc[:,-1:]\n",
        "\n",
        "x_train, x_test, y_train, y_test = train_test_split(x, y, test_size=.2, random_state=5685)\n",
        "model = create_prediction_function(x_train, y_train)\n",
        "\n",
        "from sklearn.preprocessing import StandardScaler\n",
        "sc = StandardScaler()\n",
        "x_test = sc.fit_transform(x_test)\n",
        "prediction = model.predict(x_test)\n",
        "mse = mean_squared_error(y_test, prediction)\n",
        "# mse\n",
        "max_error = 2\n"
      ],
      "execution_count": 0,
      "outputs": []
    },
    {
      "metadata": {
        "id": "nQ1MWGrZsCDC",
        "colab_type": "code",
        "colab": {}
      },
      "cell_type": "code",
      "source": [
        "assert mse < max_error , \"Your error is %f which is greater than the max error\"%mse"
      ],
      "execution_count": 0,
      "outputs": []
    }
  ]
}