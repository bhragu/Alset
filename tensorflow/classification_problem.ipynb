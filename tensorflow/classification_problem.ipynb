{
  "nbformat": 4,
  "nbformat_minor": 0,
  "metadata": {
    "colab": {
      "name": "classification_problem.ipynb",
      "version": "0.3.2",
      "provenance": [],
      "collapsed_sections": []
    },
    "kernelspec": {
      "name": "python3",
      "display_name": "Python 3"
    }
  },
  "cells": [
    {
      "metadata": {
        "id": "UseM6CjYxc5G",
        "colab_type": "text"
      },
      "cell_type": "markdown",
      "source": [
        "\n",
        "# IRIS\n"
      ]
    },
    {
      "metadata": {
        "id": "vQgwmuEcAdTL",
        "colab_type": "code",
        "colab": {}
      },
      "cell_type": "code",
      "source": [
        "#walkthrough"
      ],
      "execution_count": 0,
      "outputs": []
    },
    {
      "metadata": {
        "id": "W7UTfOeLGDko",
        "colab_type": "code",
        "colab": {}
      },
      "cell_type": "code",
      "source": [
        "#problem\n",
        "#Complete the problem the number of classes in this case is 3\n",
        "import tensorflow as tf\n",
        "import pandas as pd\n",
        "def create_prediction_function(x, y):\n",
        "  input_dim = x.shape[1]\n",
        "  num_classes = 3\n",
        "  model = tf.keras.models.Sequential([\n",
        "\n",
        "      ])\n",
        "  model.compile(optimizer='adam',\n",
        "              loss='sparse_categorical_crossentropy',\n",
        "              metrics=['accuracy'])\n",
        "\n",
        "  model.fit(x, y, epochs=100,verbose = 0)\n",
        "  return model"
      ],
      "execution_count": 0,
      "outputs": []
    },
    {
      "metadata": {
        "id": "arPjptdQTiaQ",
        "colab_type": "code",
        "colab": {}
      },
      "cell_type": "code",
      "source": [
        "#test\n",
        "import pandas as pd\n",
        "from sklearn.model_selection import train_test_split\n",
        "from sklearn.preprocessing import LabelEncoder\n",
        "from sklearn.metrics import accuracy_score\n",
        "import time\n",
        "tf.logging.set_verbosity(tf.logging.ERROR)\n",
        "def warn(*args, **kwargs):\n",
        "    pass\n",
        "import warnings\n",
        "warnings.warn = warn\n",
        "df = pd.read_csv('https://docs.google.com/spreadsheets/d/1Dzkd7ZLZOvjrLlH2oxI5KBz4PsxMCdR6DrW1W3hsfYA/gviz/tq?tqx=out:csv&sheet=personal_data')\n",
        "x=df.iloc[:,:-1]\n",
        "y=df.iloc[:,-1:]\n",
        "encoder = LabelEncoder()\n",
        "y = encoder.fit_transform(y)\n",
        "x_train, x_test, y_train, y_test = train_test_split(x, y, test_size=.2, random_state=5685)\n",
        "# y_train = tf.keras.utils.to_categorical(y_train)\n",
        "start_time = time.time()\n",
        "model = create_prediction_function(x_train, y_train)\n",
        "run_time = time.time() - start_time\n",
        "prediction = model.predict(x_test)\n",
        "prediction = prediction.argmax(axis=-1)\n",
        "accuracy = accuracy_score(y_test, prediction)\n",
        "max_time = 10\n",
        "min_accuracy = .85"
      ],
      "execution_count": 0,
      "outputs": []
    },
    {
      "metadata": {
        "id": "6-iO7w18uenV",
        "colab_type": "code",
        "colab": {}
      },
      "cell_type": "code",
      "source": [
        "assert run_time < max_time , \"Your run time is %f which is more than expected\"%max_time\n",
        "assert accuracy > min_accuracy, \"Your accuracy is %f which is less than expected\"%accuracy"
      ],
      "execution_count": 0,
      "outputs": []
    }
  ]
}