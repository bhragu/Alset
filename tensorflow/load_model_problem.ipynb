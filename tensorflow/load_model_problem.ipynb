{
  "nbformat": 4,
  "nbformat_minor": 0,
  "metadata": {
    "colab": {
      "name": "load_model_problem.ipynb",
      "version": "0.3.2",
      "provenance": [],
      "collapsed_sections": []
    },
    "kernelspec": {
      "name": "python3",
      "display_name": "Python 3"
    }
  },
  "cells": [
    {
      "metadata": {
        "id": "H2kX91Zn8_Cb",
        "colab_type": "text"
      },
      "cell_type": "markdown",
      "source": [
        "# Load a saved model\n",
        "This is to load a  saved a a deep learning model\n"
      ]
    },
    {
      "metadata": {
        "id": "JWM8T6o69XdX",
        "colab_type": "code",
        "colab": {}
      },
      "cell_type": "code",
      "source": [
        "#walkthrough"
      ],
      "execution_count": 0,
      "outputs": []
    },
    {
      "metadata": {
        "id": "h3S6QO-P9Wz_",
        "colab_type": "code",
        "colab": {}
      },
      "cell_type": "code",
      "source": [
        "#problem\n",
        "def create_prediction_function(x):\n",
        "#   from tensorflow.keras.models import load_model\n",
        "#   model = load_model(\"Name of the file which is load_model.h5 \")\n",
        "  return model.predict(x)"
      ],
      "execution_count": 0,
      "outputs": []
    },
    {
      "metadata": {
        "id": "BkexhcZg9WhA",
        "colab_type": "code",
        "colab": {}
      },
      "cell_type": "code",
      "source": [
        "#test\n",
        "import tensorflow as tf\n",
        "import numpy as np\n",
        "tf.logging.set_verbosity(tf.logging.ERROR)\n",
        "def warn(*args, **kwargs):\n",
        "    pass\n",
        "import warnings\n",
        "warnings.warn = warn\n",
        "from sklearn.metrics import accuracy_score\n",
        "x = np.random.random((1000, 20))\n",
        "y = np.random.random((1000, 20))\n",
        "x_test = np.random.random((50, 20))\n",
        "\n",
        "model = tf.keras.models.Sequential([\n",
        "    tf.keras.layers.Dense(8, 'relu'),\n",
        "    tf.keras.layers.Dense(1, 'relu')\n",
        "    ])\n",
        "model.compile(optimizer='adam',\n",
        "            loss='mean_squared_error',\n",
        "            metrics=['accuracy'])\n",
        "model.fit(x, y, epochs=1,verbose=0,batch_size=128)\n",
        "model.save('model_load.h5')\n",
        "del model\n",
        "\n",
        "prediction = create_prediction_function(x_test)"
      ],
      "execution_count": 0,
      "outputs": []
    },
    {
      "metadata": {
        "id": "Qum6XS03wh0J",
        "colab_type": "code",
        "colab": {}
      },
      "cell_type": "code",
      "source": [
        "assert prediction is not None, \"There is an in loading the model\""
      ],
      "execution_count": 0,
      "outputs": []
    }
  ]
}