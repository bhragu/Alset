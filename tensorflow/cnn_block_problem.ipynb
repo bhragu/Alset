{
  "nbformat": 4,
  "nbformat_minor": 0,
  "metadata": {
    "colab": {
      "name": "cnn_block_problem.ipynb",
      "version": "0.3.2",
      "provenance": [],
      "collapsed_sections": []
    },
    "kernelspec": {
      "name": "python3",
      "display_name": "Python 3"
    }
  },
  "cells": [
    {
      "metadata": {
        "id": "_AoPAUWo_8Ao",
        "colab_type": "text"
      },
      "cell_type": "markdown",
      "source": [
        "\n",
        "# CNN block\n",
        "A common cnn block\n"
      ]
    },
    {
      "metadata": {
        "id": "Pyz6LxuUADwH",
        "colab_type": "code",
        "colab": {}
      },
      "cell_type": "code",
      "source": [
        "#walkthrough"
      ],
      "execution_count": 0,
      "outputs": []
    },
    {
      "metadata": {
        "id": "5UzPQEsn-nmy",
        "colab_type": "code",
        "colab": {}
      },
      "cell_type": "code",
      "source": [
        "#problem\n",
        "#A simple cnn block\n",
        "#replace * with Conv2D\n",
        "#replace # by MaxPooling2D\n",
        "#replace % by dropout\n",
        "#number_of_hidden states with integer value\n",
        "import tensorflow as tf\n",
        "def create_prediction_function():\n",
        "#   model = tf.keras.models.$$$([\n",
        "#       tf.keras.layers.**(number_of_hidden_states, kernel_size=(3,3), activation='relu'),\n",
        "#       tf.keras.layers.##(pool_size=(2,2)),\n",
        "#       tf.keras.layers.%%(.25),\n",
        "#   ])\n",
        "  return model"
      ],
      "execution_count": 0,
      "outputs": []
    },
    {
      "metadata": {
        "id": "BLed4J3JADTJ",
        "colab_type": "code",
        "colab": {}
      },
      "cell_type": "code",
      "source": [
        "#solution\n",
        "import tensorflow as tf\n",
        "def create_prediction_function():\n",
        "  model = tf.keras.models.Sequential([\n",
        "      tf.keras.layers.Conv2D(32, kernel_size=(3,3), activation='relu'),\n",
        "      tf.keras.layers.MaxPooling2D(pool_size=(2,2)),\n",
        "      tf.keras.layers.Dropout(.25), \n",
        "  ])\n",
        "  return model\n"
      ],
      "execution_count": 0,
      "outputs": []
    },
    {
      "metadata": {
        "id": "VQv99n1pADL3",
        "colab_type": "code",
        "colab": {}
      },
      "cell_type": "code",
      "source": [
        "#test\n",
        "import tensorflow as tf\n",
        "tf.logging.set_verbosity(tf.logging.ERROR)\n",
        "def warn(*args, **kwargs):\n",
        "    pass\n",
        "import warnings\n",
        "warnings.warn = warn\n",
        "model = create_prediction_function()\n"
      ],
      "execution_count": 0,
      "outputs": []
    },
    {
      "metadata": {
        "id": "4ftFFzfp6j4C",
        "colab_type": "code",
        "colab": {}
      },
      "cell_type": "code",
      "source": [
        "assert str(type(model.get_layer(index = 0))) == \"<class 'tensorflow.python.keras.layers.convolutional.Conv2D'>\", \"Model does not contain Conv2D layer.\"\n",
        "assert str(type(model.get_layer(index = 1))) == \"<class 'tensorflow.python.keras.layers.pooling.MaxPooling2D'>\", \"Model does not contain Maxpool layer.\"\n",
        "assert str(type(model.get_layer(index = 2))) == \"<class 'tensorflow.python.keras.layers.core.Dropout'>\", \"Model does not contain dropout layer.\""
      ],
      "execution_count": 0,
      "outputs": []
    }
  ]
}