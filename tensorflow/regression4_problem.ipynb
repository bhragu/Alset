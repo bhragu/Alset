{
  "nbformat": 4,
  "nbformat_minor": 0,
  "metadata": {
    "colab": {
      "name": "regression4_problem.ipynb",
      "version": "0.3.2",
      "provenance": [],
      "collapsed_sections": []
    },
    "kernelspec": {
      "name": "python3",
      "display_name": "Python 3"
    }
  },
  "cells": [
    {
      "metadata": {
        "id": "OY-brMHRaPqt",
        "colab_type": "text"
      },
      "cell_type": "markdown",
      "source": [
        "\n",
        "#Regression 4  Full problem"
      ]
    },
    {
      "metadata": {
        "id": "ygplpqXrafhV",
        "colab_type": "code",
        "colab": {}
      },
      "cell_type": "code",
      "source": [
        "#walkthrough\n"
      ],
      "execution_count": 0,
      "outputs": []
    },
    {
      "metadata": {
        "id": "lfsiB-d9afcw",
        "colab_type": "code",
        "colab": {}
      },
      "cell_type": "code",
      "source": [
        "#problem\n",
        "#Tips \n",
        "#dont forget to normalise your data\n",
        "#check for the input dimensions of the data\n",
        "#the number of classes in this case is 1\n",
        "#avoid wide networks \n",
        "#you can achive better results with linear and relu activations in this case\n",
        "import tensorflow as tf\n",
        "def create_prediction_function(x, y):\n",
        "  model = tf.keras.models.Sequential([\n",
        "      ])\n",
        "  return model"
      ],
      "execution_count": 0,
      "outputs": []
    },
    {
      "metadata": {
        "id": "obFp7qRhafJi",
        "colab_type": "code",
        "colab": {}
      },
      "cell_type": "code",
      "source": [
        "#test\n",
        "import pandas as pd\n",
        "from sklearn.metrics import mean_squared_error #regression problem\n",
        "from sklearn.model_selection import train_test_split\n",
        "import tensorflow as tf\n",
        "import time\n",
        "tf.logging.set_verbosity(tf.logging.ERROR)\n",
        "def warn(*args, **kwargs):\n",
        "    pass\n",
        "import warnings\n",
        "warnings.warn = warn\n",
        "\n",
        "df = pd.read_csv('https://docs.google.com/spreadsheets/d/1qAlB8r-IOkVcfrL9qHy6W9Usfl8c0BHjrIxr84DefZU/gviz/tq?tqx=out:csv&sheet=personal_data')\n",
        "x=df.iloc[:,1:-1]\n",
        "y=df.iloc[:,-1:]\n",
        "\n",
        "x_train, x_test, y_train, y_test = train_test_split(x, y, test_size=.2, random_state=5685)\n",
        "start_time = time.time()\n",
        "model = create_prediction_function(x_train, y_train)\n",
        "run_time = time.time() - start_time\n",
        "from sklearn.preprocessing import StandardScaler\n",
        "sc = StandardScaler()\n",
        "x_test = sc.fit_transform(x_test)\n",
        "prediction = model.predict(x_test)\n",
        "mse = mean_squared_error(y_test, prediction)"
      ],
      "execution_count": 0,
      "outputs": []
    },
    {
      "metadata": {
        "id": "TxIxZRbVbJUr",
        "colab_type": "code",
        "colab": {}
      },
      "cell_type": "code",
      "source": [
        "assert run_time < 6,\"Your code takes more time.\"\n",
        "assert mse < .01,\"Try to reduce the mean squared error by using a deep network\""
      ],
      "execution_count": 0,
      "outputs": []
    }
  ]
}