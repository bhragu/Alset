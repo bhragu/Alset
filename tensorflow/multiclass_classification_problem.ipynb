{
  "nbformat": 4,
  "nbformat_minor": 0,
  "metadata": {
    "colab": {
      "name": "multiclass_classification_problem.ipynb",
      "version": "0.3.2",
      "provenance": [],
      "collapsed_sections": []
    },
    "kernelspec": {
      "name": "python3",
      "display_name": "Python 3"
    }
  },
  "cells": [
    {
      "metadata": {
        "id": "JtqNcfQfZyG2",
        "colab_type": "text"
      },
      "cell_type": "markdown",
      "source": [
        "\n",
        "# Multiclass Classification\n",
        "\n",
        "\n"
      ]
    },
    {
      "metadata": {
        "id": "owtq1S-nYbPB",
        "colab_type": "code",
        "colab": {}
      },
      "cell_type": "code",
      "source": [
        "#walkthrough\n",
        "# the aim of the problem is to make understand how to use  for multiclass classification"
      ],
      "execution_count": 0,
      "outputs": []
    },
    {
      "metadata": {
        "id": "r29DTu7naIzM",
        "colab_type": "code",
        "colab": {}
      },
      "cell_type": "code",
      "source": [
        "#problem\n",
        "import tensorflow as tf\n",
        "def create_prediction_function(x, y):\n",
        "#   num_classes = *Enter the number of classes which is 10 in this case*\n",
        "  model = tf.keras.models.Sequential([\n",
        "  tf.keras.layers.Dense(64, activation='relu', input_dim=20),\n",
        "  tf.keras.layers.Dropout(0.5),\n",
        "#   tf.keras.layers.Dense(num_classes, activation='*softmax*')\n",
        "#       ])\n",
        "\n",
        "#   model.compile(loss='******',\n",
        "#                 optimizer='adagrad',\n",
        "#                 metrics=['accuracy'])\n",
        "\n",
        "  model.fit(x_train, y_train,\n",
        "            epochs=20, verbose=0,\n",
        "            batch_size=128)\n",
        "  return model"
      ],
      "execution_count": 0,
      "outputs": []
    },
    {
      "metadata": {
        "id": "PQ8e7bAcaDZe",
        "colab_type": "code",
        "colab": {}
      },
      "cell_type": "code",
      "source": [
        "#test\n",
        "import numpy as np\n",
        "import pandas as pd\n",
        "from sklearn.metrics import accuracy_score\n",
        "tf.logging.set_verbosity(tf.logging.ERROR)\n",
        "def warn(*args, **kwargs):\n",
        "    pass\n",
        "import warnings\n",
        "\n",
        "x_train = np.random.random((1000, 20))\n",
        "y_train = tf.keras.utils.to_categorical(np.random.randint(10, size=(1000, 1)), num_classes=10)\n",
        "x_test = np.random.random((100, 20))\n",
        "y_test = np.random.randint(10, size=(100, 1))\n",
        "model = create_prediction_function(x_train, y_train)\n",
        "\n",
        "prediction = model.predict(x_test)\n",
        "prediction = prediction.argmax(axis=-1)\n",
        "accuracy = accuracy_score(y_test, prediction)\n",
        "assert accuracy is not None, \"Error\""
      ],
      "execution_count": 0,
      "outputs": []
    },
    {
      "metadata": {
        "id": "LlWufKDCXQkQ",
        "colab_type": "code",
        "colab": {}
      },
      "cell_type": "code",
      "source": [
        "assert accuracy is not None, \"Error\""
      ],
      "execution_count": 0,
      "outputs": []
    }
  ]
}