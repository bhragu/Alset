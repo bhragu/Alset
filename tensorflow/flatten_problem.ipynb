{
  "nbformat": 4,
  "nbformat_minor": 0,
  "metadata": {
    "colab": {
      "name": "flatten_problem.ipynb",
      "version": "0.3.2",
      "provenance": [],
      "collapsed_sections": []
    },
    "kernelspec": {
      "name": "python3",
      "display_name": "Python 3"
    }
  },
  "cells": [
    {
      "metadata": {
        "id": "TODHS_XLqfOU",
        "colab_type": "text"
      },
      "cell_type": "markdown",
      "source": [
        "\n",
        "# Using the Flatten \n",
        "So when we use the dense we cannot feed a m*n matrix to the dense layer where (m!=1 and n!=1 )"
      ]
    },
    {
      "metadata": {
        "id": "f9Go67WOqehb",
        "colab_type": "code",
        "colab": {}
      },
      "cell_type": "code",
      "source": [
        "#walkthrough"
      ],
      "execution_count": 0,
      "outputs": []
    },
    {
      "metadata": {
        "id": "mE6n6OLrrETf",
        "colab_type": "code",
        "colab": {}
      },
      "cell_type": "code",
      "source": [
        "#problem\n",
        "import tensorflow as tf\n",
        "def create_prediction_function(x, y):\n",
        "  model = tf.keras.models.Sequential([\n",
        "#       Use Flatten to flatten the input\n",
        "#       tf.keras.layers.*(),\n",
        "      tf.keras.layers.Dense(5, activation='relu'),\n",
        "      tf.keras.layers.Dense(1, activation='softmax')\n",
        "      ])\n",
        "  model.compile(optimizer='adam',\n",
        "              loss='sparse_categorical_crossentropy')\n",
        "\n",
        "  model.fit(x, y, epochs=1, batch_size= 1024,verbose=0)\n",
        "  return model"
      ],
      "execution_count": 0,
      "outputs": []
    },
    {
      "metadata": {
        "id": "OPuDMQuMrD46",
        "colab_type": "code",
        "colab": {}
      },
      "cell_type": "code",
      "source": [
        "# Tests\n",
        "from sklearn.metrics import accuracy_score\n",
        "import tensorflow as tf\n",
        "import numpy as np\n",
        "tf.logging.set_verbosity(tf.logging.ERROR)\n",
        "def warn(*args, **kwargs):\n",
        "    pass\n",
        "import warnings\n",
        "warnings.warn = warn\n",
        "mnist = tf.keras.datasets.mnist\n",
        "(x_train, y_train),(x_test, y_test) = mnist.load_data()\n",
        "train_filter = np.where((y_train == 0 ))\n",
        "test_filter = np.where((y_test == 0))\n",
        "x_train, y_train = x_train[train_filter], y_train[train_filter]\n",
        "x_test, y_test = x_test[test_filter], y_test[test_filter]\n",
        "model = create_prediction_function(x_train, y_train)\n",
        "out= model.predict(x_test)\n",
        "out_classes = out.argmax(axis=-1)\n",
        "accuracy = accuracy_score(y_test, out_classes)  "
      ],
      "execution_count": 0,
      "outputs": []
    },
    {
      "metadata": {
        "id": "599zIY1SRbsE",
        "colab_type": "code",
        "colab": {}
      },
      "cell_type": "code",
      "source": [
        "assert accuracy is not None, \"Your accuracy is %f which is less than the expected accuracy\"%accuracy"
      ],
      "execution_count": 0,
      "outputs": []
    }
  ]
}