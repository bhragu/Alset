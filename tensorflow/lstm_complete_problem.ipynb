{
  "nbformat": 4,
  "nbformat_minor": 0,
  "metadata": {
    "colab": {
      "name": "lstm_complete_problem.ipynb",
      "version": "0.3.2",
      "provenance": [],
      "collapsed_sections": []
    },
    "kernelspec": {
      "name": "python3",
      "display_name": "Python 3"
    }
  },
  "cells": [
    {
      "metadata": {
        "id": "RzobfEK6PmdL",
        "colab_type": "text"
      },
      "cell_type": "markdown",
      "source": [
        "#LSTM Complete Problem\n",
        "#warning: \n",
        "You may have to run the problem again if the error is around 10000\n",
        "Activation functions \n",
        "A stress is to be given on the shape of input of the lstm\n"
      ]
    },
    {
      "metadata": {
        "id": "yTtjCP9EPtqs",
        "colab_type": "code",
        "colab": {}
      },
      "cell_type": "code",
      "source": [
        "#walkthrough\n",
        "#Change the value of the activation functions from linear to other activation functions to reduce the error"
      ],
      "execution_count": 0,
      "outputs": []
    },
    {
      "metadata": {
        "id": "6IPkE75a6R9-",
        "colab_type": "code",
        "colab": {}
      },
      "cell_type": "code",
      "source": [
        "#problem\n",
        "def create_prediction_function(x, y):\n",
        "  num_classes = 1\n",
        "  input_shape = (1,x.shape[1])\n",
        "  num_classes = 1\n",
        "  model = tf.keras.models.Sequential([\n",
        "#       tf.keras.layers.***(*****,input_shape = ******, activation='relu'),\n",
        "      tf.keras.layers.Dense(8, activation= 'relu'),\n",
        "      tf.keras.layers.Dense(num_classes, activation='relu')\n",
        "      ])\n",
        "  model.compile(optimizer='adam',\n",
        "              loss='mean_squared_error',\n",
        "              metrics=['accuracy'])\n",
        "  model.fit(x, y, epochs=1000,verbose=0,batch_size=128)\n",
        "  return model"
      ],
      "execution_count": 0,
      "outputs": []
    },
    {
      "metadata": {
        "id": "-gpe8w3EPuSU",
        "colab_type": "code",
        "colab": {}
      },
      "cell_type": "code",
      "source": [
        "\n",
        "\n",
        "#test\n",
        "import pandas as pd\n",
        "from sklearn.metrics import mean_squared_error \n",
        "from sklearn.model_selection import train_test_split\n",
        "import tensorflow as tf\n",
        "import time\n",
        "tf.logging.set_verbosity(tf.logging.ERROR)\n",
        "def warn(*args, **kwargs):\n",
        "    pass\n",
        "import warnings\n",
        "warnings.warn = warn\n",
        "%matplotlib inline\n",
        "max_error = 20\n",
        "df = pd.read_csv('https://docs.google.com/spreadsheets/d/1Dltn0EknBE9QehirizEJwwW4ABq3l6Z6hQ8b-OyRHhk/gviz/tq?tqx=out:csv&sheet=personal_data')\n",
        "x = df.iloc[:,1:4].values\n",
        "y=df.iloc[:,4:5]\n",
        "\n",
        "x_train, x_test, y_train, y_test = train_test_split(x, y, test_size=.2, random_state=5685)\n",
        "x_test = x_test.reshape(x_test.shape[0],1,x_test.shape[1])\n",
        "start_time = time.time()\n",
        "model = create_prediction_function(x_train, y_train)\n",
        "run_time = time.time() - start_time\n",
        "prediction = model.predict(x_test)\n",
        "mse = mean_squared_error(y_test, prediction)\n",
        "max_time = 10"
      ],
      "execution_count": 0,
      "outputs": []
    },
    {
      "metadata": {
        "id": "8YmT6zbj2c6a",
        "colab_type": "code",
        "colab": {}
      },
      "cell_type": "code",
      "source": [
        "assert mse < max_error , \"Your error is %f which is greater than the maximum error\"%mse\n",
        "assert run_time < max_time , \"Your time is %f which is greater than the maximum time\"%run_time"
      ],
      "execution_count": 0,
      "outputs": []
    }
  ]
}