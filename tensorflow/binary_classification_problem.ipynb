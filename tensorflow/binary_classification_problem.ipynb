{
  "nbformat": 4,
  "nbformat_minor": 0,
  "metadata": {
    "colab": {
      "name": "binary_classification_problem.ipynb",
      "version": "0.3.2",
      "provenance": [],
      "collapsed_sections": []
    },
    "kernelspec": {
      "name": "python3",
      "display_name": "Python 3"
    }
  },
  "cells": [
    {
      "metadata": {
        "id": "4TJFbhlzUhZ2",
        "colab_type": "text"
      },
      "cell_type": "markdown",
      "source": [
        "\n",
        "# Binary Classification\n",
        "\n",
        "\n"
      ]
    },
    {
      "metadata": {
        "id": "Gu5Hw0Fz-pUG",
        "colab_type": "code",
        "colab": {}
      },
      "cell_type": "code",
      "source": [
        "#walkthrough\n",
        "# the aim of the problem is to make understand how to use to use for binary classification"
      ],
      "execution_count": 0,
      "outputs": []
    },
    {
      "metadata": {
        "id": "mxE9U7AIUvR5",
        "colab_type": "code",
        "colab": {}
      },
      "cell_type": "code",
      "source": [
        "#problem\n",
        "# import *library* as tf\n",
        "def create_prediction_function(x, y):\n",
        "#   num_classes = *Enter the number of classes which is 1 in this case*\n",
        "  model = tf.keras.models.Sequential([\n",
        "  tf.keras.layers.Dense(64, input_dim=20, activation='relu'),\n",
        "  tf.keras.layers.Dropout(0.5),\n",
        "#   tf.keras.layers.Dense(num_classes, activation='*sigmoid*')\n",
        "      ])\n",
        "\n",
        "#   model.compile(loss='**********',\n",
        "#                 optimizer='rmsprop',\n",
        "#                 metrics=['accuracy'])\n",
        "\n",
        "  model.fit(x_train, y_train,\n",
        "            epochs=2, verbose=0,\n",
        "            batch_size=512)\n",
        "  return model  \n"
      ],
      "execution_count": 0,
      "outputs": []
    },
    {
      "metadata": {
        "id": "2kj8_hsuUvJq",
        "colab_type": "code",
        "colab": {}
      },
      "cell_type": "code",
      "source": [
        "#solution\n",
        "import tensorflow as tf\n",
        "def create_prediction_function(x, y):\n",
        "  model = tf.keras.models.Sequential([\n",
        "  tf.keras.layers.Dense(64, input_dim=20, activation='relu'),\n",
        "  tf.keras.layers.Dropout(0.5),\n",
        "  tf.keras.layers.Dense(1, activation='sigmoid')\n",
        "      ])\n",
        "\n",
        "  model.compile(loss='binary_crossentropy',\n",
        "                optimizer='rmsprop',\n",
        "                metrics=['accuracy'])\n",
        "\n",
        "  model.fit(x_train, y_train,\n",
        "            epochs=2, verbose=0,\n",
        "            batch_size=512)\n",
        "  return model  \n"
      ],
      "execution_count": 0,
      "outputs": []
    },
    {
      "metadata": {
        "id": "QketuH-jU1kM",
        "colab_type": "code",
        "colab": {}
      },
      "cell_type": "code",
      "source": [
        "#test\n",
        "import numpy as np\n",
        "import pandas as pd\n",
        "tf.logging.set_verbosity(tf.logging.ERROR)\n",
        "def warn(*args, **kwargs):\n",
        "    pass\n",
        "import warnings\n",
        "warnings.warn = warn\n",
        "import tensorflow as tf\n",
        "from sklearn.metrics import accuracy_score\n",
        "x_train = np.random.random((1000, 20))\n",
        "y_train = np.random.randint(2, size=(1000, 1))\n",
        "x_test = np.random.random((100, 20))\n",
        "y_test = np.random.randint(2, size=(100, 1))\n",
        "model = create_prediction_function(x_train, y_train)\n",
        "\n",
        "prediction = model.predict(x_test)\n",
        "prediction = prediction.argmax(axis=-1)\n",
        "accuracy = accuracy_score(y_test, prediction)"
      ],
      "execution_count": 0,
      "outputs": []
    },
    {
      "metadata": {
        "id": "E-_hEAypceQ0",
        "colab_type": "code",
        "colab": {}
      },
      "cell_type": "code",
      "source": [
        "assert accuracy is not None, \"Error\""
      ],
      "execution_count": 0,
      "outputs": []
    }
  ]
}