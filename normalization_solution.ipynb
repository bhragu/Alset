{
  "nbformat": 4,
  "nbformat_minor": 0,
  "metadata": {
    "colab": {
      "name": "normalization_solution.ipynb",
      "version": "0.3.2",
      "provenance": [],
      "collapsed_sections": []
    },
    "kernelspec": {
      "name": "python3",
      "display_name": "Python 3"
    }
  },
  "cells": [
    {
      "metadata": {
        "colab_type": "text",
        "id": "spCG6vLbibHw"
      },
      "cell_type": "markdown",
      "source": [
        "#Normalization\n",
        "\n",
        "\n"
      ]
    },
    {
      "metadata": {
        "colab_type": "code",
        "id": "Q1mV9T9xibIK",
        "colab": {}
      },
      "cell_type": "code",
      "source": [
        "#walkthrough\n"
      ],
      "execution_count": 0,
      "outputs": []
    },
    {
      "metadata": {
        "colab_type": "code",
        "id": "LBs0hRRcibI3",
        "colab": {}
      },
      "cell_type": "code",
      "source": [
        "#Solution\n",
        "\n",
        "def normalize_function(x):\n",
        "  from sklearn.preprocessing import StandardScaler\n",
        "  sc = StandardScaler()\n",
        "  x= sc.fit_transform(x)\n",
        "  return x"
      ],
      "execution_count": 0,
      "outputs": []
    },
    {
      "metadata": {
        "colab_type": "code",
        "id": "r7LFCX8wibJD",
        "colab": {}
      },
      "cell_type": "code",
      "source": [
        "\n",
        "# Tests \n",
        "import pandas as pd\n",
        "from io import StringIO\n",
        "import numpy as np\n",
        "def warn(*args, **kwargs):\n",
        "    pass\n",
        "import warnings\n",
        "warnings.warn = warn\n",
        "import random\n",
        "\n",
        "data=\"\"\"x1,x2,y\n",
        "2.10225008,74.3619313,0\n",
        "8.9342787, 67.4343639,1\n",
        "0.6235418, 85.4195566,0\n",
        "7.65353618,29.6756162,1\n",
        "2.13802936,54.9384956,0\n",
        "6.99899696,54.3226322,1\n",
        "6.48713679,65.7475047,1\n",
        "2.2908677, 83.8100975,0\n",
        "7.78421005,79.6276373,1\n",
        "2.74905884,69.2686946,0\n",
        "\"\"\"\n",
        "\n",
        "df = pd.read_csv(StringIO(data))\n",
        "x = df.iloc[:, :-1].values\n",
        "y = df.iloc[:, 2].values\n",
        "normalized = normalize_function(df)\n",
        "column_mean = np.round(np.mean(normalized, axis = 0))\n",
        "std = np.round(np.std(normalized, axis=0))\n",
        "column_mean = np.round(np.mean(normalized, axis = 0))\n",
        "std = np.round(np.std(normalized, axis=0))"
      ],
      "execution_count": 0,
      "outputs": []
    },
    {
      "metadata": {
        "colab_type": "code",
        "id": "X0yn85x0ibJM",
        "colab": {}
      },
      "cell_type": "code",
      "source": [
        "\n",
        "##the actual test cases MEAN should be 0 after zscaler and the sd should be 1\n",
        "\n",
        "assert column_mean[random.randint(0,len(column_mean)-1)] ==0 ,\"You have not normalized the data as the mean is not zero\"\n",
        "assert std[random.randint(0,len(std)-1)] ==1 ,\"You have not normalized the data as the standard deviation is not 1\""
      ],
      "execution_count": 0,
      "outputs": []
    }
  ]
}