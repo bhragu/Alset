{
  "nbformat": 4,
  "nbformat_minor": 0,
  "metadata": {
    "colab": {
      "name": "handling_missing_values2_problem.ipynb",
      "version": "0.3.2",
      "provenance": [],
      "include_colab_link": true
    },
    "kernelspec": {
      "name": "python3",
      "display_name": "Python 3"
    }
  },
  "cells": [
    {
      "cell_type": "markdown",
      "metadata": {
        "id": "view-in-github",
        "colab_type": "text"
      },
      "source": [
        "<a href=\"https://colab.research.google.com/github/melikaf/Alset/blob/master/handling_missing_values2_problem.ipynb\" target=\"_parent\"><img src=\"https://colab.research.google.com/assets/colab-badge.svg\" alt=\"Open In Colab\"/></a>"
      ]
    },
    {
      "metadata": {
        "id": "N0Hk0HeepIID",
        "colab_type": "text"
      },
      "cell_type": "markdown",
      "source": [
        "\n",
        "#Handling Missing Values 2\n",
        "\n",
        "\n"
      ]
    },
    {
      "metadata": {
        "colab_type": "code",
        "id": "T-wRPeWuzpAH",
        "colab": {}
      },
      "cell_type": "code",
      "source": [
        "#walkthrough\n"
      ],
      "execution_count": 0,
      "outputs": []
    },
    {
      "metadata": {
        "colab_type": "code",
        "id": "KmpiiztAzpAm",
        "colab": {}
      },
      "cell_type": "code",
      "source": [
        "#Problem\n",
        "def create_prediction_function(x):\n",
        "#   import pandas as pd\n",
        "#   from sklearn.preprocessing import Imputer\n",
        "#   impute = Imputer(missing_values = 'NaN', strategy = 'mean', axis = 0)\n",
        "#   x = impute.fit_transform(x)\n",
        "  return x"
      ],
      "execution_count": 0,
      "outputs": []
    },
    {
      "metadata": {
        "colab_type": "code",
        "id": "oqQ9Kj7PzpA0",
        "colab": {}
      },
      "cell_type": "code",
      "source": [
        "\n",
        "# Tests \n",
        "def warn(*args, **kwargs):\n",
        "    pass\n",
        "import warnings\n",
        "warnings.warn = warn\n",
        "import pandas as pd\n",
        "df = pd.read_csv('https://docs.google.com/spreadsheets/d/1bpTtTaZhH1l2cGRQhbi9IaOnprvjKDIu0nGy597lXm0/gviz/tq?tqx=out:csv&sheet=personal_data')\n",
        "df = create_prediction_function(df)\n",
        "df = pd.DataFrame(df)"
      ],
      "execution_count": 0,
      "outputs": []
    },
    {
      "metadata": {
        "colab_type": "code",
        "id": "vPTCjqSHzpA7",
        "colab": {}
      },
      "cell_type": "code",
      "source": [
        "assert df.isnull().any().any() == False, \"Missing Values not removed\"\n"
      ],
      "execution_count": 0,
      "outputs": []
    }
  ]
}