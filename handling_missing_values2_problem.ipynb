{
  "nbformat": 4,
  "nbformat_minor": 0,
  "metadata": {
    "colab": {
      "name": "handling_missing_values2_problem.ipynb",
      "version": "0.3.2",
      "provenance": [],
      "collapsed_sections": [],
      "include_colab_link": true
    },
    "kernelspec": {
      "name": "python3",
      "display_name": "Python 3"
    }
  },
  "cells": [
    {
      "cell_type": "markdown",
      "metadata": {
        "id": "view-in-github",
        "colab_type": "text"
      },
      "source": [
        "<a href=\"https://colab.research.google.com/github/melikaf/Alset/blob/master/handling_missing_values2_problem.ipynb\" target=\"_parent\"><img src=\"https://colab.research.google.com/assets/colab-badge.svg\" alt=\"Open In Colab\"/></a>"
      ]
    },
    {
      "metadata": {
        "id": "N0Hk0HeepIID",
        "colab_type": "text"
      },
      "cell_type": "markdown",
      "source": [
        "\n",
        "#Handling Missing Values 2\n",
        "\n",
        "\n"
      ]
    },
    {
      "metadata": {
        "id": "sUdN6cT16Xrq",
        "colab_type": "text"
      },
      "cell_type": "markdown",
      "source": [
        "One of the most common ways to handle missing values of an attribute is replacing the missed values with the mean or median or mode value for that attribute. In pandas dataframe you can replace missed values of dataframe x with the mean of their column like this:\n",
        "\n",
        "\n",
        "     x.fillna(x.mean(), inplace=True)  \n",
        "     \n",
        "Now you should change the replace_missing_values_function to takes in an input x that is a dataframe and replace all the missing values with the mean of their column.\n"
      ]
    },
    {
      "metadata": {
        "colab_type": "code",
        "id": "KmpiiztAzpAm",
        "colab": {}
      },
      "cell_type": "code",
      "source": [
        "#Problem\n",
        "def replace_missing_values_function(x):\n",
        "  # your solution for handling the missing values\n",
        "  return x"
      ],
      "execution_count": 0,
      "outputs": []
    },
    {
      "metadata": {
        "colab_type": "code",
        "id": "oqQ9Kj7PzpA0",
        "colab": {}
      },
      "cell_type": "code",
      "source": [
        "\n",
        "# Tests \n",
        "def warn(*args, **kwargs):\n",
        "    pass\n",
        "import warnings\n",
        "warnings.warn = warn\n",
        "import pandas as pd\n",
        "df = pd.read_csv('https://docs.google.com/spreadsheets/d/1bpTtTaZhH1l2cGRQhbi9IaOnprvjKDIu0nGy597lXm0/gviz/tq?tqx=out:csv&sheet=personal_data')\n",
        "df = replace_missing_values_function(df)\n",
        "df = pd.DataFrame(df)"
      ],
      "execution_count": 0,
      "outputs": []
    },
    {
      "metadata": {
        "colab_type": "code",
        "id": "vPTCjqSHzpA7",
        "colab": {}
      },
      "cell_type": "code",
      "source": [
        "assert df.isnull().any().any() == False, \"Missing Values not removed\"\n"
      ],
      "execution_count": 0,
      "outputs": []
    }
  ]
}