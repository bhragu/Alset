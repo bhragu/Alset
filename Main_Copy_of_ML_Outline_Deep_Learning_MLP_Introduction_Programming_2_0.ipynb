{
  "nbformat": 4,
  "nbformat_minor": 0,
  "metadata": {
    "colab": {
      "name": "Main Copy of ML Outline Deep Learning MLP Introduction - Programming 2_0.ipynb",
      "version": "0.3.2",
      "provenance": [],
      "collapsed_sections": [],
      "include_colab_link": true
    },
    "kernelspec": {
      "name": "python3",
      "display_name": "Python 3"
    }
  },
  "cells": [
    {
      "cell_type": "markdown",
      "metadata": {
        "id": "view-in-github",
        "colab_type": "text"
      },
      "source": [
        "<a href=\"https://colab.research.google.com/github/bhragu/Alset/blob/master/Main_Copy_of_ML_Outline_Deep_Learning_MLP_Introduction_Programming_2_0.ipynb\" target=\"_parent\"><img src=\"https://colab.research.google.com/assets/colab-badge.svg\" alt=\"Open In Colab\"/></a>"
      ]
    },
    {
      "metadata": {
        "id": "S91UFu6Es_8e",
        "colab_type": "code",
        "outputId": "855557f1-ccea-4519-a976-40525dafb005",
        "colab": {
          "base_uri": "https://localhost:8080/",
          "height": 348
        }
      },
      "cell_type": "code",
      "source": [
        "import os.path\n",
        "import requests\n",
        "import csv\n",
        "#add urls in the urls list and the corresponding file name with proper file format in the filenames list and the index should be the same\n",
        "#dict can also be used try using that\n",
        "urls = ['https://docs.google.com/spreadsheets/d/1htvO8t52qkFov2n1_oM7YGJUiFNKehaB-59R0hSY5LM/gviz/tq?tqx=out:csv&sheet=personal_data',\n",
        "        'https://docs.google.com/spreadsheets/d/1GYALkvV6KAKD_EGOv5VwlGj4IhHfD-TI8A6VDJa-Omc/gviz/tq?tqx=out:csv&sheet=personal_data',\n",
        "        'https://docs.google.com/spreadsheets/d/1Dzkd7ZLZOvjrLlH2oxI5KBz4PsxMCdR6DrW1W3hsfYA/gviz/tq?tqx=out:csv&sheet=personal_data',\n",
        "        'https://docs.google.com/spreadsheets/d/1qAlB8r-IOkVcfrL9qHy6W9Usfl8c0BHjrIxr84DefZU/gviz/tq?tqx=out:csv&sheet=personal_data',\n",
        "        'https://docs.google.com/spreadsheets/d/1yPhDnJ5LBQPg8Lf9WjXIFTD0Yw0cCrBKhMl6fdYzoXo/gviz/tq?tqx=out:csv&sheet=personal_data',\n",
        "        'https://docs.google.com/spreadsheets/d/1cUgZ6qWj6sxuXEmiB3X1UYlrmHm8DmRG1GEvGqaFPmE/gviz/tq?tqx=out:csv&sheet=personal_data',\n",
        "        'https://docs.google.com/spreadsheets/d/1nMmHWnu-9VKh0jE7YZUF41UCDD7JlwHiRX-9KyoMhBQ/gviz/tq?tqx=out:csv&sheet=personal_data',\n",
        "        'https://docs.google.com/spreadsheets/d/1dkAiy6_T3DzmKXjM9vZsFDCIy-PuqM0J4DKApHXs04A/gviz/tq?tqx=out:csv&sheet=personal_data',\n",
        "        'https://docs.google.com/spreadsheets/d/1w1ykc27-yEGMQEbT93JMH66n3uu07di1dCg6B-saYRI/gviz/tq?tqx=out:csv&sheet=personal_data',\n",
        "]\n",
        "filenames = ['titanic.csv', 'gender.csv', 'iris.csv','graduate_admission.csv', 'online_news_popularity.csv', 'air_quality.csv', 'absenteeism_at_work.csv', 'housing.csv', 'quadratic_data.csv']\n",
        "\n",
        "for files, url in zip(filenames, urls):\n",
        "    file_exist = os.path.isfile('./'+files)\n",
        "    if not file_exist:\n",
        "        print('Downloading file '+files+'\\n')\n",
        "        file = requests.get(url)\n",
        "        with open('./'+files, 'w') as f:\n",
        "            writer = csv.writer(f)\n",
        "            reader = csv.reader(file.text.splitlines())\n",
        "            for row in reader:\n",
        "                writer.writerow(row)\n",
        "\n",
        "            "
      ],
      "execution_count": 0,
      "outputs": [
        {
          "output_type": "stream",
          "text": [
            "Downloading file titanic.csv\n",
            "\n",
            "Downloading file gender.csv\n",
            "\n",
            "Downloading file iris.csv\n",
            "\n",
            "Downloading file graduate_admission.csv\n",
            "\n",
            "Downloading file online_news_popularity.csv\n",
            "\n",
            "Downloading file air_quality.csv\n",
            "\n",
            "Downloading file absenteeism_at_work.csv\n",
            "\n",
            "Downloading file housing.csv\n",
            "\n",
            "Downloading file quadratic_data.csv\n",
            "\n"
          ],
          "name": "stdout"
        }
      ]
    },
    {
      "metadata": {
        "id": "78GEpHaZHKjX",
        "colab_type": "code",
        "colab": {}
      },
      "cell_type": "code",
      "source": [
        ""
      ],
      "execution_count": 0,
      "outputs": []
    },
    {
      "metadata": {
        "id": "POd7kED6-beR",
        "colab_type": "code",
        "colab": {}
      },
      "cell_type": "code",
      "source": [
        ""
      ],
      "execution_count": 0,
      "outputs": []
    },
    {
      "metadata": {
        "id": "SYb8goYoQgU7",
        "colab_type": "code",
        "colab": {}
      },
      "cell_type": "code",
      "source": [
        "import tensorflow as tf\n",
        "mnist = tf.keras.datasets.mnist"
      ],
      "execution_count": 0,
      "outputs": []
    },
    {
      "metadata": {
        "id": "6rFouwDj3cJ1",
        "colab_type": "code",
        "colab": {}
      },
      "cell_type": "code",
      "source": [
        "#The general convention of the notebook is the x is the feature and y is the target"
      ],
      "execution_count": 0,
      "outputs": []
    },
    {
      "metadata": {
        "id": "sY96aPI-kVPC",
        "colab_type": "text"
      },
      "cell_type": "markdown",
      "source": [
        "# Outline\n",
        "\n",
        "0.  [Template](#scrollTo=-1qnq8Ji3SwC) - Adjust the function for a line on [Colab](TBD) \n",
        "    on [ML Path](TBD)\n",
        "    \n",
        "1. [Create an OR function](#scrollTo=26CqFcpMjYiW) \n",
        "2. [Write an AND function](#scrollTo=cTDc4gq4muca)\n",
        "3. [Create the predict_nand function](#scrollTo=xy90NQUYaSt_)\n",
        "4. [Train a perceptron](#scrollTo=OKzocx645S0H) \n",
        "\n",
        "4. [Train a model and return a prediction function.](#scrollTo=q7794Zff5XCG)\n",
        "6. [XOR](#scrollTo=fxgnsFYbC0vE) - Create prediction function that can learn the XOR pattern. \n",
        "7. [Unseen values](#scrollTo=jieCTN29pnZC) - Predict unseen values\n",
        "1. [Iris](#scrollTo=UseM6CjYxc5G)\n",
        "1. [cifar](#scrollTo=t1v6vykS8tLl)\n",
        "1. [One hot](#scrollTo=drKY_xh17_t5)\n",
        "1. [Label Encoding](#scrollTo=EN3lYppxuLys)\n",
        "1. [Binary not working the way wanted ](#scrollTo=S6HWUoxRAq-X)\n",
        "1. [multiclass](#scrollTo=EUmyIgeSuXvM)\n",
        "1. [hidden parameter](#scrollTo=VUWYbtpI3Ph5)\n",
        "1. [test train split](#scrollTo=wex3dnQ9ot-a)\n",
        "1. [mnist without cnn](#scrollTo=LbH16vV-pLe6)\n",
        "1. [mnist with cnn](#scrollTo=y5w16jmbqi6y)\n",
        "1. [fashion mnist]()\n",
        "1. [rnn]\n",
        "1. [Grad school problem](#scrollTo=OY-brMHRaPqt)\n",
        "1. [Housing Regression](#scrollTo=2HqjTUQcvdrk)\n",
        "1. [Housing Regression ML](#scrollTo=yZZ6Hhla0g43)\n",
        "1. [Housing Regression Activation](#scrollTo=RzobfEK6PmdL)\n",
        "1. [Input for dense](#scrollTo=wp8iL4wm22tt)\n",
        "1. [Linear Regression Fails](#scrollTo=dUMfaZBz5BAP)\n",
        "1. [Linear Regressio tensorflow](#scrollTo=n0Q0SYDEB4nK)\n",
        "1. [Input for cnn mainly images](#scrollTo=YMnmDfrn3Vey)\n",
        "1. [Flatten layer for dense](#scrollTo=TODHS_XLqfOU)\n",
        "\n",
        "\n",
        "\n",
        "Notes: \n",
        "\n",
        "Programming 2.0\n",
        "https://www.youtube.com/watch?v=y57wwucbXR8\n",
        "\n",
        "\n",
        "Visualize what the model is doing by creating a scatter plot. \n",
        "2D Line - let's predict test points that we've never seen. We can visualize with a scatter plot. \n",
        "Pull data from a multi-line string rather than a list of lists. \n",
        "What would the function for this line be? Try writing the function rather than training the function. \n",
        "Here is a harder function to find with decimals in the slope and intercept. Find the function. \n",
        "Now let's train to find the harder function. MLPs can be faster and more precise than trail and error. \n",
        "\n",
        "Circle - what about when the rules are harder to define than capturing data is? \n",
        "Oval - The formula for this diagonally shifted oval might be harder to determine. \n",
        "\n",
        "3D plane data\n",
        "3D sphere data\n",
        "4D data - MLPs don't need to be able to visualize the n-dimentional space. They can still find the coefficients. \n",
        "\n",
        "Downloading data\n",
        "- Remote csv files\n",
        "- Live spreadsheets\n",
        "\n",
        "Non-spacial data problems\n",
        "- Titanic survival\n",
        "- Orchid classification\n",
        "- Gender prediction from height\n",
        "\n",
        "Image recognition problems\n",
        "- MNIST character recognition\n",
        "- (a simple facial recognition problem)\n",
        "\n",
        "Exporting and saving models\n",
        "  \n",
        "Importing and applying pre-trained models \n",
        "\n",
        "Alternate library approaches\n",
        "- Tensorflow (currently the most popular)\n",
        "\n",
        "\n",
        "Tensorflow.js Examples (Javascript)\n",
        "- Tensorflow playground\n",
        "- Labeled image capture to control Pacman game\n",
        "- https://snakes.ai/playsnake/\n",
        "- https://aijs.rocks/ - Collection of javascript example runnable in a browswer.\n",
        "- Customizable demo in CodeSandbox with exportable model and dataset\n",
        "- Round trip development between javascript dataset capture and python training. \n",
        "\n",
        "ALSET Datalake data examples\n",
        "ALSET Achievements data examples\n",
        "\n",
        "What else would be covered in Fast.ai's freely available content? \n",
        "https://course.fast.ai/\n",
        "https://course.fast.ai/part2.html\n",
        "\n",
        "- CNNs \n",
        "- RNNs (timeseries)\n",
        "\n",
        "\n",
        "Case Studies to Cover\n",
        "- Japan cucumber sorter\n",
        "- Open AI robotic hand programming\n",
        "- Etc. \n",
        "\n",
        "\n",
        "What's the hardest part of ML? The most expensive? The most time-consuming? Survey results:\n",
        "- data collection & labelling\n",
        "- data cleaning\n",
        "- modelling / science\n",
        "- implementation\n",
        "- infrastructure / cloud SysOps\n",
        "- deployment\n",
        "- maintenance\n",
        "\n",
        "We will focus on these skills which tend to be hardest and most time consuming. \n",
        "\n"
      ]
    },
    {
      "metadata": {
        "id": "wp8iL4wm22tt",
        "colab_type": "text"
      },
      "cell_type": "markdown",
      "source": [
        "[Top](#scrollTo=sY96aPI-kVPC)\n",
        "\n",
        "\n",
        "---\n",
        "# Input for the Dense\n"
      ]
    },
    {
      "metadata": {
        "id": "SvYeoyvu3CtS",
        "colab_type": "code",
        "colab": {}
      },
      "cell_type": "code",
      "source": [
        "#walkthrough\n",
        "# use \n",
        "# x.shape to get the shape nad them x.shape[1]"
      ],
      "execution_count": 0,
      "outputs": []
    },
    {
      "metadata": {
        "id": "HNldvtS03Ca6",
        "colab_type": "code",
        "colab": {}
      },
      "cell_type": "code",
      "source": [
        "#problem\n",
        "#use appropriate activation function\n",
        "import tensorflow as tf\n",
        "def create_prediction_function(x, y):\n",
        "#   input_dim = *Your Answer*\n",
        "  model = tf.keras.models.Sequential([\n",
        "#       tf.keras.layers.Dense(5, input_dim=input_dim, kernel_initializer='normal', activation='relu'),\n",
        "      tf.keras.layers.Dense(1, 'linear')\n",
        "      ])\n",
        "  model.compile(optimizer='adam',\n",
        "              loss='mean_squared_error',\n",
        "              metrics=['accuracy'])\n",
        "\n",
        "  model.fit(x, y, epochs=1,verbose=0,batch_size=16)\n",
        "  return model\n"
      ],
      "execution_count": 0,
      "outputs": []
    },
    {
      "metadata": {
        "id": "cveKP-nvpENi",
        "colab_type": "code",
        "colab": {}
      },
      "cell_type": "code",
      "source": [
        "#solution\n",
        "import tensorflow as tf\n",
        "def create_prediction_function(x, y):\n",
        "  shape = x.shape\n",
        "  input_dim = shape[1]\n",
        "  model = tf.keras.models.Sequential([\n",
        "      tf.keras.layers.Dense(5, input_dim=input_dim, kernel_initializer='normal', activation='relu'),\n",
        "      tf.keras.layers.Dense(1, 'linear')\n",
        "      ])\n",
        "  model.compile(optimizer='adam',\n",
        "              loss='mean_squared_error',\n",
        "              metrics=['accuracy'])\n",
        "\n",
        "  model.fit(x, y, epochs=1,verbose=0,batch_size=512)\n",
        "  return model\n"
      ],
      "execution_count": 0,
      "outputs": []
    },
    {
      "metadata": {
        "id": "nk90SqAy3CPl",
        "colab_type": "code",
        "colab": {}
      },
      "cell_type": "code",
      "source": [
        "#test\n",
        "import tensorflow as tf\n",
        "import pandas as pd\n",
        "from sklearn.metrics import mean_squared_error #regression problem\n",
        "from sklearn.model_selection import train_test_split\n",
        "df = pd.read_csv('housing.csv')\n",
        "x = df.iloc[:,:-1]\n",
        "y=df.iloc[:,-1:]\n",
        "max_error = 30\n",
        "\n",
        "x_train, x_test, y_train, y_test = train_test_split(x, y, test_size=.2, random_state=5685)\n",
        "model = create_prediction_function(x_train, y_train)\n",
        "\n",
        "prediction = model.predict(x_test)\n",
        "mse = mean_squared_error(y_test, prediction)\n",
        "\n",
        "\n",
        "assert mse is not None , \"Your error is %f which is greater than the maximum error\"%mse"
      ],
      "execution_count": 0,
      "outputs": []
    },
    {
      "metadata": {
        "id": "YMnmDfrn3Vey",
        "colab_type": "text"
      },
      "cell_type": "markdown",
      "source": [
        "[Top](#scrollTo=sY96aPI-kVPC)\n",
        "\n",
        "\n",
        "---\n",
        "# Input for the images or cnn\n"
      ]
    },
    {
      "metadata": {
        "id": "ypfw1F-f3huO",
        "colab_type": "code",
        "colab": {}
      },
      "cell_type": "code",
      "source": [
        "#problem\n",
        "#As we use keras high level api it uses other background so we need to reshape the images on the basis of the backend\n",
        "#check the documentation for a better idea\n"
      ],
      "execution_count": 0,
      "outputs": []
    },
    {
      "metadata": {
        "id": "5q-DzciV3hrg",
        "colab_type": "code",
        "colab": {}
      },
      "cell_type": "code",
      "source": [
        "#problem\n",
        "import tensorflow as tf\n",
        "def create_prediction_function(x, y):\n",
        "  img_rows, img_cols = 28, 28\n",
        "#   x = x.reshape(x.shape[0], img_rows, img_cols, 1)\n",
        "#   input_shape = (*, *, 1)\n",
        "  model = tf.keras.models.Sequential([\n",
        "      tf.keras.layers.Conv2D(8, kernel_size=(3, 3),\n",
        "                             activation='relu',\n",
        "                             input_shape=input_shape),\n",
        "      tf.keras.layers.Flatten(),\n",
        "      tf.keras.layers.Dense(number_of_classes, activation='softmax')\n",
        "  ])\n",
        "  model.compile(optimizer='adam',\n",
        "                loss='sparse_categorical_crossentropy',\n",
        "                metrics=['accuracy'])\n",
        "  model.fit(x, y, epochs=1, batch_size = 1024, verbose = 0)\n",
        "\n",
        "  return model"
      ],
      "execution_count": 0,
      "outputs": []
    },
    {
      "metadata": {
        "id": "O_IoJqHO3hns",
        "colab_type": "code",
        "colab": {}
      },
      "cell_type": "code",
      "source": [
        "#solution\n",
        "# 28*28 is the size of the mnist image\n",
        "import tensorflow as tf\n",
        "def create_prediction_function(x, y):\n",
        "  img_rows, img_cols = 28, 28\n",
        "  x = x.reshape(x.shape[0], img_rows, img_cols, 1)\n",
        "  input_shape = (img_rows, img_cols, 1)\n",
        "  model = tf.keras.models.Sequential([\n",
        "      tf.keras.layers.Conv2D(8, kernel_size=(3, 3),\n",
        "                             activation='relu',\n",
        "                             input_shape=input_shape),\n",
        "      tf.keras.layers.Flatten(),\n",
        "      tf.keras.layers.Dense(1, activation='softmax')\n",
        "  ])\n",
        "  model.compile(optimizer='adam',\n",
        "                loss='sparse_categorical_crossentropy',\n",
        "                metrics=['accuracy'])\n",
        "  model.fit(x, y, epochs=1, batch_size = 1024, verbose = 0)\n",
        "\n",
        "  return model"
      ],
      "execution_count": 0,
      "outputs": []
    },
    {
      "metadata": {
        "id": "F_oh0i5i3hi7",
        "colab_type": "code",
        "colab": {}
      },
      "cell_type": "code",
      "source": [
        "# Tests\n",
        "from sklearn.metrics import accuracy_score\n",
        "import numpy as np\n",
        "start_time=time.time()\n",
        "mnist = tf.keras.datasets.mnist\n",
        "img_rows, img_cols = 28, 28\n",
        "(x_train, y_train),(x_test, y_test) = mnist.load_data()\n",
        "\n",
        "#filter to reduce the computation \n",
        "\n",
        "train_filter = np.where((y_train == 0 ))\n",
        "test_filter = np.where((y_test == 0))\n",
        "x_train, y_train = x_train[train_filter], y_train[train_filter]\n",
        "x_test, y_test = x_test[test_filter], y_test[test_filter]\n",
        "\n",
        "model = create_prediction_function(x_train, y_train)\n",
        "x_test = x_test.reshape(x_test.shape[0], img_rows, img_cols, 1)\n",
        "out=model.predict(x_test)\n",
        "out_classes = out.argmax(axis=-1)\n",
        "accuracy = accuracy_score(y_test, out_classes)\n",
        "\n",
        "\n",
        "assert accuracy is not None, \"Your accuracy is %f which is less than the expected accuracy\"%accuracy\n",
        "assert accuracy is not None, \"The shape specified is not correct. Please try again\"\n"
      ],
      "execution_count": 0,
      "outputs": []
    },
    {
      "metadata": {
        "id": "TODHS_XLqfOU",
        "colab_type": "text"
      },
      "cell_type": "markdown",
      "source": [
        "[Top](#scrollTo=sY96aPI-kVPC)\n",
        "\n",
        "\n",
        "---\n",
        "# Using the Flatten \n",
        "So when we use the dense we cannot feed a m*n matrix to the dense layer where (m=1 or n=1 )"
      ]
    },
    {
      "metadata": {
        "id": "f9Go67WOqehb",
        "colab_type": "code",
        "colab": {}
      },
      "cell_type": "code",
      "source": [
        "#walkthrough"
      ],
      "execution_count": 0,
      "outputs": []
    },
    {
      "metadata": {
        "id": "mE6n6OLrrETf",
        "colab_type": "code",
        "colab": {}
      },
      "cell_type": "code",
      "source": [
        "#problem\n",
        "import tensorflow as tf\n",
        "def create_prediction_function(x, y):\n",
        "  model = tf.keras.models.Sequential([\n",
        "#       tf.keras.layers.*(),\n",
        "      tf.keras.layers.Dense(5, activation='relu'),\n",
        "      tf.keras.layers.Dense(1, activation='softmax')\n",
        "      ])\n",
        "  model.compile(optimizer='adam',\n",
        "              loss='sparse_categorical_crossentropy',\n",
        "              metrics=['accuracy'])\n",
        "\n",
        "  model.fit(x, y, epochs=1, batch_size= 1024,verbose=0)\n",
        "  return model"
      ],
      "execution_count": 0,
      "outputs": []
    },
    {
      "metadata": {
        "id": "HX5XT1-MrEJe",
        "colab_type": "code",
        "colab": {}
      },
      "cell_type": "code",
      "source": [
        "#solution\n",
        "import tensorflow as tf\n",
        "def create_prediction_function(x, y):\n",
        "  model = tf.keras.models.Sequential([\n",
        "      tf.keras.layers.Flatten(),\n",
        "      tf.keras.layers.Dense(5, activation='relu'),\n",
        "      tf.keras.layers.Dense(1, activation='softmax')\n",
        "      ])\n",
        "  model.compile(optimizer='adam',\n",
        "              loss='sparse_categorical_crossentropy',\n",
        "              metrics=['accuracy'])\n",
        "\n",
        "  model.fit(x, y, epochs=1, batch_size= 1024,verbose=0)\n",
        "  return model"
      ],
      "execution_count": 0,
      "outputs": []
    },
    {
      "metadata": {
        "id": "OPuDMQuMrD46",
        "colab_type": "code",
        "colab": {}
      },
      "cell_type": "code",
      "source": [
        "# Tests\n",
        "from sklearn.metrics import accuracy_score\n",
        "import tensorflow as tf\n",
        "mnist = tf.keras.datasets.mnist\n",
        "(x_train, y_train),(x_test, y_test) = mnist.load_data()\n",
        "train_filter = np.where((y_train == 0 ))\n",
        "test_filter = np.where((y_test == 0))\n",
        "x_train, y_train = x_train[train_filter], y_train[train_filter]\n",
        "x_test, y_test = x_test[test_filter], y_test[test_filter]\n",
        "\n",
        "model = create_prediction_function(x_train, y_train)\n",
        "\n",
        "\n",
        "out= model.predict(x_test)\n",
        "out_classes = out.argmax(axis=-1)\n",
        "accuracy = accuracy_score(y_test, out_classes)\n",
        "\n",
        "\n",
        "assert accuracy is not None, \"Your accuracy is %f which is less than the expected accuracy\"%accuracy\n",
        "  "
      ],
      "execution_count": 0,
      "outputs": []
    },
    {
      "metadata": {
        "id": "yMw611Mv3jSy",
        "colab_type": "text"
      },
      "cell_type": "markdown",
      "source": [
        "[Top](#scrollTo=sY96aPI-kVPC)\n",
        "\n",
        "\n",
        "---\n",
        "# Input for the recurrent"
      ]
    },
    {
      "metadata": {
        "id": "ntWQlseo3ieH",
        "colab_type": "code",
        "colab": {}
      },
      "cell_type": "code",
      "source": [
        ""
      ],
      "execution_count": 0,
      "outputs": []
    },
    {
      "metadata": {
        "id": "wex3dnQ9ot-a",
        "colab_type": "text"
      },
      "cell_type": "markdown",
      "source": [
        "[Top](#scrollTo=sY96aPI-kVPC)\n",
        "\n",
        "\n",
        "---\n",
        "# Test Train Split\n"
      ]
    },
    {
      "metadata": {
        "id": "L5kqYp85o4Rz",
        "colab_type": "code",
        "colab": {}
      },
      "cell_type": "code",
      "source": [
        "#walkthrough\n",
        "Test Train Split"
      ],
      "execution_count": 0,
      "outputs": []
    },
    {
      "metadata": {
        "id": "KbY7qauTo4CY",
        "colab_type": "code",
        "colab": {}
      },
      "cell_type": "code",
      "source": [
        "#problem\n",
        "\n",
        "from sklearn.model_selection import train_test_split\n",
        "import pandas as pd\n",
        "# df=pd.*read as a csv file*\n",
        "x=df.iloc[:,:-1]\n",
        "y=df.iloc[:,-1:]\n",
        "# x_train, x_test, y_train, y_test = train_test_split(*, *, test_size=.2)\n"
      ],
      "execution_count": 0,
      "outputs": []
    },
    {
      "metadata": {
        "id": "3A3QOlc0o3s7",
        "colab_type": "code",
        "colab": {}
      },
      "cell_type": "code",
      "source": [
        "#solution\n",
        "from sklearn.model_selection import train_test_split\n",
        "import pandas as pd\n",
        "df=pd.read_csv('housing.csv')\n",
        "x=df.iloc[:,:-1]\n",
        "y=df.iloc[:,-1:]\n",
        "x_train, x_test, y_train, y_test = train_test_split(x, y, test_size=.2, random_state=5685)\n"
      ],
      "execution_count": 0,
      "outputs": []
    },
    {
      "metadata": {
        "id": "IJeWAo3XpAfb",
        "colab_type": "code",
        "colab": {}
      },
      "cell_type": "code",
      "source": [
        "#test\n",
        "assert x_train is not None, \"x_train feature set not created\"\n",
        "assert y_test is not None,  \"y_test labels set not created\"\n",
        "assert x_test is not None,  \"x_test feature set not created\"\n",
        "assert y_test is not None,  \"y_test labels set not created\""
      ],
      "execution_count": 0,
      "outputs": []
    },
    {
      "metadata": {
        "id": "LbH16vV-pLe6",
        "colab_type": "text"
      },
      "cell_type": "markdown",
      "source": [
        "[Top](#scrollTo=sY96aPI-kVPC)\n",
        "\n",
        "\n",
        "---\n",
        "# MNIST without cnn\n",
        "Keep verbose 0 in all fits"
      ]
    },
    {
      "metadata": {
        "id": "ghpzmvMBpWK5",
        "colab_type": "code",
        "colab": {}
      },
      "cell_type": "code",
      "source": [
        "#walkthrough"
      ],
      "execution_count": 0,
      "outputs": []
    },
    {
      "metadata": {
        "id": "jRAl39tKpV0B",
        "colab_type": "code",
        "colab": {}
      },
      "cell_type": "code",
      "source": [
        "#problem\n",
        "#Uncomment the fit function to fit the model and return the model\n",
        "\n",
        "import tensorflow as tf\n",
        "def create_prediction_function(x, y):\n",
        "  model = tf.keras.models.Sequential([\n",
        "      tf.keras.layers.Flatten(),\n",
        "      tf.keras.layers.Dense(512, activation=tf.nn.relu),\n",
        "      tf.keras.layers.Dropout(0.2),\n",
        "      tf.keras.layers.Dense(10, activation=tf.nn.softmax)\n",
        "      ])\n",
        "  model.compile(optimizer='adam',\n",
        "              loss='sparse_categorical_crossentropy',\n",
        "              metrics=['accuracy'])\n",
        "\n",
        "#   model.fit(x, y, epochs=5)"
      ],
      "execution_count": 0,
      "outputs": []
    },
    {
      "metadata": {
        "id": "Zw6ZiBoupVnL",
        "colab_type": "code",
        "colab": {}
      },
      "cell_type": "code",
      "source": [
        "#Solution\n",
        "import tensorflow as tf\n",
        "def create_prediction_function(x, y):\n",
        "  model = tf.keras.models.Sequential([\n",
        "      tf.keras.layers.Flatten(),\n",
        "      tf.keras.layers.Dense(512, activation=tf.nn.relu),\n",
        "      tf.keras.layers.Dropout(0.2),\n",
        "      tf.keras.layers.Dense(10, activation=tf.nn.softmax)\n",
        "      ])\n",
        "  model.compile(optimizer='adam',\n",
        "              loss='sparse_categorical_crossentropy',\n",
        "              metrics=['accuracy'])\n",
        "\n",
        "  model.fit(x, y, epochs=5,verbose=0)\n",
        "  return model"
      ],
      "execution_count": 0,
      "outputs": []
    },
    {
      "metadata": {
        "id": "DxckXKBnpVZK",
        "colab_type": "code",
        "colab": {}
      },
      "cell_type": "code",
      "source": [
        "# Tests\n",
        "from sklearn.metrics import accuracy_score\n",
        "import tensorflow as tf\n",
        "mnist = tf.keras.datasets.mnist\n",
        "(x_train, y_train),(x_test, y_test) = mnist.load_data()\n",
        "x_train, x_test = x_train / 255.0, x_test / 255.0\n",
        "model = create_prediction_function(x_train, y_train)\n",
        "\n",
        "\n",
        "out= model.predict(x_test)\n",
        "out_classes = out.argmax(axis=-1)\n",
        "accuracy = accuracy_score(y_test, out_classes)\n",
        "min_accuracy = .96\n",
        "\n",
        "assert accuracy > min_accuracy, \"Your accuracy is %f which is less than the expected accuracy\"%accuracy\n",
        "  "
      ],
      "execution_count": 0,
      "outputs": []
    },
    {
      "metadata": {
        "id": "y5w16jmbqi6y",
        "colab_type": "text"
      },
      "cell_type": "markdown",
      "source": [
        "[Top](#scrollTo=sY96aPI-kVPC)\n",
        "\n",
        "\n",
        "---\n",
        "# MNIST with cnn full"
      ]
    },
    {
      "metadata": {
        "id": "2GAg6lhWq-Cv",
        "colab_type": "code",
        "colab": {}
      },
      "cell_type": "code",
      "source": [
        "#walkthrough"
      ],
      "execution_count": 0,
      "outputs": []
    },
    {
      "metadata": {
        "id": "z_nUci9nq95V",
        "colab_type": "code",
        "colab": {}
      },
      "cell_type": "code",
      "source": [
        "#problem\n",
        "#complete the create_prediction_function to fit the model\n",
        "import tensorflow as tf\n",
        "def create_prediction_function(x, y):\n",
        "#   number_of_classes=*Enter the number of classes*\n",
        "  img_rows, img_cols = 28, 28\n",
        "  x = x.reshape(x.shape[0], img_rows, img_cols, 1)\n",
        "  input_shape = (img_rows, img_cols, 1)\n",
        "  model = tf.keras.models.Sequential([\n",
        "      tf.keras.layers.Conv2D(32, kernel_size=(3, 3),\n",
        "                             activation='relu',\n",
        "                             input_shape=input_shape),\n",
        "      tf.keras.layers.Conv2D(64, kernel_size=(3,3), activation='relu'),\n",
        "      tf.keras.layers.MaxPooling2D(pool_size=(2,2)),\n",
        "      tf.keras.layers.Dropout(.25),\n",
        "      tf.keras.layers.Flatten(),\n",
        "      tf.keras.layers.Dense(128, activation='relu'),\n",
        "      tf.keras.layers.Dropout(.5),\n",
        "      tf.keras.layers.Dense(number_of_classes, activation='softmax')\n",
        "  ])\n",
        "\n",
        "  model.compile(optimizer='adam',\n",
        "                loss='sparse_categorical_crossentropy',\n",
        "                metrics=['accuracy'])\n",
        "#   model.fit(*, *, epochs=*)\n",
        "\n",
        "  return model"
      ],
      "execution_count": 0,
      "outputs": []
    },
    {
      "metadata": {
        "id": "bryC2mnmq9rG",
        "colab_type": "code",
        "colab": {}
      },
      "cell_type": "code",
      "source": [
        "#solution\n",
        "import tensorflow as tf\n",
        "def create_prediction_function(x, y):\n",
        "  img_rows, img_cols = 28, 28\n",
        "  x = x.reshape(x.shape[0], img_rows, img_cols, 1)\n",
        "  input_shape = (img_rows, img_cols, 1)\n",
        "  model = tf.keras.models.Sequential([\n",
        "      tf.keras.layers.Conv2D(32, kernel_size=(3, 3),\n",
        "                             activation='relu',\n",
        "                             input_shape=input_shape),\n",
        "      tf.keras.layers.Conv2D(64, kernel_size=(3,3), activation='relu'),\n",
        "      tf.keras.layers.MaxPooling2D(pool_size=(2,2)),\n",
        "      tf.keras.layers.Dropout(.25),\n",
        "      tf.keras.layers.Flatten(),\n",
        "      tf.keras.layers.Dense(128, activation='relu'),\n",
        "      tf.keras.layers.Dropout(.5),\n",
        "      tf.keras.layers.Dense(10, activation='softmax')\n",
        "  ])\n",
        "\n",
        "  model.compile(optimizer='adam',\n",
        "                loss='sparse_categorical_crossentropy',\n",
        "                metrics=['accuracy'])\n",
        "  model.fit(x, y, epochs=1)#with more than 10 epochs it will achive more than 99% accuracy\n",
        "\n",
        "  return model"
      ],
      "execution_count": 0,
      "outputs": []
    },
    {
      "metadata": {
        "id": "CKxSKk_prH6a",
        "colab_type": "code",
        "outputId": "7f1f0532-ceef-48d9-c6e2-0e4cf427ec07",
        "colab": {
          "base_uri": "https://localhost:8080/",
          "height": 199
        }
      },
      "cell_type": "code",
      "source": [
        "# Tests\n",
        "from sklearn.metrics import accuracy_score\n",
        "import time\n",
        "start_time=time.time()\n",
        "mnist = tf.keras.datasets.mnist\n",
        "img_rows, img_cols = 28, 28\n",
        "(x_train, y_train),(x_test, y_test) = mnist.load_data()\n",
        "model = create_prediction_function(x_train, y_train)\n",
        "run_time = time.time()-start_time\n",
        "x_test = x_test.reshape(x_test.shape[0], img_rows, img_cols, 1)\n",
        "out=model.predict(x_test)\n",
        "out_classes = out.argmax(axis=-1)\n",
        "accuracy = accuracy_score(y_test, out_classes)\n",
        "min_accuracy = .95\n",
        "max_time = 196\n",
        "\n",
        "assert accuracy > min_accuracy, \"Your accuracy is %f which is less than the expected accuracy\"%accuracy\n",
        "assert max_time > run_time, \"Time limit crossed\"\n",
        "# try: \n",
        "#   assert( accuracy > min_accuracy )\n",
        "# except: \n",
        "#   print(\"Your accuracy is\", accuracy, 'which is less than the expected accuracy')\n",
        "# try: \n",
        "#   assert( run_time < max_time )\n",
        "# except: \n",
        "#   print(\"Your run time is\", run_time, ' seconds which is greater than the expected accuracy')\n"
      ],
      "execution_count": 0,
      "outputs": [
        {
          "output_type": "stream",
          "text": [
            "Epoch 1/5\n",
            "60000/60000 [==============================] - 16s 274us/step - loss: 5.9359 - acc: 0.6137\n",
            "Epoch 2/5\n",
            "60000/60000 [==============================] - 16s 265us/step - loss: 0.2109 - acc: 0.9414\n",
            "Epoch 3/5\n",
            "60000/60000 [==============================] - 16s 264us/step - loss: 0.1286 - acc: 0.9631\n",
            "Epoch 4/5\n",
            "60000/60000 [==============================] - 16s 265us/step - loss: 0.1072 - acc: 0.9687\n",
            "Epoch 5/5\n",
            "60000/60000 [==============================] - 16s 264us/step - loss: 0.0937 - acc: 0.9726\n"
          ],
          "name": "stdout"
        }
      ]
    },
    {
      "metadata": {
        "id": "qnHh6kS7q9je",
        "colab_type": "code",
        "outputId": "e7827f4f-e5d2-49c9-dbe1-5f7ee9807b38",
        "colab": {
          "base_uri": "https://localhost:8080/",
          "height": 35
        }
      },
      "cell_type": "code",
      "source": [
        "y_test"
      ],
      "execution_count": 0,
      "outputs": [
        {
          "output_type": "execute_result",
          "data": {
            "text/plain": [
              "array([7, 2, 1, ..., 4, 5, 6], dtype=uint8)"
            ]
          },
          "metadata": {
            "tags": []
          },
          "execution_count": 16
        }
      ]
    },
    {
      "metadata": {
        "id": "26CqFcpMjYiW",
        "colab_type": "text"
      },
      "cell_type": "markdown",
      "source": [
        "[Top](#scrollTo=sY96aPI-kVPC)\n",
        "\n",
        "---\n",
        "# Create an OR function\n",
        "\n",
        "Create a simple function that accepts a list of 2 numbers and returns 1 if either number is non-zero. "
      ]
    },
    {
      "metadata": {
        "id": "s8nhXIbFjYzE",
        "colab_type": "code",
        "colab": {}
      },
      "cell_type": "code",
      "source": [
        "# Walkthrough"
      ],
      "execution_count": 0,
      "outputs": []
    },
    {
      "metadata": {
        "id": "JnUdfNSIjY81",
        "colab_type": "code",
        "colab": {}
      },
      "cell_type": "code",
      "source": [
        "# Problem\n",
        "def OR(x):\n",
        "  # Correct this function.\n",
        "  return 0\n",
        "\n"
      ],
      "execution_count": 0,
      "outputs": []
    },
    {
      "metadata": {
        "id": "dV7bVil0jZHT",
        "colab_type": "code",
        "colab": {}
      },
      "cell_type": "code",
      "source": [
        "# Solution\n",
        "def OR(x):\n",
        "  if x[0] != 0 or x[1] != 0:\n",
        "    return 1\n",
        "  else:\n",
        "    return 0"
      ],
      "execution_count": 0,
      "outputs": []
    },
    {
      "metadata": {
        "id": "522_yRedjZSp",
        "colab_type": "code",
        "colab": {}
      },
      "cell_type": "code",
      "source": [
        "testCases = [\n",
        "    [0,0],\n",
        "    [0,1],\n",
        "    [1,0],\n",
        "    [1,1]]\n",
        "\n",
        "expected  = [\n",
        "    0,\n",
        "    1,\n",
        "    1,\n",
        "    1]\n",
        "\n",
        "for i in range(len(testCases)):\n",
        "  if OR(testCases[i]) != expected[i]:\n",
        "    print(\"For test case\",testCases[i],\n",
        "          \"expected\",expected[i], \n",
        "          \"but received\", OR(testCases[i]))"
      ],
      "execution_count": 0,
      "outputs": []
    },
    {
      "metadata": {
        "id": "cTDc4gq4muca",
        "colab_type": "text"
      },
      "cell_type": "markdown",
      "source": [
        "[Top](#scrollTo=sY96aPI-kVPC)\n",
        "\n",
        "---\n",
        "# Create the predict_and function\n",
        "\n",
        "Create the function predict_and() that is passed a list of lists. Each child list in the list will contain two numbers. The function should return a list containing the output of anding the values in each child list together. The result should be 1 if both numbers in the child list are non-zero and 0 if either number is 0. "
      ]
    },
    {
      "metadata": {
        "id": "SVnqvnCRmuum",
        "colab_type": "code",
        "colab": {}
      },
      "cell_type": "code",
      "source": [
        "# Walkthrough"
      ],
      "execution_count": 0,
      "outputs": []
    },
    {
      "metadata": {
        "id": "5KzhE1atmu69",
        "colab_type": "code",
        "colab": {}
      },
      "cell_type": "code",
      "source": [
        "# Problem\n",
        "def predict_and(X):\n",
        "  # Correct this function.\n",
        "  return []"
      ],
      "execution_count": 0,
      "outputs": []
    },
    {
      "metadata": {
        "id": "pXxa2jZ5mvIV",
        "colab_type": "code",
        "colab": {}
      },
      "cell_type": "code",
      "source": [
        "# Solution\n",
        "def predict_and(X):\n",
        "  result = []\n",
        "  for x in X: \n",
        "    if x[0] != 0 and x[1] != 0:\n",
        "      result.append(1)\n",
        "    else:\n",
        "      result.append(0)\n",
        "  return result\n"
      ],
      "execution_count": 0,
      "outputs": []
    },
    {
      "metadata": {
        "id": "Z8q0EOADmvVj",
        "colab_type": "code",
        "colab": {}
      },
      "cell_type": "code",
      "source": [
        "# Tests\n",
        "X = [\n",
        "    [0,0],\n",
        "    [0,1],\n",
        "    [1,0],\n",
        "    [1,1]]\n",
        "\n",
        "y  = [\n",
        "    0,\n",
        "    0,\n",
        "    0,\n",
        "    1]\n",
        "\n",
        "result = predict_and(X)\n",
        "for i in range(len(X)):\n",
        "  if result[i] != y[i]:\n",
        "    print(\"For test case\",X[i],\n",
        "          \"expected\",y[i], \n",
        "          \"but received\", result[i])"
      ],
      "execution_count": 0,
      "outputs": []
    },
    {
      "metadata": {
        "id": "xy90NQUYaSt_",
        "colab_type": "text"
      },
      "cell_type": "markdown",
      "source": [
        "[Top](#scrollTo=sY96aPI-kVPC)\n",
        "\n",
        "---\n",
        "# Create the predict_nand function\n",
        "\n",
        "Create the function predict_nand() that is passed a list of lists. Each child list in the passed in list will contain two numbers. The function should return a list containing the output of nand'ing the values in each child list together. The result should be 0 if both numbers in the child list are non-zero and 1 if both numbers are 0. "
      ]
    },
    {
      "metadata": {
        "id": "Cx_ORd0LaTRM",
        "colab_type": "code",
        "colab": {}
      },
      "cell_type": "code",
      "source": [
        "# Walkthrough"
      ],
      "execution_count": 0,
      "outputs": []
    },
    {
      "metadata": {
        "id": "WmhMUZl2aTa1",
        "colab_type": "code",
        "colab": {}
      },
      "cell_type": "code",
      "source": [
        "# Problem\n",
        "def predict_nand(X):\n",
        "  # Correct this function.\n",
        "  return []"
      ],
      "execution_count": 0,
      "outputs": []
    },
    {
      "metadata": {
        "id": "T3KFGGjaaTm4",
        "colab_type": "code",
        "colab": {}
      },
      "cell_type": "code",
      "source": [
        "# Solution\n",
        "def predict_nand(X):\n",
        "  result = []\n",
        "  for x in X: \n",
        "    if x[0] == 0 and x[1] == 0:\n",
        "      result.append(1)\n",
        "    else:\n",
        "      result.append(0)\n",
        "  return result\n"
      ],
      "execution_count": 0,
      "outputs": []
    },
    {
      "metadata": {
        "id": "WnG3_d_maTzc",
        "colab_type": "code",
        "colab": {}
      },
      "cell_type": "code",
      "source": [
        "# Tests\n",
        "X = [\n",
        "    [0,0],\n",
        "    [0,1],\n",
        "    [1,0],\n",
        "    [1,1]]\n",
        "\n",
        "y  = [\n",
        "    1,\n",
        "    0,\n",
        "    0,\n",
        "    0]\n",
        "\n",
        "\n",
        "result = predict_nand(X)\n",
        "for i in range(len(X)):\n",
        "  if result[i] != y[i]:\n",
        "    print(\"For test case\",X[i],\n",
        "          \"expected\",y[i], \n",
        "          \"but received\", result[i])"
      ],
      "execution_count": 0,
      "outputs": []
    },
    {
      "metadata": {
        "id": "OKzocx645S0H",
        "colab_type": "text"
      },
      "cell_type": "markdown",
      "source": [
        "[Top](#scrollTo=sY96aPI-kVPC)\n",
        "\n",
        "\n",
        "---\n",
        "\n",
        "# Train a perceptron\n",
        "\n",
        "Train a perceptron classifier to implement an AND function. "
      ]
    },
    {
      "metadata": {
        "id": "2OTYgykE5TQA",
        "colab_type": "code",
        "outputId": "3b741463-133a-493e-9efe-dd8ead392303",
        "colab": {
          "base_uri": "https://localhost:8080/",
          "height": 72
        }
      },
      "cell_type": "code",
      "source": [
        "# 5 lines of code to train a model and create a prediction function from input data. \n",
        "\n",
        "from sklearn.linear_model import Perceptron\n",
        "X = [[0, 0], [0, 1], [1, 0], [1, 1]]\n",
        "y = [0, 1, 1, 1]\n",
        "classifier = Perceptron()\n",
        "model = classifier.fit(X, y)\n",
        "predict_or = model.predict\n",
        "\n",
        "result = predict_or(X)\n",
        "for i in range(len(X)):\n",
        "  if result[i] != y[i]:\n",
        "    print(\"For test case\",X[i],\n",
        "          \"expected\",y[i], \n",
        "          \"but received\", result[i])   \n",
        "  \n"
      ],
      "execution_count": 0,
      "outputs": [
        {
          "output_type": "stream",
          "text": [
            "/usr/local/lib/python3.6/dist-packages/sklearn/linear_model/stochastic_gradient.py:166: FutureWarning: max_iter and tol parameters have been added in Perceptron in 0.19. If both are left unset, they default to max_iter=5 and tol=None. If tol is not None, max_iter defaults to max_iter=1000. From 0.21, default max_iter will be 1000, and default tol will be 1e-3.\n",
            "  FutureWarning)\n"
          ],
          "name": "stderr"
        }
      ]
    },
    {
      "metadata": {
        "id": "9n_2X1yB5Ty-",
        "colab_type": "code",
        "colab": {}
      },
      "cell_type": "code",
      "source": [
        "# Problem\n",
        "# Train a model to predict the results for an AND gate. \n",
        "X = [[0, 0], [0, 1], [1, 0], [1, 1]]\n",
        "# y = \n",
        "classifier = Perceptron()\n",
        "# model = \n",
        "# AND = "
      ],
      "execution_count": 0,
      "outputs": []
    },
    {
      "metadata": {
        "id": "gw3puhT_5UWj",
        "colab_type": "code",
        "outputId": "1b3e69e4-62f8-4b77-e13c-7c0c4dc988da",
        "colab": {
          "base_uri": "https://localhost:8080/",
          "height": 72
        }
      },
      "cell_type": "code",
      "source": [
        "# Solution\n",
        "from sklearn.linear_model import Perceptron\n",
        "X = [[0, 0], [0, 1], [1, 0], [1, 1]]\n",
        "y = [0, 0, 0, 1]\n",
        "classifier = Perceptron()\n",
        "model = classifier.fit(X, y)\n",
        "predict_and = model.predict\n",
        "\n"
      ],
      "execution_count": 0,
      "outputs": [
        {
          "output_type": "stream",
          "text": [
            "/usr/local/lib/python3.6/dist-packages/sklearn/linear_model/stochastic_gradient.py:166: FutureWarning: max_iter and tol parameters have been added in Perceptron in 0.19. If both are left unset, they default to max_iter=5 and tol=None. If tol is not None, max_iter defaults to max_iter=1000. From 0.21, default max_iter will be 1000, and default tol will be 1e-3.\n",
            "  FutureWarning)\n"
          ],
          "name": "stderr"
        }
      ]
    },
    {
      "metadata": {
        "id": "Ubqajt_15VVV",
        "colab_type": "code",
        "colab": {}
      },
      "cell_type": "code",
      "source": [
        "# Tests\n",
        "X = [[0, 0], [0, 1], [1, 0], [1, 1]]\n",
        "y = [0, 0, 0, 1]\n",
        "\n",
        "result = predict_and(X)\n",
        "for i in range(len(X)):\n",
        "  if result[i] != y[i]:\n",
        "    print(\"For test case\",X[i],\n",
        "          \"expected\",y[i], \n",
        "          \"but received\", result[i])    "
      ],
      "execution_count": 0,
      "outputs": []
    },
    {
      "metadata": {
        "id": "q7794Zff5XCG",
        "colab_type": "text"
      },
      "cell_type": "markdown",
      "source": [
        "[Top](#scrollTo=sY96aPI-kVPC)\n",
        "\n",
        "\n",
        "---\n",
        "\n",
        "# Train a model and return a prediction function\n",
        "\n",
        "Create a function that trains a model based on passed in data and returns a prediction function. "
      ]
    },
    {
      "metadata": {
        "id": "GE1n_e2Y5XS0",
        "colab_type": "code",
        "colab": {}
      },
      "cell_type": "code",
      "source": [
        "# Walkthrough video"
      ],
      "execution_count": 0,
      "outputs": []
    },
    {
      "metadata": {
        "id": "cUCV0Bs25Xen",
        "colab_type": "code",
        "colab": {}
      },
      "cell_type": "code",
      "source": [
        "# Problem\n",
        "from sklearn.linear_model import Perceptron\n",
        "def create_prediction_function(X, y):\n",
        "  classifier = Perceptron()\n",
        "  # Add training step\n",
        "  model = None\n",
        "  # Return the prediction function for the model.\n",
        "  return model"
      ],
      "execution_count": 0,
      "outputs": []
    },
    {
      "metadata": {
        "id": "ZpmwB2845Xpg",
        "colab_type": "code",
        "colab": {}
      },
      "cell_type": "code",
      "source": [
        "# Solution\n",
        "from sklearn.linear_model import Perceptron\n",
        "def create_prediction_function(X, y):\n",
        "  classifier = Perceptron()\n",
        "  model = classifier.fit(X, y)\n",
        "  return model.predict"
      ],
      "execution_count": 0,
      "outputs": []
    },
    {
      "metadata": {
        "id": "YUx_ZYxU5Xz0",
        "colab_type": "code",
        "outputId": "37c58da3-7e3f-4aaf-9664-1a52c468e228",
        "colab": {
          "base_uri": "https://localhost:8080/",
          "height": 141
        }
      },
      "cell_type": "code",
      "source": [
        "# Tests\n",
        "X = [[0, 0], [0, 1], [1, 0], [1, 1]]\n",
        "yOr = [0, 1, 1, 1]\n",
        "yAnd = [0, 0, 0, 1]\n",
        "yNand = [1, 0, 0, 0]\n",
        "\n",
        "# Train and test function with or data\n",
        "\n",
        "for y in [yOr, yAnd, yNand]:\n",
        "  predict = create_prediction_function(X, y)\n",
        "  for i in range(len(X)):\n",
        "    if predict([X[i]]) != y[i]:\n",
        "      print(\"For test case\",X[i],\n",
        "            \"expected\",yOr[i], \n",
        "            \"but received\", predict([X[i]])) \n",
        "     "
      ],
      "execution_count": 0,
      "outputs": [
        {
          "output_type": "stream",
          "text": [
            "/usr/local/lib/python3.6/dist-packages/sklearn/linear_model/stochastic_gradient.py:166: FutureWarning: max_iter and tol parameters have been added in Perceptron in 0.19. If both are left unset, they default to max_iter=5 and tol=None. If tol is not None, max_iter defaults to max_iter=1000. From 0.21, default max_iter will be 1000, and default tol will be 1e-3.\n",
            "  FutureWarning)\n",
            "/usr/local/lib/python3.6/dist-packages/sklearn/linear_model/stochastic_gradient.py:166: FutureWarning: max_iter and tol parameters have been added in Perceptron in 0.19. If both are left unset, they default to max_iter=5 and tol=None. If tol is not None, max_iter defaults to max_iter=1000. From 0.21, default max_iter will be 1000, and default tol will be 1e-3.\n",
            "  FutureWarning)\n",
            "/usr/local/lib/python3.6/dist-packages/sklearn/linear_model/stochastic_gradient.py:166: FutureWarning: max_iter and tol parameters have been added in Perceptron in 0.19. If both are left unset, they default to max_iter=5 and tol=None. If tol is not None, max_iter defaults to max_iter=1000. From 0.21, default max_iter will be 1000, and default tol will be 1e-3.\n",
            "  FutureWarning)\n"
          ],
          "name": "stderr"
        }
      ]
    },
    {
      "metadata": {
        "id": "fxgnsFYbC0vE",
        "colab_type": "text"
      },
      "cell_type": "markdown",
      "source": [
        "[Top](#scrollTo=sY96aPI-kVPC)\n",
        "\n",
        "---\n",
        "\n",
        "# XOR\n",
        "\n",
        "The XOR problem can not be solved with a perceptron. Use a multilayer perceptron classifier to create a model capable of learning the XOR pattern."
      ]
    },
    {
      "metadata": {
        "id": "m5SjALgQC0-8",
        "colab_type": "code",
        "colab": {}
      },
      "cell_type": "code",
      "source": [
        "# Walkthrough video"
      ],
      "execution_count": 0,
      "outputs": []
    },
    {
      "metadata": {
        "id": "opnSWhO2C1H2",
        "colab_type": "code",
        "colab": {}
      },
      "cell_type": "code",
      "source": [
        "# Problem\n",
        "from sklearn.neural_network import MLPClassifier\n",
        "def create_prediction_function(X, y):\n",
        "  # Replace the Perceptron with an instance of the MLPClassifier.\n",
        "  clf = Perceptron()\n",
        "\n",
        "  model = clf.fit(X, y)\n",
        "  return model"
      ],
      "execution_count": 0,
      "outputs": []
    },
    {
      "metadata": {
        "id": "LqupJbHYC1Ue",
        "colab_type": "code",
        "colab": {}
      },
      "cell_type": "code",
      "source": [
        "# Solution\n",
        "from sklearn.neural_network import MLPClassifier\n",
        "def create_prediction_function(X, y):\n",
        "  clf = MLPClassifier()\n",
        "  # Add training step\n",
        "  model = clf.fit(X, y)\n",
        "  return model.predict"
      ],
      "execution_count": 0,
      "outputs": []
    },
    {
      "metadata": {
        "id": "jJL8vxwqC1kX",
        "colab_type": "code",
        "outputId": "1adb7414-27e4-48c8-e07f-eec9614e26f8",
        "colab": {
          "base_uri": "https://localhost:8080/",
          "height": 176
        }
      },
      "cell_type": "code",
      "source": [
        "# Tests\n",
        "X = [[0, 0], [0, 1], [1, 0], [1, 1]]\n",
        "yOr =   [0, 1, 1, 1]\n",
        "yAnd =  [0, 0, 0, 1]\n",
        "yNand = [1, 0, 0, 0]\n",
        "yXor =  [0, 1, 1, 0]\n",
        "\n",
        "# Train and test function with or data\n",
        "for y in [yOr, yAnd, yNand, yXor]:\n",
        "  predict = create_prediction_function(X, y)\n",
        "  for i in range(len(X)):\n",
        "    if predict([X[i]]) != y[i]:\n",
        "      print(\"For test case\",X[i],\n",
        "            \"expected\",yOr[i], \n",
        "            \"but received\", predict([X[i]])) \n",
        "     \n",
        "\n",
        "  "
      ],
      "execution_count": 0,
      "outputs": [
        {
          "output_type": "stream",
          "text": [
            "/usr/local/lib/python3.6/dist-packages/sklearn/neural_network/multilayer_perceptron.py:562: ConvergenceWarning: Stochastic Optimizer: Maximum iterations (200) reached and the optimization hasn't converged yet.\n",
            "  % self.max_iter, ConvergenceWarning)\n",
            "/usr/local/lib/python3.6/dist-packages/sklearn/neural_network/multilayer_perceptron.py:562: ConvergenceWarning: Stochastic Optimizer: Maximum iterations (200) reached and the optimization hasn't converged yet.\n",
            "  % self.max_iter, ConvergenceWarning)\n",
            "/usr/local/lib/python3.6/dist-packages/sklearn/neural_network/multilayer_perceptron.py:562: ConvergenceWarning: Stochastic Optimizer: Maximum iterations (200) reached and the optimization hasn't converged yet.\n",
            "  % self.max_iter, ConvergenceWarning)\n",
            "/usr/local/lib/python3.6/dist-packages/sklearn/neural_network/multilayer_perceptron.py:562: ConvergenceWarning: Stochastic Optimizer: Maximum iterations (200) reached and the optimization hasn't converged yet.\n",
            "  % self.max_iter, ConvergenceWarning)\n"
          ],
          "name": "stderr"
        }
      ]
    },
    {
      "metadata": {
        "id": "jieCTN29pnZC",
        "colab_type": "text"
      },
      "cell_type": "markdown",
      "source": [
        "[Top](#scrollTo=sY96aPI-kVPC)\n",
        "\n",
        "---\n",
        "# Classifying unseen values\n",
        "\n",
        "Up until now, our models have been seeing all of the possible inputs. The models could potentially just be memorizing the outputs for every input. Now we will move on to testing our models with data that has never been seen by the model. "
      ]
    },
    {
      "metadata": {
        "id": "GmZ1PF7Wpn0G",
        "colab_type": "code",
        "colab": {}
      },
      "cell_type": "code",
      "source": [
        "# The equation for a line is y = mx + b\n",
        "\n",
        "# Let's consider our input as points in a 2-dimentional grid. \n",
        "X = [[0, 0], \n",
        "     [0, 1], \n",
        "     [1, 0], \n",
        "     [1, 1]]\n",
        "\n",
        "y = [0,0,1,1]"
      ],
      "execution_count": 0,
      "outputs": []
    },
    {
      "metadata": {
        "id": "dA47ACWYpoAB",
        "colab_type": "code",
        "colab": {}
      },
      "cell_type": "code",
      "source": [
        "# Problem\n",
        "\n",
        "# Create the function train_model that returns a prediction function. \n",
        "from sklearn.neural_network import MLPClassifier\n",
        "def train_model(X, y):\n",
        "  \n",
        "  model = None\n",
        "  return model"
      ],
      "execution_count": 0,
      "outputs": []
    },
    {
      "metadata": {
        "id": "PeaypuHFpoMk",
        "colab_type": "code",
        "colab": {}
      },
      "cell_type": "code",
      "source": [
        "# Solution\n",
        "from sklearn.neural_network import MLPClassifier\n",
        "def create_prediction_function(X, y):\n",
        "  clf = MLPClassifier()\n",
        "  model = clf.fit(X, y)\n",
        "  return model.predict"
      ],
      "execution_count": 0,
      "outputs": []
    },
    {
      "metadata": {
        "id": "Kdd_U4o7poYl",
        "colab_type": "code",
        "outputId": "1e40cb5a-e603-46d6-889f-430056aa986e",
        "colab": {
          "base_uri": "https://localhost:8080/",
          "height": 72
        }
      },
      "cell_type": "code",
      "source": [
        "# Tests\n",
        "\n",
        "X = [[0, 0], \n",
        "     [0, 1], \n",
        "     [1, 0], \n",
        "     [1, 1]]\n",
        "\n",
        "y = [0,\n",
        "     0,\n",
        "     1,\n",
        "     1]\n",
        "\n",
        "\n",
        "predict = create_prediction_function(X, y)\n",
        "for i in range(len(X)):\n",
        "    if predict([X[i]]) != y[i]:\n",
        "      print(\"For test case\",X[i],\n",
        "            \"expected\",yOr[i], \n",
        "            \"but received\", predict([X[i]])) \n",
        "      \n",
        "X = [[-1, -1], \n",
        "     [2, 2]]\n",
        "\n",
        "y = [0,1]      \n",
        "\n",
        "for i in range(len(X)):\n",
        "    if predict([X[i]]) != y[i]:\n",
        "      print(\"For test case\",X[i],\n",
        "            \"expected\",yOr[i], \n",
        "            \"but received\", predict([X[i]]))      \n",
        "  "
      ],
      "execution_count": 0,
      "outputs": [
        {
          "output_type": "stream",
          "text": [
            "/usr/local/lib/python3.6/dist-packages/sklearn/neural_network/multilayer_perceptron.py:562: ConvergenceWarning: Stochastic Optimizer: Maximum iterations (200) reached and the optimization hasn't converged yet.\n",
            "  % self.max_iter, ConvergenceWarning)\n"
          ],
          "name": "stderr"
        }
      ]
    },
    {
      "metadata": {
        "id": "nmK2Hbq7YJj4",
        "colab_type": "text"
      },
      "cell_type": "markdown",
      "source": [
        "[Top](#scrollTo=sY96aPI-kVPC)\n",
        "\n",
        "---\n",
        "\n",
        "# Notes below this point"
      ]
    },
    {
      "metadata": {
        "id": "UFNJJjJOYKKi",
        "colab_type": "code",
        "outputId": "ba61411a-b66c-4d79-b892-e6940ccd13b3",
        "colab": {
          "base_uri": "https://localhost:8080/",
          "height": 1237
        }
      },
      "cell_type": "code",
      "source": [
        "# Visulize the pattern that the MLP Classifier is finding. \n",
        "X = [[0, 0], [0, 1], [1, 0], [1, 1]]\n",
        "yExamples = {\"Or\": [0, 1, 1, 1],\n",
        "             \"And\":[0, 0, 0, 1],\n",
        "             \"Nand\":[1, 0, 0, 0],\n",
        "             \"Xor\":[0, 1, 1, 0]}\n",
        "\n",
        "\n",
        "from sklearn.neural_network import MLPClassifier\n",
        "def create_prediction_function(X, y):\n",
        "  clf = MLPClassifier()\n",
        "  model = clf.fit(X, y)\n",
        "  return model.predict\n",
        "\n",
        "%matplotlib inline\n",
        "import matplotlib.pyplot as plt\n",
        "\n",
        "\n",
        "# Train and test function with or data\n",
        "for label in yExamples:\n",
        "  print(label)\n",
        "  y = yExamples[label]\n",
        "\n",
        "  predict = create_prediction_function(X,y)\n",
        "\n",
        "\n",
        "  xValues = []\n",
        "  yValues = []\n",
        "  colors = []\n",
        "  detail = 3 # 1 to 5 to change image detail \n",
        "  for i in range(-5*detail,6*detail):\n",
        "    for j in range(-5*detail,6*detail):\n",
        "      xValues.append(i/detail)\n",
        "      yValues.append(j/detail)\n",
        "      prediction = predict([[i,j]])\n",
        "      if(prediction == 1):\n",
        "        colors.append('blue')\n",
        "      else:\n",
        "        colors.append('red')\n",
        "\n",
        "  plt.scatter(xValues, yValues, color=colors)\n",
        "  # The black points are the test data. \n",
        "  #plot.scatter(xTest, yTest, color = 'black')\n",
        "\n",
        "  # plot a line, a perfit predict would all fall on this line\n",
        "\n",
        "  #plt.plot(x, y)\n",
        "  plt.show()"
      ],
      "execution_count": 0,
      "outputs": [
        {
          "output_type": "stream",
          "text": [
            "Or\n"
          ],
          "name": "stdout"
        },
        {
          "output_type": "stream",
          "text": [
            "/usr/local/lib/python3.6/dist-packages/sklearn/neural_network/multilayer_perceptron.py:562: ConvergenceWarning: Stochastic Optimizer: Maximum iterations (200) reached and the optimization hasn't converged yet.\n",
            "  % self.max_iter, ConvergenceWarning)\n"
          ],
          "name": "stderr"
        },
        {
          "output_type": "display_data",
          "data": {
            "image/png": "[encoded data removed]",
            "text/plain": [
              "<matplotlib.figure.Figure at 0x7f0dd80d3588>"
            ]
          },
          "metadata": {
            "tags": []
          }
        },
        {
          "output_type": "stream",
          "text": [
            "And\n"
          ],
          "name": "stdout"
        },
        {
          "output_type": "stream",
          "text": [
            "/usr/local/lib/python3.6/dist-packages/sklearn/neural_network/multilayer_perceptron.py:562: ConvergenceWarning: Stochastic Optimizer: Maximum iterations (200) reached and the optimization hasn't converged yet.\n",
            "  % self.max_iter, ConvergenceWarning)\n"
          ],
          "name": "stderr"
        },
        {
          "output_type": "display_data",
          "data": {
            "image/png": "[encoded data removed]",
            "text/plain": [
              "<matplotlib.figure.Figure at 0x7f0dd805cc50>"
            ]
          },
          "metadata": {
            "tags": []
          }
        },
        {
          "output_type": "stream",
          "text": [
            "Nand\n"
          ],
          "name": "stdout"
        },
        {
          "output_type": "stream",
          "text": [
            "/usr/local/lib/python3.6/dist-packages/sklearn/neural_network/multilayer_perceptron.py:562: ConvergenceWarning: Stochastic Optimizer: Maximum iterations (200) reached and the optimization hasn't converged yet.\n",
            "  % self.max_iter, ConvergenceWarning)\n"
          ],
          "name": "stderr"
        },
        {
          "output_type": "display_data",
          "data": {
            "image/png": "[encoded data removed]",
            "text/plain": [
              "<matplotlib.figure.Figure at 0x7f0dd7e5c0f0>"
            ]
          },
          "metadata": {
            "tags": []
          }
        },
        {
          "output_type": "stream",
          "text": [
            "Xor\n"
          ],
          "name": "stdout"
        },
        {
          "output_type": "stream",
          "text": [
            "/usr/local/lib/python3.6/dist-packages/sklearn/neural_network/multilayer_perceptron.py:562: ConvergenceWarning: Stochastic Optimizer: Maximum iterations (200) reached and the optimization hasn't converged yet.\n",
            "  % self.max_iter, ConvergenceWarning)\n"
          ],
          "name": "stderr"
        },
        {
          "output_type": "display_data",
          "data": {
            "image/png": "[encoded data removed]",
            "text/plain": [
              "<matplotlib.figure.Figure at 0x7f0dd8019518>"
            ]
          },
          "metadata": {
            "tags": []
          }
        }
      ]
    },
    {
      "metadata": {
        "id": "hM_3D4naYKOM",
        "colab_type": "code",
        "outputId": "cab9f0a8-7139-4138-e74e-42d39c8b972a",
        "colab": {
          "base_uri": "https://localhost:8080/",
          "height": 265
        }
      },
      "cell_type": "code",
      "source": [
        "# Visualize the pattern for a line. \n",
        "\n",
        "# Return 1 for points above a line with a given slope and intercept.\n",
        "def predict(x):\n",
        "  point = x[0]\n",
        "  slope = -2\n",
        "  intercept = 1\n",
        "  yLine = slope * point[0] + intercept\n",
        "  if (point[1] >= yLine):\n",
        "    return 1\n",
        "  else:\n",
        "    return 0\n",
        "  \n",
        "if True:\n",
        "  xValues = []\n",
        "  yValues = []\n",
        "  colors = []\n",
        "  detail = 3 # 1 to 5 \n",
        "  for i in range(-5*detail,6*detail):\n",
        "    for j in range(-5*detail,6*detail):\n",
        "      xValues.append(i/detail)\n",
        "      yValues.append(j/detail)\n",
        "      prediction = predict([[i,j]])\n",
        "      if(prediction == 1):\n",
        "        colors.append('blue')\n",
        "      else:\n",
        "        colors.append('red')\n",
        "\n",
        "  plt.scatter(xValues, yValues, color=colors)\n",
        "  plt.show()"
      ],
      "execution_count": 0,
      "outputs": [
        {
          "output_type": "display_data",
          "data": {
            "image/png": "[encoded data removed]",
            "text/plain": [
              "<matplotlib.figure.Figure at 0x7f0dd83fbf98>"
            ]
          },
          "metadata": {
            "tags": []
          }
        }
      ]
    },
    {
      "metadata": {
        "id": "wY-VFyvtFVfm",
        "colab_type": "code",
        "outputId": "e701dcc5-4b76-4b41-d8bc-354508ea44f6",
        "colab": {
          "base_uri": "https://localhost:8080/",
          "height": 265
        }
      },
      "cell_type": "code",
      "source": [
        "# Try a circle\n",
        "# It may be easier for train a network to predict if values are in a circle\n",
        "# Than to find, calculate, and encode the formula for a circle in a fucnction.\n",
        "\n",
        "from sklearn.neural_network import MLPClassifier\n",
        "X = [[2,2],[2,3],[3,2],[3,3],[1.5,3.5],[3.5,2.5],\n",
        "    [1,1],[1,4],[4,1],[4,4],[5,5],[6,6]]\n",
        "\n",
        "y = [1,1,1,1,1,1, # in circle\n",
        "     0,0,0,0,0,0] # not in circle\n",
        "\n",
        "\n",
        "clf = MLPClassifier(solver='lbfgs', max_iter=10, alpha=1e-4,\n",
        "                     verbose=10, tol=1e-4, random_state=1)\n",
        "#clf = MLPClassifier(solver='lbfgs')\n",
        "#clf = MLPClassifier() # sgd and 200 max by default\n",
        "\n",
        "clf.fit(X, y)\n",
        "\n",
        "predict = clf.predict\n",
        "\n",
        "\n",
        "if True:\n",
        "  xValues = []\n",
        "  yValues = []\n",
        "  colors = []\n",
        "  detail = 5 # 1 to 5 \n",
        "  for i in range(-8,18):\n",
        "    for j in range(-8,18):\n",
        "      xValues.append(i)\n",
        "      yValues.append(j)\n",
        "      prediction = predict([[i,j]])\n",
        "      if(prediction == 1):\n",
        "        colors.append('blue')\n",
        "      else:\n",
        "        colors.append('red')\n",
        "\n",
        "  plt.scatter(xValues, yValues, color=colors)\n",
        "  plt.show()  "
      ],
      "execution_count": 0,
      "outputs": [
        {
          "output_type": "display_data",
          "data": {
            "image/png": "[encoded data removed]",
            "text/plain": [
              "<matplotlib.figure.Figure at 0x7f0dd7fc55c0>"
            ]
          },
          "metadata": {
            "tags": []
          }
        }
      ]
    },
    {
      "metadata": {
        "id": "HpsJnzBnopqX",
        "colab_type": "code",
        "outputId": "3581f53f-f226-4f41-b08c-8ca04c9e83b4",
        "colab": {
          "base_uri": "https://localhost:8080/",
          "height": 107
        }
      },
      "cell_type": "code",
      "source": [
        "# 5 lines of code to train a prediction function simply from input data. \n",
        "\n",
        "from sklearn.neural_network import MLPClassifier\n",
        "\n",
        "data = \"\"\"1,0,0\n",
        "0,1,1\n",
        "1,2,1\n",
        "3,2,0\n",
        "\"\"\"\n",
        "\n",
        "X = []\n",
        "y = []\n",
        "for line in data.splitlines():\n",
        "  row = line.split(\",\")\n",
        "  X.append([int(row[0]),int(row[1])])\n",
        "  y.append(row[-1])\n",
        "  #print(row)\n",
        "\n",
        "clf = MLPClassifier()\n",
        "\n",
        "clf.fit(X, y)\n",
        "\n",
        "tests = [[5,4],[4,5]]\n",
        "for item in tests:\n",
        "  print(clf.predict([item])) # You can input any of the 4 possible inputs"
      ],
      "execution_count": 0,
      "outputs": [
        {
          "output_type": "stream",
          "text": [
            "['0']\n",
            "['1']\n"
          ],
          "name": "stdout"
        },
        {
          "output_type": "stream",
          "text": [
            "/usr/local/lib/python3.6/dist-packages/sklearn/neural_network/multilayer_perceptron.py:562: ConvergenceWarning: Stochastic Optimizer: Maximum iterations (200) reached and the optimization hasn't converged yet.\n",
            "  % self.max_iter, ConvergenceWarning)\n"
          ],
          "name": "stderr"
        }
      ]
    },
    {
      "metadata": {
        "id": "Q47BFL3vorG9",
        "colab_type": "code",
        "outputId": "540c5c5d-53b1-4e86-e071-eb72f8963dcb",
        "colab": {
          "base_uri": "https://localhost:8080/",
          "height": 35
        }
      },
      "cell_type": "code",
      "source": [
        "tf.__version__\n"
      ],
      "execution_count": 0,
      "outputs": [
        {
          "output_type": "execute_result",
          "data": {
            "text/plain": [
              "'1.12.0'"
            ]
          },
          "metadata": {
            "tags": []
          },
          "execution_count": 25
        }
      ]
    },
    {
      "metadata": {
        "id": "UseM6CjYxc5G",
        "colab_type": "text"
      },
      "cell_type": "markdown",
      "source": [
        "[Top](#scrollTo=sY96aPI-kVPC)\n",
        "\n",
        "\n",
        "---\n",
        "# IRIS\n",
        "use iris.csv for this part\n"
      ]
    },
    {
      "metadata": {
        "id": "W7UTfOeLGDko",
        "colab_type": "code",
        "colab": {}
      },
      "cell_type": "code",
      "source": [
        "#walkthrough"
      ],
      "execution_count": 0,
      "outputs": []
    },
    {
      "metadata": {
        "id": "BrBFhh2zGDcv",
        "colab_type": "code",
        "colab": {}
      },
      "cell_type": "code",
      "source": [
        "# # Problem\n",
        "# #Complete the create_prediction_function\n",
        "# from sklearn.svm import SVC\n",
        "# def create_prediction_function(X, y):\n",
        "#   model = clf.fit(X, y)\n",
        "#   return model"
      ],
      "execution_count": 0,
      "outputs": []
    },
    {
      "metadata": {
        "id": "hqTb01kiGDWT",
        "colab_type": "code",
        "colab": {}
      },
      "cell_type": "code",
      "source": [
        "# Solution\n",
        "\n",
        "from sklearn.svm import SVC\n",
        "# def create_prediction_function(x, y):\n",
        "#   svc = SVC()\n",
        "#   model = svc.fit(x, y)\n",
        "#   return model"
      ],
      "execution_count": 0,
      "outputs": []
    },
    {
      "metadata": {
        "id": "zPuggjnkUGpH",
        "colab_type": "code",
        "colab": {}
      },
      "cell_type": "code",
      "source": [
        "import tensorflow as tf\n",
        "def create_prediction_function(x, y):\n",
        "  model = tf.keras.models.Sequential([\n",
        "      tf.keras.layers.Dense(10, input_dim=4, kernel_initializer='normal', activation='relu'),\n",
        "      tf.keras.layers.Dropout(0.2),\n",
        "      tf.keras.layers.Dense(5, activation=tf.nn.softmax),\n",
        "      tf.keras.layers.Dense(3, activation=tf.nn.softmax)\n",
        "      ])\n",
        "  model.compile(optimizer='adam',\n",
        "              loss='sparse_categorical_crossentropy',\n",
        "              metrics=['accuracy'])\n",
        "  model.summary()\n",
        "\n",
        "  model.fit(x, y, epochs=5)\n",
        "  return model"
      ],
      "execution_count": 0,
      "outputs": []
    },
    {
      "metadata": {
        "id": "arPjptdQTiaQ",
        "colab_type": "code",
        "outputId": "11373523-ee57-48c1-d7d3-67418197675c",
        "colab": {
          "base_uri": "https://localhost:8080/",
          "height": 489
        }
      },
      "cell_type": "code",
      "source": [
        "#iris neural network\n",
        "#Solution\n",
        "from sklearn.preprocessing import LabelEncoder\n",
        "df = pd.read_csv('iris.csv')\n",
        "x=df.iloc[:,:-1]\n",
        "y=df.iloc[:,-1:]\n",
        "encoder = LabelEncoder()\n",
        "y = encoder.fit_transform(y)\n",
        "x_train, x_test, y_train, y_test = train_test_split(x, y, test_size=.2, random_state=5685)\n",
        "# y_train = tf.keras.utils.to_categorical(y_train)\n",
        "model = create_prediction_function(x_train, y_train)\n",
        "\n",
        "prediction = model.predict(x_test)\n",
        "prediction = prediction.argmax(axis=-1)\n",
        "accuracy = accuracy_score(y_test, prediction)\n",
        "accuracy\n",
        "\n",
        "\n"
      ],
      "execution_count": 0,
      "outputs": [
        {
          "output_type": "stream",
          "text": [
            "_________________________________________________________________\n",
            "Layer (type)                 Output Shape              Param #   \n",
            "=================================================================\n",
            "dense_18 (Dense)             (None, 10)                50        \n",
            "_________________________________________________________________\n",
            "dropout_9 (Dropout)          (None, 10)                0         \n",
            "_________________________________________________________________\n",
            "dense_19 (Dense)             (None, 5)                 55        \n",
            "_________________________________________________________________\n",
            "dense_20 (Dense)             (None, 3)                 18        \n",
            "=================================================================\n",
            "Total params: 123\n",
            "Trainable params: 123\n",
            "Non-trainable params: 0\n",
            "_________________________________________________________________\n",
            "Epoch 1/5\n",
            "120/120 [==============================] - 0s 4ms/step - loss: 1.1356 - acc: 0.3500\n",
            "Epoch 2/5\n",
            "120/120 [==============================] - 0s 198us/step - loss: 1.1292 - acc: 0.3500\n",
            "Epoch 3/5\n",
            "120/120 [==============================] - 0s 180us/step - loss: 1.1197 - acc: 0.3500\n",
            "Epoch 4/5\n",
            "120/120 [==============================] - 0s 182us/step - loss: 1.1145 - acc: 0.3500\n",
            "Epoch 5/5\n",
            "120/120 [==============================] - 0s 185us/step - loss: 1.1143 - acc: 0.3500\n"
          ],
          "name": "stdout"
        },
        {
          "output_type": "execute_result",
          "data": {
            "text/plain": [
              "0.26666666666666666"
            ]
          },
          "metadata": {
            "tags": []
          },
          "execution_count": 26
        }
      ]
    },
    {
      "metadata": {
        "id": "NqiinXa8X7jO",
        "colab_type": "code",
        "outputId": "8d3f5028-f802-48ac-93de-3181f3bc7f01",
        "colab": {
          "base_uri": "https://localhost:8080/",
          "height": 126
        }
      },
      "cell_type": "code",
      "source": [
        "y_train"
      ],
      "execution_count": 0,
      "outputs": [
        {
          "output_type": "execute_result",
          "data": {
            "text/plain": [
              "array([1, 0, 0, 1, 2, 2, 1, 1, 1, 2, 0, 0, 2, 0, 1, 0, 2, 1, 0, 2, 2, 1,\n",
              "       0, 0, 0, 0, 1, 1, 0, 0, 1, 0, 1, 1, 0, 0, 1, 0, 2, 0, 1, 2, 1, 1,\n",
              "       1, 1, 2, 1, 1, 1, 1, 0, 0, 1, 1, 1, 1, 0, 0, 0, 1, 0, 1, 2, 2, 0,\n",
              "       2, 2, 1, 1, 1, 0, 2, 0, 1, 0, 0, 0, 0, 2, 0, 2, 1, 0, 1, 1, 2, 0,\n",
              "       1, 2, 2, 0, 1, 1, 2, 0, 2, 1, 0, 1, 2, 0, 1, 0, 2, 1, 2, 0, 1, 2,\n",
              "       2, 0, 2, 2, 2, 2, 1, 0, 1, 1])"
            ]
          },
          "metadata": {
            "tags": []
          },
          "execution_count": 20
        }
      ]
    },
    {
      "metadata": {
        "id": "omQ0leNAGDQZ",
        "colab_type": "code",
        "outputId": "7bc9bdb2-8644-481e-ef17-9182ad74d7bc",
        "colab": {
          "base_uri": "https://localhost:8080/",
          "height": 916
        }
      },
      "cell_type": "code",
      "source": [
        "# Tests\n",
        "def warn(*args, **kwargs):\n",
        "    pass\n",
        "import warnings\n",
        "warnings.warn = warn\n",
        "import pandas as pd\n",
        "from sklearn.model_selection import train_test_split\n",
        "from sklearn.preprocessing import LabelEncoder\n",
        "from sklearn.metrics import accuracy_score\n",
        "from sklearn.metrics import f1_score\n",
        "\n",
        "encoder = LabelEncoder()\n",
        "\n",
        "\n",
        "\n",
        "df = pd.read_csv('iris.csv')\n",
        "x=df.iloc[:,:-1]\n",
        "y=df.iloc[:,-1:]\n",
        "y = encoder.fit_transform(y)\n",
        "x_train, x_test, y_train, y_test = train_test_split(x, y, test_size=.2, random_state=5685)\n",
        "model = create_prediction_function(x_train, y_train)\n",
        "\n",
        "\n",
        "prediction = model.predict(x_test)\n",
        "accuracy = accuracy_score(y_test, prediction)\n",
        "\n",
        "min_accuracy = .80\n",
        "\n",
        "# assert accuracy > min_accuracy,  \"Your accuracy is %f which is less than the expected accuracy\"%accuracy  "
      ],
      "execution_count": 0,
      "outputs": [
        {
          "output_type": "stream",
          "text": [
            "_________________________________________________________________\n",
            "Layer (type)                 Output Shape              Param #   \n",
            "=================================================================\n",
            "dense_8 (Dense)              (None, 10)                50        \n",
            "_________________________________________________________________\n",
            "dropout_4 (Dropout)          (None, 10)                0         \n",
            "_________________________________________________________________\n",
            "dense_9 (Dense)              (None, 3)                 33        \n",
            "=================================================================\n",
            "Total params: 83\n",
            "Trainable params: 83\n",
            "Non-trainable params: 0\n",
            "_________________________________________________________________\n",
            "Epoch 1/5\n",
            "120/120 [==============================] - 0s 2ms/step - loss: 1.1723 - acc: 0.3750\n",
            "Epoch 2/5\n",
            "120/120 [==============================] - 0s 151us/step - loss: 1.1571 - acc: 0.3250\n",
            "Epoch 3/5\n",
            "120/120 [==============================] - 0s 132us/step - loss: 1.1029 - acc: 0.3667\n",
            "Epoch 4/5\n",
            "120/120 [==============================] - 0s 152us/step - loss: 1.0746 - acc: 0.3750\n",
            "Epoch 5/5\n",
            "120/120 [==============================] - 0s 154us/step - loss: 1.0969 - acc: 0.3750\n"
          ],
          "name": "stdout"
        },
        {
          "output_type": "error",
          "ename": "ValueError",
          "evalue": "ignored",
          "traceback": [
            "\u001b[0;31m---------------------------------------------------------------------------\u001b[0m",
            "\u001b[0;31mValueError\u001b[0m                                Traceback (most recent call last)",
            "\u001b[0;32m<ipython-input-18-33979fec1f70>\u001b[0m in \u001b[0;36m<module>\u001b[0;34m()\u001b[0m\n\u001b[1;32m     22\u001b[0m \u001b[0;34m\u001b[0m\u001b[0m\n\u001b[1;32m     23\u001b[0m \u001b[0mprediction\u001b[0m \u001b[0;34m=\u001b[0m \u001b[0mmodel\u001b[0m\u001b[0;34m.\u001b[0m\u001b[0mpredict\u001b[0m\u001b[0;34m(\u001b[0m\u001b[0mx_test\u001b[0m\u001b[0;34m)\u001b[0m\u001b[0;34m\u001b[0m\u001b[0;34m\u001b[0m\u001b[0m\n\u001b[0;32m---> 24\u001b[0;31m \u001b[0maccuracy\u001b[0m \u001b[0;34m=\u001b[0m \u001b[0maccuracy_score\u001b[0m\u001b[0;34m(\u001b[0m\u001b[0my_test\u001b[0m\u001b[0;34m,\u001b[0m \u001b[0mprediction\u001b[0m\u001b[0;34m)\u001b[0m\u001b[0;34m\u001b[0m\u001b[0;34m\u001b[0m\u001b[0m\n\u001b[0m\u001b[1;32m     25\u001b[0m \u001b[0;34m\u001b[0m\u001b[0m\n\u001b[1;32m     26\u001b[0m \u001b[0mmin_accuracy\u001b[0m \u001b[0;34m=\u001b[0m \u001b[0;36m.80\u001b[0m\u001b[0;34m\u001b[0m\u001b[0;34m\u001b[0m\u001b[0m\n",
            "\u001b[0;32m/usr/local/lib/python3.6/dist-packages/sklearn/metrics/classification.py\u001b[0m in \u001b[0;36maccuracy_score\u001b[0;34m(y_true, y_pred, normalize, sample_weight)\u001b[0m\n\u001b[1;32m    174\u001b[0m \u001b[0;34m\u001b[0m\u001b[0m\n\u001b[1;32m    175\u001b[0m     \u001b[0;31m# Compute accuracy for each possible representation\u001b[0m\u001b[0;34m\u001b[0m\u001b[0;34m\u001b[0m\u001b[0;34m\u001b[0m\u001b[0m\n\u001b[0;32m--> 176\u001b[0;31m     \u001b[0my_type\u001b[0m\u001b[0;34m,\u001b[0m \u001b[0my_true\u001b[0m\u001b[0;34m,\u001b[0m \u001b[0my_pred\u001b[0m \u001b[0;34m=\u001b[0m \u001b[0m_check_targets\u001b[0m\u001b[0;34m(\u001b[0m\u001b[0my_true\u001b[0m\u001b[0;34m,\u001b[0m \u001b[0my_pred\u001b[0m\u001b[0;34m)\u001b[0m\u001b[0;34m\u001b[0m\u001b[0;34m\u001b[0m\u001b[0m\n\u001b[0m\u001b[1;32m    177\u001b[0m     \u001b[0mcheck_consistent_length\u001b[0m\u001b[0;34m(\u001b[0m\u001b[0my_true\u001b[0m\u001b[0;34m,\u001b[0m \u001b[0my_pred\u001b[0m\u001b[0;34m,\u001b[0m \u001b[0msample_weight\u001b[0m\u001b[0;34m)\u001b[0m\u001b[0;34m\u001b[0m\u001b[0;34m\u001b[0m\u001b[0m\n\u001b[1;32m    178\u001b[0m     \u001b[0;32mif\u001b[0m \u001b[0my_type\u001b[0m\u001b[0;34m.\u001b[0m\u001b[0mstartswith\u001b[0m\u001b[0;34m(\u001b[0m\u001b[0;34m'multilabel'\u001b[0m\u001b[0;34m)\u001b[0m\u001b[0;34m:\u001b[0m\u001b[0;34m\u001b[0m\u001b[0;34m\u001b[0m\u001b[0m\n",
            "\u001b[0;32m/usr/local/lib/python3.6/dist-packages/sklearn/metrics/classification.py\u001b[0m in \u001b[0;36m_check_targets\u001b[0;34m(y_true, y_pred)\u001b[0m\n\u001b[1;32m     79\u001b[0m     \u001b[0;32mif\u001b[0m \u001b[0mlen\u001b[0m\u001b[0;34m(\u001b[0m\u001b[0my_type\u001b[0m\u001b[0;34m)\u001b[0m \u001b[0;34m>\u001b[0m \u001b[0;36m1\u001b[0m\u001b[0;34m:\u001b[0m\u001b[0;34m\u001b[0m\u001b[0;34m\u001b[0m\u001b[0m\n\u001b[1;32m     80\u001b[0m         raise ValueError(\"Classification metrics can't handle a mix of {0} \"\n\u001b[0;32m---> 81\u001b[0;31m                          \"and {1} targets\".format(type_true, type_pred))\n\u001b[0m\u001b[1;32m     82\u001b[0m \u001b[0;34m\u001b[0m\u001b[0m\n\u001b[1;32m     83\u001b[0m     \u001b[0;31m# We can't have more than one value on y_type => The set is no more needed\u001b[0m\u001b[0;34m\u001b[0m\u001b[0;34m\u001b[0m\u001b[0;34m\u001b[0m\u001b[0m\n",
            "\u001b[0;31mValueError\u001b[0m: Classification metrics can't handle a mix of multiclass and continuous-multioutput targets"
          ]
        }
      ]
    },
    {
      "metadata": {
        "id": "2FM1XK5m5S5f",
        "colab_type": "code",
        "outputId": "4d32f34f-35d1-4b6d-d593-57c6d7ac14bd",
        "colab": {
          "base_uri": "https://localhost:8080/",
          "height": 35
        }
      },
      "cell_type": "code",
      "source": [
        "accuracy\n"
      ],
      "execution_count": 0,
      "outputs": [
        {
          "output_type": "execute_result",
          "data": {
            "text/plain": [
              "0.23333333333333334"
            ]
          },
          "metadata": {
            "tags": []
          },
          "execution_count": 15
        }
      ]
    },
    {
      "metadata": {
        "id": "t1v6vykS8tLl",
        "colab_type": "text"
      },
      "cell_type": "markdown",
      "source": [
        "[Top](#scrollTo=sY96aPI-kVPC)\n",
        "\n",
        "\n",
        "---\n",
        "# CIFAR 10\n",
        "\n"
      ]
    },
    {
      "metadata": {
        "id": "gwjVLCXD8x27",
        "colab_type": "code",
        "colab": {}
      },
      "cell_type": "code",
      "source": [
        ""
      ],
      "execution_count": 0,
      "outputs": []
    },
    {
      "metadata": {
        "id": "NrvfXR9S8x8Q",
        "colab_type": "code",
        "outputId": "60263ea7-4811-4b75-b6d3-83593968bf00",
        "colab": {
          "base_uri": "https://localhost:8080/",
          "height": 35
        }
      },
      "cell_type": "code",
      "source": [
        "import tensorflow as tf\n",
        "import keras\n",
        "(x_train, y_train),(x_test, y_test) = tf.keras.datasets.cifar10.load_data()"
      ],
      "execution_count": 0,
      "outputs": [
        {
          "output_type": "stream",
          "text": [
            "Using TensorFlow backend.\n"
          ],
          "name": "stderr"
        }
      ]
    },
    {
      "metadata": {
        "id": "bheCKID48yDC",
        "colab_type": "code",
        "colab": {}
      },
      "cell_type": "code",
      "source": [
        "\n",
        "from keras.layers import Input\n",
        "from keras.models import load_model\n",
        "import numpy as np\n",
        "import keras\n",
        "from keras.models import Sequential\n",
        "from keras.layers import Dense, Dropout, Flatten\n",
        "from keras.layers import Conv2D, MaxPooling2D\n",
        "from keras import backend as K\n",
        "from keras.layers import Convolution2D, MaxPooling2D\n",
        "from keras.models import load_model\n"
      ],
      "execution_count": 0,
      "outputs": []
    },
    {
      "metadata": {
        "id": "_INNov4x8yAS",
        "colab_type": "code",
        "outputId": "2e4ce3cd-c3f1-4b73-bb4c-ed33c46d0665",
        "colab": {
          "base_uri": "https://localhost:8080/",
          "height": 35
        }
      },
      "cell_type": "code",
      "source": [
        "keras.__version__\n"
      ],
      "execution_count": 0,
      "outputs": [
        {
          "output_type": "execute_result",
          "data": {
            "text/plain": [
              "'2.2.4'"
            ]
          },
          "metadata": {
            "tags": []
          },
          "execution_count": 27
        }
      ]
    },
    {
      "metadata": {
        "id": "-7Ar9M7m8xzQ",
        "colab_type": "code",
        "outputId": "87882dc5-797d-4efb-ef38-f678462fcb51",
        "colab": {
          "base_uri": "https://localhost:8080/",
          "height": 35
        }
      },
      "cell_type": "code",
      "source": [
        "print(type(x_train[1]))\n"
      ],
      "execution_count": 0,
      "outputs": [
        {
          "output_type": "stream",
          "text": [
            "<class 'numpy.ndarray'>\n"
          ],
          "name": "stdout"
        }
      ]
    },
    {
      "metadata": {
        "id": "_4cAEuOm-X7W",
        "colab_type": "code",
        "outputId": "4a4a3745-5c5d-4242-ee4a-e7d7536a745f",
        "colab": {
          "base_uri": "https://localhost:8080/",
          "height": 171
        }
      },
      "cell_type": "code",
      "source": [
        "x_train[1].shape()\n"
      ],
      "execution_count": 0,
      "outputs": [
        {
          "output_type": "error",
          "ename": "TypeError",
          "evalue": "ignored",
          "traceback": [
            "\u001b[0;31m---------------------------------------------------------------------------\u001b[0m",
            "\u001b[0;31mTypeError\u001b[0m                                 Traceback (most recent call last)",
            "\u001b[0;32m<ipython-input-31-7fe17db4b698>\u001b[0m in \u001b[0;36m<module>\u001b[0;34m()\u001b[0m\n\u001b[0;32m----> 1\u001b[0;31m \u001b[0mx_train\u001b[0m\u001b[0;34m[\u001b[0m\u001b[0;36m1\u001b[0m\u001b[0;34m]\u001b[0m\u001b[0;34m.\u001b[0m\u001b[0mshape\u001b[0m\u001b[0;34m(\u001b[0m\u001b[0;34m)\u001b[0m\u001b[0;34m\u001b[0m\u001b[0;34m\u001b[0m\u001b[0m\n\u001b[0m",
            "\u001b[0;31mTypeError\u001b[0m: 'tuple' object is not callable"
          ]
        }
      ]
    },
    {
      "metadata": {
        "id": "lCuANQJx-owe",
        "colab_type": "code",
        "outputId": "5892b2a8-003c-47ae-9f80-2b3b765e8630",
        "colab": {
          "base_uri": "https://localhost:8080/",
          "height": 35
        }
      },
      "cell_type": "code",
      "source": [
        "x_train.shape\n"
      ],
      "execution_count": 0,
      "outputs": [
        {
          "output_type": "execute_result",
          "data": {
            "text/plain": [
              "(50000, 32, 32, 3)"
            ]
          },
          "metadata": {
            "tags": []
          },
          "execution_count": 33
        }
      ]
    },
    {
      "metadata": {
        "id": "v8J-b_mz-tl2",
        "colab_type": "code",
        "colab": {}
      },
      "cell_type": "code",
      "source": [
        "\n"
      ],
      "execution_count": 0,
      "outputs": []
    },
    {
      "metadata": {
        "id": "drKY_xh17_t5",
        "colab_type": "text"
      },
      "cell_type": "markdown",
      "source": [
        "[Top](#scrollTo=sY96aPI-kVPC)\n",
        "\n",
        "\n",
        "---\n",
        "# One Hot Encoding\n",
        "\n"
      ]
    },
    {
      "metadata": {
        "id": "exUNY0rSA-u8",
        "colab_type": "code",
        "colab": {}
      },
      "cell_type": "code",
      "source": [
        "#walkthrough"
      ],
      "execution_count": 0,
      "outputs": []
    },
    {
      "metadata": {
        "id": "SuplMpiI8O6f",
        "colab_type": "code",
        "colab": {}
      },
      "cell_type": "code",
      "source": [
        "#Problem\n",
        "import tensorflow as tf\n",
        "from sklearn.preprocessing import LabelEncoder\n",
        "cities = ['New York','London','Hong Kong','Singapore','Frankfurt', 'Toronto', 'Hong Kong', 'Frankfurt','New York','Toronto','Singapore','London']\n",
        "encoder = LabelEncoder()\n",
        "# cities_encoded = encoder.fit_transform(cities)\n",
        "# cities_one_hot = tf.keras.utils.to_categorical(cities_encoded)"
      ],
      "execution_count": 0,
      "outputs": []
    },
    {
      "metadata": {
        "id": "WxTf1DA08Omk",
        "colab_type": "code",
        "colab": {}
      },
      "cell_type": "code",
      "source": [
        "#Solution\n",
        "import tensorflow as tf\n",
        "from sklearn.preprocessing import LabelEncoder\n",
        "cities = ['New York','London','Hong Kong','Singapore','Frankfurt', 'Toronto', 'Hong Kong', 'Frankfurt','New York','Toronto','Singapore','London']\n",
        "encoder = LabelEncoder()\n",
        "cities_encoded = encoder.fit_transform(cities)\n",
        "cities_one_hot = tf.keras.utils.to_categorical(cities_encoded)"
      ],
      "execution_count": 0,
      "outputs": []
    },
    {
      "metadata": {
        "id": "l5an3tvq8Ohd",
        "colab_type": "code",
        "colab": {}
      },
      "cell_type": "code",
      "source": [
        "#Test Cases\n",
        "assert cities_one_hot is not None, \"No One Hot Encoding Found\"\n",
        "import random\n",
        "index = random.randint(0,len(cities_one_hot)-1)\n",
        "c = cities_one_hot[index]\n",
        "a=[x for x in c if x>0]\n",
        "assert len(a)==1, \"Not One Hot encoded\""
      ],
      "execution_count": 0,
      "outputs": []
    },
    {
      "metadata": {
        "id": "EN3lYppxuLys",
        "colab_type": "text"
      },
      "cell_type": "markdown",
      "source": [
        "[Top](#scrollTo=sY96aPI-kVPC)\n",
        "\n",
        "\n",
        "---\n",
        "# Label Encoding\n",
        "\n"
      ]
    },
    {
      "metadata": {
        "id": "9tfeMoH3G1hS",
        "colab_type": "code",
        "colab": {}
      },
      "cell_type": "code",
      "source": [
        "#walkthrough"
      ],
      "execution_count": 0,
      "outputs": []
    },
    {
      "metadata": {
        "id": "vVnuOJrdG1Fk",
        "colab_type": "code",
        "colab": {}
      },
      "cell_type": "code",
      "source": [
        "#Problem\n",
        "from sklearn.preprocessing import LabelEncoder\n",
        "cities = ['New York','London','Hong Kong','Singapore','Frankfurt', 'Toronto', 'Hong Kong', 'Frankfurt','New York','Toronto','Singapore','London']\n",
        "# encoder = LabelEncoder()\n",
        "# cities_encoded = encoder.fit_transform(cities)"
      ],
      "execution_count": 0,
      "outputs": []
    },
    {
      "metadata": {
        "id": "4v86G45eG0_b",
        "colab_type": "code",
        "colab": {}
      },
      "cell_type": "code",
      "source": [
        "#Solution\n",
        "from sklearn.preprocessing import LabelEncoder\n",
        "cities = ['New York','London','Hong Kong','Singapore','Frankfurt', 'Toronto', 'Hong Kong', 'Frankfurt','New York','Toronto','Singapore','London']\n",
        "encoder = LabelEncoder()\n",
        "cities_encoded = encoder.fit_transform(cities)\n"
      ],
      "execution_count": 0,
      "outputs": []
    },
    {
      "metadata": {
        "id": "EBhuLwEVG06D",
        "colab_type": "code",
        "colab": {}
      },
      "cell_type": "code",
      "source": [
        "#Test Cases\n",
        "assert cities_encoded is not None, \"No Encoding Found\"\n",
        "\n",
        "assert cities_encoded[1]==cities_encoded[-1], \"Not One Hot encoded\""
      ],
      "execution_count": 0,
      "outputs": []
    },
    {
      "metadata": {
        "id": "m0jS8CqKIogY",
        "colab_type": "code",
        "colab": {}
      },
      "cell_type": "code",
      "source": [
        ""
      ],
      "execution_count": 0,
      "outputs": []
    },
    {
      "metadata": {
        "id": "S6HWUoxRAq-X",
        "colab_type": "text"
      },
      "cell_type": "markdown",
      "source": [
        "[Top](#scrollTo=sY96aPI-kVPC)\n",
        "\n",
        "\n",
        "---\n",
        "# Mnist binary for the activation function which doesnt works"
      ]
    },
    {
      "metadata": {
        "id": "0_u982KRuREw",
        "colab_type": "code",
        "colab": {}
      },
      "cell_type": "code",
      "source": [
        "#walkthrough\n",
        "#two things to be taught the activation and the losses binary cross entropy special case"
      ],
      "execution_count": 0,
      "outputs": []
    },
    {
      "metadata": {
        "id": "0rxDZ9J3uQ9i",
        "colab_type": "code",
        "colab": {}
      },
      "cell_type": "code",
      "source": [
        "#problem"
      ],
      "execution_count": 0,
      "outputs": []
    },
    {
      "metadata": {
        "id": "cbUg87unuQGR",
        "colab_type": "code",
        "colab": {}
      },
      "cell_type": "code",
      "source": [
        "import tensorflow as tf\n",
        "import numpy as np\n",
        "def create_prediction_function(x, y):\n",
        "  img_rows, img_cols = 28, 28\n",
        "  x = x.reshape(x.shape[0], img_rows, img_cols, 1)\n",
        "  input_shape = (img_rows, img_cols, 1)\n",
        "  model = tf.keras.models.Sequential([\n",
        "      tf.keras.layers.Conv2D(32, kernel_size=(3, 3),\n",
        "                             activation='relu',\n",
        "                             input_shape=input_shape),\n",
        "      tf.keras.layers.Conv2D(64, kernel_size=(3,3), activation='relu'),\n",
        "      tf.keras.layers.MaxPooling2D(pool_size=(2,2)),\n",
        "      tf.keras.layers.Dropout(.25),\n",
        "      tf.keras.layers.Flatten(),\n",
        "      tf.keras.layers.Dense(128, activation='relu'),\n",
        "      tf.keras.layers.Dropout(.5),\n",
        "      tf.keras.layers.Dense(2, activation='sigmoid')\n",
        "  ])\n",
        "\n",
        "  model.compile(optimizer='adam',\n",
        "                loss='binary_crossentropy',\n",
        "                metrics=['accuracy'])\n",
        "  model.fit(x, y, epochs=5)#with more than 10 epochs it will achive more than 99% accuracy\n",
        "\n",
        "  return model"
      ],
      "execution_count": 0,
      "outputs": []
    },
    {
      "metadata": {
        "id": "WlybtpDuuP_M",
        "colab_type": "code",
        "outputId": "8ca047f5-454b-4904-9bd4-3b143d0e5779",
        "colab": {
          "base_uri": "https://localhost:8080/",
          "height": 199
        }
      },
      "cell_type": "code",
      "source": [
        "#test\n",
        "# Tests\n",
        "from sklearn.metrics import accuracy_score\n",
        "import time\n",
        "import tensorflow as tf\n",
        "import numpy as np\n",
        "start_time=time.time()\n",
        "mnist = tf.keras.datasets.mnist\n",
        "img_rows, img_cols = 28, 28\n",
        "\n",
        "(x_train, y_train),(x_test, y_test) = mnist.load_data()\n",
        "train_reduce = np.where((y_train == 0 ) | (y_train == 1))\n",
        "test_reduce = np.where((y_test == 0 ) | (y_test == 1))\n",
        "\n",
        "x_train, y_train = x_train[train_reduce], y_train[train_reduce]\n",
        "x_test, y_test = x_test[test_reduce], y_test[test_reduce]\n",
        "y_train = tf.keras.utils.to_categorical(y_train)\n",
        "\n",
        "model = create_prediction_function(x_train, y_train)\n",
        "run_time = time.time()-start_time\n",
        "x_test = x_test.reshape(x_test.shape[0], img_rows, img_cols, 1)\n",
        "out=model.predict(x_test)\n",
        "out_classes = out.argmax(axis=-1)\n",
        "accuracy = accuracy_score(y_test, out_classes)\n",
        "min_accuracy = .95\n",
        "max_time = 196\n",
        "\n",
        "assert accuracy > min_accuracy, \"Your accuracy is %f which is less than the expected accuracy\"%accuracy\n",
        "assert max_time > run_time, \"Time limit crossed\"\n"
      ],
      "execution_count": 0,
      "outputs": [
        {
          "output_type": "stream",
          "text": [
            "Epoch 1/5\n",
            "12665/12665 [==============================] - 5s 365us/step - loss: 0.1504 - acc: 0.9898\n",
            "Epoch 2/5\n",
            "12665/12665 [==============================] - 4s 321us/step - loss: 0.0792 - acc: 0.9949\n",
            "Epoch 3/5\n",
            "12665/12665 [==============================] - 4s 323us/step - loss: 0.0984 - acc: 0.9935\n",
            "Epoch 4/5\n",
            "12665/12665 [==============================] - 4s 325us/step - loss: 0.0486 - acc: 0.9970\n",
            "Epoch 5/5\n",
            "12665/12665 [==============================] - 4s 323us/step - loss: 0.0505 - acc: 0.9968\n"
          ],
          "name": "stdout"
        }
      ]
    },
    {
      "metadata": {
        "id": "EUmyIgeSuXvM",
        "colab_type": "text"
      },
      "cell_type": "markdown",
      "source": [
        "[Top](#scrollTo=sY96aPI-kVPC)\n",
        "\n",
        "\n",
        "---\n",
        "# Mnist multiclass for the activation function"
      ]
    },
    {
      "metadata": {
        "id": "y3XU_DE_ub3U",
        "colab_type": "code",
        "colab": {}
      },
      "cell_type": "code",
      "source": [
        "#walkthrough"
      ],
      "execution_count": 0,
      "outputs": []
    },
    {
      "metadata": {
        "id": "clEgG7NPub0X",
        "colab_type": "code",
        "colab": {}
      },
      "cell_type": "code",
      "source": [
        "#problem\n",
        "#Change the activation function to softmax and loss to categorical crossentropy and improve the accuracy\n",
        "import tensorflow as tf\n",
        "import numpy as np\n",
        "def create_prediction_function(x, y):\n",
        "  img_rows, img_cols = 28, 28\n",
        "  x = x.reshape(x.shape[0], img_rows, img_cols, 1)\n",
        "  input_shape = (img_rows, img_cols, 1)\n",
        "  model = tf.keras.models.Sequential([\n",
        "      tf.keras.layers.Conv2D(16, kernel_size=(3, 3),\n",
        "                             activation='relu',\n",
        "                             input_shape=input_shape),\n",
        "      tf.keras.layers.Conv2D(32, kernel_size=(3,3), activation='relu'),\n",
        "      tf.keras.layers.MaxPooling2D(pool_size=(2,2)),\n",
        "      tf.keras.layers.Dropout(.25),\n",
        "      tf.keras.layers.Flatten(),\n",
        "      tf.keras.layers.Dense(64, activation='relu'),\n",
        "      tf.keras.layers.Dropout(.5),\n",
        "      tf.keras.layers.Dense(4, activation='sigmoid')\n",
        "  ])\n",
        "\n",
        "  model.compile(optimizer='adam',\n",
        "                loss='binary_crossentropy',\n",
        "                metrics=['accuracy'])\n",
        "  model.fit(x, y, epochs=5)#with more than 10 epochs it will achive more than 99% accuracy\n",
        "\n",
        "  return model"
      ],
      "execution_count": 0,
      "outputs": []
    },
    {
      "metadata": {
        "id": "bUVhdBSVubxx",
        "colab_type": "code",
        "colab": {}
      },
      "cell_type": "code",
      "source": [
        "#solution\n",
        "#if we use 32 64 128 then accuracy is 50% decreasing the parameters increases the accuracy\n",
        "import tensorflow as tf\n",
        "import numpy as np\n",
        "def create_prediction_function(x, y):\n",
        "  img_rows, img_cols = 28, 28\n",
        "  x = x.reshape(x.shape[0], img_rows, img_cols, 1)\n",
        "  input_shape = (img_rows, img_cols, 1)\n",
        "  model = tf.keras.models.Sequential([\n",
        "      tf.keras.layers.Conv2D(16, kernel_size=(3, 3),\n",
        "                             activation='relu',\n",
        "                             input_shape=input_shape),\n",
        "      tf.keras.layers.Conv2D(32, kernel_size=(3,3), activation='relu'),\n",
        "      tf.keras.layers.MaxPooling2D(pool_size=(2,2)),\n",
        "      tf.keras.layers.Dropout(.25),\n",
        "      tf.keras.layers.Flatten(),\n",
        "      tf.keras.layers.Dense(64, activation='relu'),\n",
        "      tf.keras.layers.Dropout(.5),\n",
        "      tf.keras.layers.Dense(4, activation='softmax')\n",
        "  ])\n",
        "\n",
        "  model.compile(optimizer='adam',\n",
        "                loss='categorical_crossentropy',\n",
        "                metrics=['accuracy'])\n",
        "  model.fit(x, y, epochs=5)#with more than 10 epochs it will achive more than 99% accuracy\n",
        "\n",
        "  return model"
      ],
      "execution_count": 0,
      "outputs": []
    },
    {
      "metadata": {
        "id": "-ipRjNNeubmb",
        "colab_type": "code",
        "outputId": "ec9b481c-35d9-44c5-d53c-ad4c6fbc4049",
        "colab": {
          "base_uri": "https://localhost:8080/",
          "height": 201
        }
      },
      "cell_type": "code",
      "source": [
        "# Tests\n",
        "from sklearn.metrics import accuracy_score\n",
        "import time\n",
        "start_time=time.time()\n",
        "mnist = tf.keras.datasets.mnist\n",
        "img_rows, img_cols = 28, 28\n",
        "\n",
        "(x_train, y_train),(x_test, y_test) = mnist.load_data()\n",
        "\n",
        "\n",
        "\n",
        "\n",
        "x_train, y_train = x_train[train_reduce], y_train[train_reduce]\n",
        "x_test, y_test = x_test[test_reduce], y_test[test_reduce]\n",
        "y_train = tf.keras.utils.to_categorical(y_train)\n",
        "model = create_prediction_function(x_train, y_train)\n",
        "run_time = time.time()-start_time\n",
        "x_test = x_test.reshape(x_test.shape[0], img_rows, img_cols, 1)\n",
        "out=model.predict(x_test)\n",
        "out_classes = out.argmax(axis=-1)\n",
        "accuracy = accuracy_score(y_test, out_classes)\n",
        "min_accuracy = .95\n",
        "max_time = 196\n",
        "\n",
        "assert accuracy > min_accuracy, \"Your accuracy is %f which is less than the expected accuracy\"%accuracy\n",
        "assert max_time > run_time, \"Time limit crossed\"\n",
        "\n"
      ],
      "execution_count": 0,
      "outputs": [
        {
          "output_type": "stream",
          "text": [
            "Epoch 1/5\n",
            "24754/24754 [==============================] - 35s 1ms/step - loss: 0.4776 - acc: 0.9528\n",
            "Epoch 2/5\n",
            "24754/24754 [==============================] - 35s 1ms/step - loss: 0.0345 - acc: 0.9892\n",
            "Epoch 3/5\n",
            "24754/24754 [==============================] - 35s 1ms/step - loss: 0.0243 - acc: 0.9923\n",
            "Epoch 4/5\n",
            "24754/24754 [==============================] - 35s 1ms/step - loss: 0.0213 - acc: 0.9933\n",
            "Epoch 5/5\n",
            "24754/24754 [==============================] - 35s 1ms/step - loss: 0.0167 - acc: 0.9951\n"
          ],
          "name": "stdout"
        }
      ]
    },
    {
      "metadata": {
        "id": "VUWYbtpI3Ph5",
        "colab_type": "text"
      },
      "cell_type": "markdown",
      "source": [
        "[Top](#scrollTo=sY96aPI-kVPC)\n",
        "\n",
        "\n",
        "---\n",
        "# Mnist Changing the hidden layers"
      ]
    },
    {
      "metadata": {
        "id": "OnsWV4PQ3ekR",
        "colab_type": "code",
        "colab": {}
      },
      "cell_type": "code",
      "source": [
        "#walkthrough"
      ],
      "execution_count": 0,
      "outputs": []
    },
    {
      "metadata": {
        "id": "5IADv9XS3eYQ",
        "colab_type": "code",
        "colab": {}
      },
      "cell_type": "code",
      "source": [
        "#problem\n",
        "#if we use 32 64 128 then accuracy is 50% decreasing the parameters increases the accuracy\n",
        "import tensorflow as tf\n",
        "import numpy as np\n",
        "def create_prediction_function(x, y):\n",
        "  img_rows, img_cols = 28, 28\n",
        "  x = x.reshape(x.shape[0], img_rows, img_cols, 1)\n",
        "  input_shape = (img_rows, img_cols, 1)\n",
        "  model = tf.keras.models.Sequential([\n",
        "      tf.keras.layers.Conv2D(32, kernel_size=(3, 3),\n",
        "                             activation='relu',\n",
        "                             input_shape=input_shape),\n",
        "      tf.keras.layers.Conv2D(64, kernel_size=(3,3), activation='relu'),\n",
        "      tf.keras.layers.MaxPooling2D(pool_size=(2,2)),\n",
        "      tf.keras.layers.Dropout(.25),\n",
        "      tf.keras.layers.Flatten(),\n",
        "      tf.keras.layers.Dense(128, activation='relu'),\n",
        "      tf.keras.layers.Dropout(.5),\n",
        "      tf.keras.layers.Dense(4, activation='softmax')\n",
        "  ])\n",
        "\n",
        "  model.compile(optimizer='adam',\n",
        "                loss='categorical_crossentropy',\n",
        "                metrics=['accuracy'])\n",
        "  model.fit(x, y, epochs=5, batch_size = 256)#with more than 10 epochs it will achive more than 99% accuracy\n",
        "\n",
        "  return model"
      ],
      "execution_count": 0,
      "outputs": []
    },
    {
      "metadata": {
        "id": "Z8_vmwe73ePi",
        "colab_type": "code",
        "colab": {}
      },
      "cell_type": "code",
      "source": [
        "#if we use 32 64 128 then accuracy is 50% decreasing the parameters increases the accuracy\n",
        "import tensorflow as tf\n",
        "import numpy as np\n",
        "def create_prediction_function(x, y):\n",
        "  img_rows, img_cols = 28, 28\n",
        "  x = x.reshape(x.shape[0], img_rows, img_cols, 1)\n",
        "  input_shape = (img_rows, img_cols, 1)\n",
        "  model = tf.keras.models.Sequential([\n",
        "      tf.keras.layers.Conv2D(16, kernel_size=(3, 3),\n",
        "                             activation='relu',\n",
        "                             input_shape=input_shape),\n",
        "      tf.keras.layers.Conv2D(32, kernel_size=(3,3), activation='relu'),\n",
        "      tf.keras.layers.MaxPooling2D(pool_size=(2,2)),\n",
        "      tf.keras.layers.Dropout(.25),\n",
        "      tf.keras.layers.Flatten(),\n",
        "      tf.keras.layers.Dense(64, activation='relu'),\n",
        "      tf.keras.layers.Dropout(.5),\n",
        "      tf.keras.layers.Dense(4, activation='softmax')\n",
        "  ])\n",
        "\n",
        "  model.compile(optimizer='adam',\n",
        "                loss='categorical_crossentropy',\n",
        "                metrics=['accuracy'])\n",
        "  model.fit(x, y, epochs=5)#with more than 10 epochs it will achive more than 99% accuracy\n",
        "\n",
        "  return model"
      ],
      "execution_count": 0,
      "outputs": []
    },
    {
      "metadata": {
        "id": "kfEegv3Y3d_9",
        "colab_type": "code",
        "outputId": "15f9e336-8259-4991-d4c7-b7eccdff67ae",
        "colab": {
          "base_uri": "https://localhost:8080/",
          "height": 1019
        }
      },
      "cell_type": "code",
      "source": [
        "# Tests\n",
        "from sklearn.metrics import accuracy_score\n",
        "import time\n",
        "start_time=time.time()\n",
        "mnist = tf.keras.datasets.mnist\n",
        "img_rows, img_cols = 28, 28\n",
        "\n",
        "(x_train, y_train),(x_test, y_test) = mnist.load_data()\n",
        "train_reduce = np.where((y_train == 0 ) | (y_train == 1) | (y_train == 2) | (y_train == 3))\n",
        "test_reduce = np.where((y_test == 0 ) | (y_test == 1) | (y_test == 2) | (y_test == 3))\n",
        "\n",
        "\n",
        "x_train, y_train = x_train[train_reduce], y_train[train_reduce]\n",
        "x_test, y_test = x_test[test_reduce], y_test[test_reduce]\n",
        "y_train = tf.keras.utils.to_categorical(y_train)\n",
        "model = create_prediction_function(x_train, y_train)\n",
        "run_time = time.time()-start_time\n",
        "x_test = x_test.reshape(x_test.shape[0], img_rows, img_cols, 1)\n",
        "out=model.predict(x_test)\n",
        "out_classes = out.argmax(axis=-1)\n",
        "accuracy = accuracy_score(y_test, out_classes)\n",
        "min_accuracy = .95\n",
        "max_time = 196\n",
        "\n",
        "assert accuracy > min_accuracy, \"Your accuracy is %f which is less than the expected accuracy\"%accuracy\n",
        "assert max_time > run_time, \"Time limit crossed\"\n",
        "\n"
      ],
      "execution_count": 0,
      "outputs": [
        {
          "output_type": "stream",
          "text": [
            "Epoch 1/5\n",
            "24754/24754 [==============================] - 67s 3ms/step - loss: 1.2487 - acc: 0.9142\n",
            "Epoch 2/5\n",
            "24754/24754 [==============================] - 67s 3ms/step - loss: 0.2060 - acc: 0.9812\n",
            "Epoch 3/5\n",
            "14080/24754 [================>.............] - ETA: 28s - loss: 0.0878 - acc: 0.9864"
          ],
          "name": "stdout"
        },
        {
          "output_type": "error",
          "ename": "KeyboardInterrupt",
          "evalue": "ignored",
          "traceback": [
            "\u001b[0;31m---------------------------------------------------------------------------\u001b[0m",
            "\u001b[0;31mKeyboardInterrupt\u001b[0m                         Traceback (most recent call last)",
            "\u001b[0;32m<ipython-input-6-7e79c3303da6>\u001b[0m in \u001b[0;36m<module>\u001b[0;34m()\u001b[0m\n\u001b[1;32m     13\u001b[0m \u001b[0mx_test\u001b[0m\u001b[0;34m,\u001b[0m \u001b[0my_test\u001b[0m \u001b[0;34m=\u001b[0m \u001b[0mx_test\u001b[0m\u001b[0;34m[\u001b[0m\u001b[0mtest_reduce\u001b[0m\u001b[0;34m]\u001b[0m\u001b[0;34m,\u001b[0m \u001b[0my_test\u001b[0m\u001b[0;34m[\u001b[0m\u001b[0mtest_reduce\u001b[0m\u001b[0;34m]\u001b[0m\u001b[0;34m\u001b[0m\u001b[0;34m\u001b[0m\u001b[0m\n\u001b[1;32m     14\u001b[0m \u001b[0my_train\u001b[0m \u001b[0;34m=\u001b[0m \u001b[0mtf\u001b[0m\u001b[0;34m.\u001b[0m\u001b[0mkeras\u001b[0m\u001b[0;34m.\u001b[0m\u001b[0mutils\u001b[0m\u001b[0;34m.\u001b[0m\u001b[0mto_categorical\u001b[0m\u001b[0;34m(\u001b[0m\u001b[0my_train\u001b[0m\u001b[0;34m)\u001b[0m\u001b[0;34m\u001b[0m\u001b[0;34m\u001b[0m\u001b[0m\n\u001b[0;32m---> 15\u001b[0;31m \u001b[0mmodel\u001b[0m \u001b[0;34m=\u001b[0m \u001b[0mcreate_prediction_function\u001b[0m\u001b[0;34m(\u001b[0m\u001b[0mx_train\u001b[0m\u001b[0;34m,\u001b[0m \u001b[0my_train\u001b[0m\u001b[0;34m)\u001b[0m\u001b[0;34m\u001b[0m\u001b[0;34m\u001b[0m\u001b[0m\n\u001b[0m\u001b[1;32m     16\u001b[0m \u001b[0mrun_time\u001b[0m \u001b[0;34m=\u001b[0m \u001b[0mtime\u001b[0m\u001b[0;34m.\u001b[0m\u001b[0mtime\u001b[0m\u001b[0;34m(\u001b[0m\u001b[0;34m)\u001b[0m\u001b[0;34m-\u001b[0m\u001b[0mstart_time\u001b[0m\u001b[0;34m\u001b[0m\u001b[0;34m\u001b[0m\u001b[0m\n\u001b[1;32m     17\u001b[0m \u001b[0mx_test\u001b[0m \u001b[0;34m=\u001b[0m \u001b[0mx_test\u001b[0m\u001b[0;34m.\u001b[0m\u001b[0mreshape\u001b[0m\u001b[0;34m(\u001b[0m\u001b[0mx_test\u001b[0m\u001b[0;34m.\u001b[0m\u001b[0mshape\u001b[0m\u001b[0;34m[\u001b[0m\u001b[0;36m0\u001b[0m\u001b[0;34m]\u001b[0m\u001b[0;34m,\u001b[0m \u001b[0mimg_rows\u001b[0m\u001b[0;34m,\u001b[0m \u001b[0mimg_cols\u001b[0m\u001b[0;34m,\u001b[0m \u001b[0;36m1\u001b[0m\u001b[0;34m)\u001b[0m\u001b[0;34m\u001b[0m\u001b[0;34m\u001b[0m\u001b[0m\n",
            "\u001b[0;32m<ipython-input-5-8b056a8b1058>\u001b[0m in \u001b[0;36mcreate_prediction_function\u001b[0;34m(x, y)\u001b[0m\n\u001b[1;32m     21\u001b[0m                 \u001b[0mloss\u001b[0m\u001b[0;34m=\u001b[0m\u001b[0;34m'categorical_crossentropy'\u001b[0m\u001b[0;34m,\u001b[0m\u001b[0;34m\u001b[0m\u001b[0;34m\u001b[0m\u001b[0m\n\u001b[1;32m     22\u001b[0m                 metrics=['accuracy'])\n\u001b[0;32m---> 23\u001b[0;31m   \u001b[0mmodel\u001b[0m\u001b[0;34m.\u001b[0m\u001b[0mfit\u001b[0m\u001b[0;34m(\u001b[0m\u001b[0mx\u001b[0m\u001b[0;34m,\u001b[0m \u001b[0my\u001b[0m\u001b[0;34m,\u001b[0m \u001b[0mepochs\u001b[0m\u001b[0;34m=\u001b[0m\u001b[0;36m5\u001b[0m\u001b[0;34m,\u001b[0m \u001b[0mbatch_size\u001b[0m \u001b[0;34m=\u001b[0m \u001b[0;36m256\u001b[0m\u001b[0;34m)\u001b[0m\u001b[0;31m#with more than 10 epochs it will achive more than 99% accuracy\u001b[0m\u001b[0;34m\u001b[0m\u001b[0;34m\u001b[0m\u001b[0m\n\u001b[0m\u001b[1;32m     24\u001b[0m \u001b[0;34m\u001b[0m\u001b[0m\n\u001b[1;32m     25\u001b[0m   \u001b[0;32mreturn\u001b[0m \u001b[0mmodel\u001b[0m\u001b[0;34m\u001b[0m\u001b[0;34m\u001b[0m\u001b[0m\n",
            "\u001b[0;32m/usr/local/lib/python3.6/dist-packages/tensorflow/python/keras/engine/training.py\u001b[0m in \u001b[0;36mfit\u001b[0;34m(self, x, y, batch_size, epochs, verbose, callbacks, validation_split, validation_data, shuffle, class_weight, sample_weight, initial_epoch, steps_per_epoch, validation_steps, max_queue_size, workers, use_multiprocessing, **kwargs)\u001b[0m\n\u001b[1;32m   1637\u001b[0m           \u001b[0minitial_epoch\u001b[0m\u001b[0;34m=\u001b[0m\u001b[0minitial_epoch\u001b[0m\u001b[0;34m,\u001b[0m\u001b[0;34m\u001b[0m\u001b[0;34m\u001b[0m\u001b[0m\n\u001b[1;32m   1638\u001b[0m           \u001b[0msteps_per_epoch\u001b[0m\u001b[0;34m=\u001b[0m\u001b[0msteps_per_epoch\u001b[0m\u001b[0;34m,\u001b[0m\u001b[0;34m\u001b[0m\u001b[0;34m\u001b[0m\u001b[0m\n\u001b[0;32m-> 1639\u001b[0;31m           validation_steps=validation_steps)\n\u001b[0m\u001b[1;32m   1640\u001b[0m \u001b[0;34m\u001b[0m\u001b[0m\n\u001b[1;32m   1641\u001b[0m   def evaluate(self,\n",
            "\u001b[0;32m/usr/local/lib/python3.6/dist-packages/tensorflow/python/keras/engine/training_arrays.py\u001b[0m in \u001b[0;36mfit_loop\u001b[0;34m(model, inputs, targets, sample_weights, batch_size, epochs, verbose, callbacks, val_inputs, val_targets, val_sample_weights, shuffle, initial_epoch, steps_per_epoch, validation_steps)\u001b[0m\n\u001b[1;32m    213\u001b[0m           \u001b[0mins_batch\u001b[0m\u001b[0;34m[\u001b[0m\u001b[0mi\u001b[0m\u001b[0;34m]\u001b[0m \u001b[0;34m=\u001b[0m \u001b[0mins_batch\u001b[0m\u001b[0;34m[\u001b[0m\u001b[0mi\u001b[0m\u001b[0;34m]\u001b[0m\u001b[0;34m.\u001b[0m\u001b[0mtoarray\u001b[0m\u001b[0;34m(\u001b[0m\u001b[0;34m)\u001b[0m\u001b[0;34m\u001b[0m\u001b[0;34m\u001b[0m\u001b[0m\n\u001b[1;32m    214\u001b[0m \u001b[0;34m\u001b[0m\u001b[0m\n\u001b[0;32m--> 215\u001b[0;31m         \u001b[0mouts\u001b[0m \u001b[0;34m=\u001b[0m \u001b[0mf\u001b[0m\u001b[0;34m(\u001b[0m\u001b[0mins_batch\u001b[0m\u001b[0;34m)\u001b[0m\u001b[0;34m\u001b[0m\u001b[0;34m\u001b[0m\u001b[0m\n\u001b[0m\u001b[1;32m    216\u001b[0m         \u001b[0;32mif\u001b[0m \u001b[0;32mnot\u001b[0m \u001b[0misinstance\u001b[0m\u001b[0;34m(\u001b[0m\u001b[0mouts\u001b[0m\u001b[0;34m,\u001b[0m \u001b[0mlist\u001b[0m\u001b[0;34m)\u001b[0m\u001b[0;34m:\u001b[0m\u001b[0;34m\u001b[0m\u001b[0;34m\u001b[0m\u001b[0m\n\u001b[1;32m    217\u001b[0m           \u001b[0mouts\u001b[0m \u001b[0;34m=\u001b[0m \u001b[0;34m[\u001b[0m\u001b[0mouts\u001b[0m\u001b[0;34m]\u001b[0m\u001b[0;34m\u001b[0m\u001b[0;34m\u001b[0m\u001b[0m\n",
            "\u001b[0;32m/usr/local/lib/python3.6/dist-packages/tensorflow/python/keras/backend.py\u001b[0m in \u001b[0;36m__call__\u001b[0;34m(self, inputs)\u001b[0m\n\u001b[1;32m   2984\u001b[0m \u001b[0;34m\u001b[0m\u001b[0m\n\u001b[1;32m   2985\u001b[0m     fetched = self._callable_fn(*array_vals,\n\u001b[0;32m-> 2986\u001b[0;31m                                 run_metadata=self.run_metadata)\n\u001b[0m\u001b[1;32m   2987\u001b[0m     \u001b[0mself\u001b[0m\u001b[0;34m.\u001b[0m\u001b[0m_call_fetch_callbacks\u001b[0m\u001b[0;34m(\u001b[0m\u001b[0mfetched\u001b[0m\u001b[0;34m[\u001b[0m\u001b[0;34m-\u001b[0m\u001b[0mlen\u001b[0m\u001b[0;34m(\u001b[0m\u001b[0mself\u001b[0m\u001b[0;34m.\u001b[0m\u001b[0m_fetches\u001b[0m\u001b[0;34m)\u001b[0m\u001b[0;34m:\u001b[0m\u001b[0;34m]\u001b[0m\u001b[0;34m)\u001b[0m\u001b[0;34m\u001b[0m\u001b[0;34m\u001b[0m\u001b[0m\n\u001b[1;32m   2988\u001b[0m     \u001b[0;32mreturn\u001b[0m \u001b[0mfetched\u001b[0m\u001b[0;34m[\u001b[0m\u001b[0;34m:\u001b[0m\u001b[0mlen\u001b[0m\u001b[0;34m(\u001b[0m\u001b[0mself\u001b[0m\u001b[0;34m.\u001b[0m\u001b[0moutputs\u001b[0m\u001b[0;34m)\u001b[0m\u001b[0;34m]\u001b[0m\u001b[0;34m\u001b[0m\u001b[0;34m\u001b[0m\u001b[0m\n",
            "\u001b[0;32m/usr/local/lib/python3.6/dist-packages/tensorflow/python/client/session.py\u001b[0m in \u001b[0;36m__call__\u001b[0;34m(self, *args, **kwargs)\u001b[0m\n\u001b[1;32m   1437\u001b[0m           ret = tf_session.TF_SessionRunCallable(\n\u001b[1;32m   1438\u001b[0m               \u001b[0mself\u001b[0m\u001b[0;34m.\u001b[0m\u001b[0m_session\u001b[0m\u001b[0;34m.\u001b[0m\u001b[0m_session\u001b[0m\u001b[0;34m,\u001b[0m \u001b[0mself\u001b[0m\u001b[0;34m.\u001b[0m\u001b[0m_handle\u001b[0m\u001b[0;34m,\u001b[0m \u001b[0margs\u001b[0m\u001b[0;34m,\u001b[0m \u001b[0mstatus\u001b[0m\u001b[0;34m,\u001b[0m\u001b[0;34m\u001b[0m\u001b[0;34m\u001b[0m\u001b[0m\n\u001b[0;32m-> 1439\u001b[0;31m               run_metadata_ptr)\n\u001b[0m\u001b[1;32m   1440\u001b[0m         \u001b[0;32mif\u001b[0m \u001b[0mrun_metadata\u001b[0m\u001b[0;34m:\u001b[0m\u001b[0;34m\u001b[0m\u001b[0;34m\u001b[0m\u001b[0m\n\u001b[1;32m   1441\u001b[0m           \u001b[0mproto_data\u001b[0m \u001b[0;34m=\u001b[0m \u001b[0mtf_session\u001b[0m\u001b[0;34m.\u001b[0m\u001b[0mTF_GetBuffer\u001b[0m\u001b[0;34m(\u001b[0m\u001b[0mrun_metadata_ptr\u001b[0m\u001b[0;34m)\u001b[0m\u001b[0;34m\u001b[0m\u001b[0;34m\u001b[0m\u001b[0m\n",
            "\u001b[0;31mKeyboardInterrupt\u001b[0m: "
          ]
        }
      ]
    },
    {
      "metadata": {
        "id": "OY-brMHRaPqt",
        "colab_type": "text"
      },
      "cell_type": "markdown",
      "source": [
        "[Top](#scrollTo=sY96aPI-kVPC)\n",
        "\n",
        "\n",
        "---\n",
        "# Grad school problem"
      ]
    },
    {
      "metadata": {
        "id": "ygplpqXrafhV",
        "colab_type": "code",
        "colab": {}
      },
      "cell_type": "code",
      "source": [
        "#walkthrough\n"
      ],
      "execution_count": 0,
      "outputs": []
    },
    {
      "metadata": {
        "id": "lfsiB-d9afcw",
        "colab_type": "code",
        "colab": {}
      },
      "cell_type": "code",
      "source": [
        "#problem"
      ],
      "execution_count": 0,
      "outputs": []
    },
    {
      "metadata": {
        "id": "mJ1WZlobafX8",
        "colab_type": "code",
        "colab": {}
      },
      "cell_type": "code",
      "source": [
        "#solution\n",
        "#keeping batch size in the power of two 2,4,8,16,32,64,128,512,1024\n",
        "import tensorflow as tf\n",
        "def create_prediction_function(x, y):\n",
        "  model = tf.keras.models.Sequential([\n",
        "      tf.keras.layers.Dense(14, input_dim=7, kernel_initializer='normal', activation='linear'),\n",
        "#       tf.keras.layers.Dropout(0.2),\n",
        "      tf.keras.layers.Dense(7, 'linear'),\n",
        "      tf.keras.layers.Dense(3, 'linear'),\n",
        "      tf.keras.layers.Dense(1, 'linear')\n",
        "      ])\n",
        "  model.compile(optimizer='adam',\n",
        "              loss='mean_squared_error',\n",
        "              metrics=['accuracy'])\n",
        "  model.summary()\n",
        "\n",
        "  model.fit(x, y, epochs=100,verbose=0,batch_size=16)\n",
        "  return model\n",
        "\n",
        "\n",
        "\n",
        "\n"
      ],
      "execution_count": 0,
      "outputs": []
    },
    {
      "metadata": {
        "id": "obFp7qRhafJi",
        "colab_type": "code",
        "outputId": "c5f34579-548d-4cd0-dd23-dc10161b9f38",
        "colab": {
          "base_uri": "https://localhost:8080/",
          "height": 308
        }
      },
      "cell_type": "code",
      "source": [
        "#test\n",
        "from sklearn.metrics import mean_squared_error\n",
        "import pandas as pd\n",
        "from sklearn.model_selection import train_test_split\n",
        "df = pd.read_csv('graduate_admission.csv')\n",
        "x=df.iloc[:,1:-1]\n",
        "y=df.iloc[:,-1:]\n",
        "\n",
        "#iris neural network\n",
        "#Solution\n",
        "\n",
        "x_train, x_test, y_train, y_test = train_test_split(x, y, test_size=.2, random_state=5685)\n",
        "model = create_prediction_function(x_train, y_train)\n",
        "\n",
        "prediction = model.predict(x_test)\n",
        "mse = mean_squared_error(y_test, prediction)\n",
        "mse\n",
        "\n",
        "\n",
        "\n",
        "\n"
      ],
      "execution_count": 0,
      "outputs": [
        {
          "output_type": "stream",
          "text": [
            "_________________________________________________________________\n",
            "Layer (type)                 Output Shape              Param #   \n",
            "=================================================================\n",
            "dense_18 (Dense)             (None, 14)                112       \n",
            "_________________________________________________________________\n",
            "dense_19 (Dense)             (None, 7)                 105       \n",
            "_________________________________________________________________\n",
            "dense_20 (Dense)             (None, 3)                 24        \n",
            "_________________________________________________________________\n",
            "dense_21 (Dense)             (None, 1)                 4         \n",
            "=================================================================\n",
            "Total params: 245\n",
            "Trainable params: 245\n",
            "Non-trainable params: 0\n",
            "_________________________________________________________________\n"
          ],
          "name": "stdout"
        },
        {
          "output_type": "execute_result",
          "data": {
            "text/plain": [
              "0.008921833872453506"
            ]
          },
          "metadata": {
            "tags": []
          },
          "execution_count": 23
        }
      ]
    },
    {
      "metadata": {
        "id": "TxIxZRbVbJUr",
        "colab_type": "code",
        "colab": {}
      },
      "cell_type": "code",
      "source": [
        "from sklearn.metrics import mean_squared_error\n",
        "mse = mean_squared_error(y_test, prediction)"
      ],
      "execution_count": 0,
      "outputs": []
    },
    {
      "metadata": {
        "id": "KppwczyYarVG",
        "colab_type": "code",
        "outputId": "973c9210-d37c-46e9-908a-e4977b0bf947",
        "colab": {
          "base_uri": "https://localhost:8080/",
          "height": 35
        }
      },
      "cell_type": "code",
      "source": [
        "mse"
      ],
      "execution_count": 0,
      "outputs": [
        {
          "output_type": "execute_result",
          "data": {
            "text/plain": [
              "0.009533524546741253"
            ]
          },
          "metadata": {
            "tags": []
          },
          "execution_count": 15
        }
      ]
    },
    {
      "metadata": {
        "id": "HwtyAg8Kb0Z6",
        "colab_type": "code",
        "colab": {}
      },
      "cell_type": "code",
      "source": [
        "#the above same problem the graduate school problem with sklearn\n",
        "from sklearn.linear_model import LogisticRegression\n",
        "from sklearn.linear_model import LinearRegression\n",
        "#solution\n",
        "\n",
        "import tensorflow as tf\n",
        "def create_prediction_function(x, y):\n",
        "  model = LinearRegression()\n",
        "  \n",
        "  model.fit(x, y)\n",
        "  return model\n"
      ],
      "execution_count": 0,
      "outputs": []
    },
    {
      "metadata": {
        "id": "v3ngbKI3dU8X",
        "colab_type": "code",
        "outputId": "dac4c2a8-6940-405f-ca74-a7d0b556027f",
        "colab": {
          "base_uri": "https://localhost:8080/",
          "height": 35
        }
      },
      "cell_type": "code",
      "source": [
        "#test\n",
        "from sklearn.metrics import mean_squared_error\n",
        "import pandas as pd\n",
        "from sklearn.model_selection import train_test_split\n",
        "df = pd.read_csv('graduate_admission.csv')\n",
        "x=df.iloc[:,1:-1]\n",
        "y=df.iloc[:,-1:]\n",
        "\n",
        "#iris neural network\n",
        "#Solution\n",
        "\n",
        "x_train, x_test, y_train, y_test = train_test_split(x, y, test_size=.2, random_state=5685)\n",
        "model = create_prediction_function(x_train, y_train)\n",
        "\n",
        "prediction = model.predict(x_test)\n",
        "mse = mean_squared_error(y_test, prediction)\n",
        "mse\n",
        "\n",
        "\n",
        "\n",
        "\n"
      ],
      "execution_count": 0,
      "outputs": [
        {
          "output_type": "execute_result",
          "data": {
            "text/plain": [
              "0.005373974150320951"
            ]
          },
          "metadata": {
            "tags": []
          },
          "execution_count": 19
        }
      ]
    },
    {
      "metadata": {
        "id": "2HqjTUQcvdrk",
        "colab_type": "text"
      },
      "cell_type": "markdown",
      "source": [
        "[Top](#scrollTo=sY96aPI-kVPC)\n",
        "\n",
        "\n",
        "---\n",
        "# Housing Regression\n"
      ]
    },
    {
      "metadata": {
        "id": "GyaVK18WmhYl",
        "colab_type": "text"
      },
      "cell_type": "markdown",
      "source": [
        ""
      ]
    },
    {
      "metadata": {
        "id": "SR7wYcoNvc-m",
        "colab_type": "code",
        "colab": {}
      },
      "cell_type": "code",
      "source": [
        "#walkthrough"
      ],
      "execution_count": 0,
      "outputs": []
    },
    {
      "metadata": {
        "id": "AdN_fBvSaTH7",
        "colab_type": "code",
        "colab": {}
      },
      "cell_type": "code",
      "source": [
        "#problem\n",
        "import tensorflow as tf\n",
        "def create_prediction_function(x, y):\n",
        "  model = tf.keras.models.Sequential([\n",
        "      tf.keras.layers.Dense(128, input_dim=13, kernel_initializer='normal', activation='elu'),\n",
        "      tf.keras.layers.Dense(64, 'elu'),\n",
        "      tf.keras.layers.Dense(32, 'elu'),\n",
        "      tf.keras.layers.Dense(1, 'elu')\n",
        "      ])\n",
        "#   model.compile(optimizer='adam',\n",
        "#               loss='mean_squared_error',\n",
        "#               metrics=['accuracy'])\n",
        "\n",
        "#   model.fit(x, y, epochs=100,verbose=0,batch_size=16)\n",
        "  return model"
      ],
      "execution_count": 0,
      "outputs": []
    },
    {
      "metadata": {
        "id": "NtQi3ll9xcBF",
        "colab_type": "code",
        "colab": {}
      },
      "cell_type": "code",
      "source": [
        "#solution\n",
        "#keeping batch size in the power of two 2,4,8,16,32,64,128,512,1024\n",
        "import tensorflow as tf\n",
        "def create_prediction_function(x, y):\n",
        "  model = tf.keras.models.Sequential([\n",
        "      tf.keras.layers.Dense(128, input_dim=13, kernel_initializer='normal', activation='relu'),\n",
        "      tf.keras.layers.Dense(64, 'relu'),\n",
        "      tf.keras.layers.Dense(32, 'relu'),\n",
        "      tf.keras.layers.Dense(1, 'relu')\n",
        "      ])\n",
        "  model.compile(optimizer='adam',\n",
        "              loss='mean_squared_error',\n",
        "              metrics=['accuracy'])\n",
        "#   model.summary()\n",
        "\n",
        "  model.fit(x, y, epochs=100,verbose=0,batch_size=16)\n",
        "  return model\n",
        "\n",
        "\n",
        "\n",
        "\n"
      ],
      "execution_count": 0,
      "outputs": []
    },
    {
      "metadata": {
        "id": "lWPggFOidkrn",
        "colab_type": "code",
        "outputId": "64a81162-379e-4474-c127-705b4a2c5a55",
        "colab": {
          "base_uri": "https://localhost:8080/",
          "height": 290
        }
      },
      "cell_type": "code",
      "source": [
        "\n",
        "\n",
        "#test\n",
        "import pandas as pd\n",
        "from sklearn.metrics import mean_squared_error #regression problem\n",
        "from sklearn.model_selection import train_test_split\n",
        "df = pd.read_csv('housing.csv')\n",
        "x = df.iloc[:,:-1]\n",
        "y=df.iloc[:,-1:]\n",
        "max_error = 30\n",
        "\n",
        "x_train, x_test, y_train, y_test = train_test_split(x, y, test_size=.2, random_state=5685)\n",
        "model = create_prediction_function(x_train, y_train)\n",
        "\n",
        "prediction = model.predict(x_test)\n",
        "mse = mean_squared_error(y_test, prediction)\n",
        "\n",
        "\n",
        "assert mse < max_error , \"Your error is %f which is greater than the maximum error\"%mse"
      ],
      "execution_count": 0,
      "outputs": [
        {
          "output_type": "stream",
          "text": [
            "_________________________________________________________________\n",
            "Layer (type)                 Output Shape              Param #   \n",
            "=================================================================\n",
            "dense_44 (Dense)             (None, 128)               1792      \n",
            "_________________________________________________________________\n",
            "dense_45 (Dense)             (None, 64)                8256      \n",
            "_________________________________________________________________\n",
            "dense_46 (Dense)             (None, 32)                2080      \n",
            "_________________________________________________________________\n",
            "dense_47 (Dense)             (None, 1)                 33        \n",
            "=================================================================\n",
            "Total params: 12,161\n",
            "Trainable params: 12,161\n",
            "Non-trainable params: 0\n",
            "_________________________________________________________________\n"
          ],
          "name": "stdout"
        }
      ]
    },
    {
      "metadata": {
        "id": "-CtbQoyUdd8m",
        "colab_type": "code",
        "outputId": "9988d598-10cc-4973-b2c2-5a0dff0d39ca",
        "colab": {
          "base_uri": "https://localhost:8080/",
          "height": 35
        }
      },
      "cell_type": "code",
      "source": [
        "mse"
      ],
      "execution_count": 0,
      "outputs": [
        {
          "output_type": "execute_result",
          "data": {
            "text/plain": [
              "19.81621688357624"
            ]
          },
          "metadata": {
            "tags": []
          },
          "execution_count": 28
        }
      ]
    },
    {
      "metadata": {
        "id": "yZZ6Hhla0g43",
        "colab_type": "text"
      },
      "cell_type": "markdown",
      "source": [
        "[Top](#scrollTo=sY96aPI-kVPC)\n",
        "\n",
        "\n",
        "---\n",
        "# Housing Regression ML\n",
        "Doubt\n"
      ]
    },
    {
      "metadata": {
        "id": "dH_XjnmdwPxm",
        "colab_type": "code",
        "colab": {}
      },
      "cell_type": "code",
      "source": [
        "#walkthrough"
      ],
      "execution_count": 0,
      "outputs": []
    },
    {
      "metadata": {
        "id": "sxQGHL1JX9GF",
        "colab_type": "code",
        "colab": {}
      },
      "cell_type": "code",
      "source": [
        "#problem\n",
        "from sklearn.linear_model import LinearRegression\n",
        "from sklearn.tree import DecisionTreeRegressor\n",
        "from sklearn.linear_model import LinearRegression, RidgeCV, LassoCV, ElasticNetCV\n",
        "#solution\n",
        "\n",
        "def create_prediction_function(x, y):\n",
        "  model = RidgeCV()\n",
        "  model.fit(x, y)\n",
        "  return model"
      ],
      "execution_count": 0,
      "outputs": []
    },
    {
      "metadata": {
        "id": "8NdwEPez0f61",
        "colab_type": "code",
        "colab": {}
      },
      "cell_type": "code",
      "source": [
        "#the above same problem the graduate school problem with sklearn\n",
        "from sklearn.linear_model import LogisticRegression\n",
        "from sklearn.linear_model import LinearRegression\n",
        "#solution\n",
        "\n",
        "import tensorflow as tf\n",
        "def create_prediction_function(x, y):\n",
        "  model = LinearRegression()\n",
        "  \n",
        "  model.fit(x, y)\n",
        "  return model\n"
      ],
      "execution_count": 0,
      "outputs": []
    },
    {
      "metadata": {
        "id": "hJ_13wFO1VXo",
        "colab_type": "code",
        "outputId": "91758ac9-f162-4b26-a518-2846a0cf079d",
        "colab": {
          "base_uri": "https://localhost:8080/",
          "height": 35
        }
      },
      "cell_type": "code",
      "source": [
        "\n",
        "\n",
        "#test\n",
        "import pandas as pd\n",
        "from sklearn.metrics import mean_squared_error #regression problem\n",
        "from sklearn.model_selection import train_test_split\n",
        "df = pd.read_csv('housing.csv')\n",
        "x = df.iloc[:,:-1]\n",
        "y=df.iloc[:,-1:]\n",
        "\n",
        "# #iris neural network\n",
        "# #Solution\n",
        "\n",
        "x_train, x_test, y_train, y_test = train_test_split(x, y, test_size=.2, random_state=5685)\n",
        "model = create_prediction_function(x_train, y_train)\n",
        "\n",
        "prediction = model.predict(x_test)\n",
        "mse = mean_squared_error(y_test, prediction)\n",
        "mse\n",
        "\n",
        "\n",
        "\n",
        "\n",
        "\n",
        "\n"
      ],
      "execution_count": 0,
      "outputs": [
        {
          "output_type": "execute_result",
          "data": {
            "text/plain": [
              "23.09583199420254"
            ]
          },
          "metadata": {
            "tags": []
          },
          "execution_count": 38
        }
      ]
    },
    {
      "metadata": {
        "id": "tq2Y4xTW1ah2",
        "colab_type": "code",
        "colab": {}
      },
      "cell_type": "code",
      "source": [
        ""
      ],
      "execution_count": 0,
      "outputs": []
    },
    {
      "metadata": {
        "id": "RzobfEK6PmdL",
        "colab_type": "text"
      },
      "cell_type": "markdown",
      "source": [
        "[Top](#scrollTo=sY96aPI-kVPC)\n",
        "\n",
        "\n",
        "---\n",
        "# Housing Regression Activation\n",
        "The notebook is complete and tested do not touch"
      ]
    },
    {
      "metadata": {
        "id": "yTtjCP9EPtqs",
        "colab_type": "code",
        "colab": {}
      },
      "cell_type": "code",
      "source": [
        "#walkthrough"
      ],
      "execution_count": 0,
      "outputs": []
    },
    {
      "metadata": {
        "id": "fBo9AqdnVrlU",
        "colab_type": "code",
        "colab": {}
      },
      "cell_type": "code",
      "source": [
        "#problem\n",
        "#use appropriate activation function\n",
        "import tensorflow as tf\n",
        "def create_prediction_function(x, y):\n",
        "  model = tf.keras.models.Sequential([\n",
        "      tf.keras.layers.Dense(32, input_dim=13, kernel_initializer='normal', activation='linear'),\n",
        "      tf.keras.layers.Dense(16, 'linear'),\n",
        "      tf.keras.layers.Dense(8, 'linear'),\n",
        "      tf.keras.layers.Dense(1, 'linear')\n",
        "      ])\n",
        "  model.compile(optimizer='adam',\n",
        "              loss='mean_squared_error',\n",
        "              metrics=['accuracy'])\n",
        "#   model.summary()\n",
        "\n",
        "  model.fit(x, y, epochs=100,verbose=0,batch_size=16)\n",
        "  return model\n"
      ],
      "execution_count": 0,
      "outputs": []
    },
    {
      "metadata": {
        "id": "WOWL8C-iPufU",
        "colab_type": "code",
        "colab": {}
      },
      "cell_type": "code",
      "source": [
        "#solution\n",
        "#set the time as one the test as the student may use a different architecture for decreasing the loss\n",
        "#the time must be set according to the platform \n",
        "# the below results are for he network 64,32,18,1\n",
        "#linear  39.4\n",
        "# tanh 543 sigmoid\n",
        "# elu 18\n",
        "# relu 17\n",
        "#use relu or elu to pass the test cases\n",
        "#keeping batch size in the power of two 2,4,8,16,32,64,128,512,1024\n",
        "import tensorflow as tf\n",
        "def create_prediction_function(x, y):\n",
        "  model = tf.keras.models.Sequential([\n",
        "      tf.keras.layers.Dense(32, input_dim=13, kernel_initializer='normal', activation='elu'),\n",
        "      tf.keras.layers.Dense(16, 'elu'),\n",
        "      tf.keras.layers.Dense(8, 'elu'),\n",
        "      tf.keras.layers.Dense(1, 'elu')\n",
        "      ])\n",
        "  model.compile(optimizer='adam',\n",
        "              loss='mean_squared_error',\n",
        "              metrics=['accuracy'])\n",
        "#   model.summary()\n",
        "\n",
        "  model.fit(x, y, epochs=50,verbose=0,batch_size=16)\n",
        "  return model\n",
        "\n",
        "\n",
        "\n",
        "\n"
      ],
      "execution_count": 0,
      "outputs": []
    },
    {
      "metadata": {
        "id": "-gpe8w3EPuSU",
        "colab_type": "code",
        "colab": {}
      },
      "cell_type": "code",
      "source": [
        "\n",
        "\n",
        "#test\n",
        "import pandas as pd\n",
        "from sklearn.metrics import mean_squared_error #regression problem\n",
        "from sklearn.model_selection import train_test_split\n",
        "\n",
        "max_error = 25\n",
        "df = pd.read_csv('housing.csv')\n",
        "x = df.iloc[:,:-1]\n",
        "y=df.iloc[:,-1:]\n",
        "\n",
        "# #iris neural network\n",
        "# #Solution\n",
        "\n",
        "x_train, x_test, y_train, y_test = train_test_split(x, y, test_size=.2, random_state=5685)\n",
        "model = create_prediction_function(x_train, y_train)\n",
        "\n",
        "prediction = model.predict(x_test)\n",
        "mse = mean_squared_error(y_test, prediction)\n",
        "\n",
        "\n",
        "assert mse < max_error , \"Your error is %f which is greater than the maximum error\"%mse\n",
        "\n",
        "#the time case is to be written\n",
        "\n",
        "\n",
        "\n",
        "\n"
      ],
      "execution_count": 0,
      "outputs": []
    },
    {
      "metadata": {
        "id": "l2Qa08cDPuCm",
        "colab_type": "code",
        "outputId": "afec14ce-d673-4f90-ca2e-884b1fd32574",
        "colab": {
          "base_uri": "https://localhost:8080/",
          "height": 35
        }
      },
      "cell_type": "code",
      "source": [
        "mse\n"
      ],
      "execution_count": 0,
      "outputs": [
        {
          "output_type": "execute_result",
          "data": {
            "text/plain": [
              "22.616438677894433"
            ]
          },
          "metadata": {
            "tags": []
          },
          "execution_count": 22
        }
      ]
    },
    {
      "metadata": {
        "id": "24CO1iUPhhzp",
        "colab_type": "text"
      },
      "cell_type": "markdown",
      "source": [
        "[Top](#scrollTo=sY96aPI-kVPC)\n",
        "\n",
        "\n",
        "---\n",
        "# Time series using RNN absentism from work\n"
      ]
    },
    {
      "metadata": {
        "id": "cUhZUEtBjCpy",
        "colab_type": "code",
        "colab": {}
      },
      "cell_type": "code",
      "source": [
        "import tensorflow as tf\n",
        "def create_prediction_function(x, y):\n",
        "  model = tf.keras.models.Sequential([\n",
        "      tf.keras.layers.LSTM(32, input_shape=(1,20), kernel_initializer='normal', activation='relu')\n",
        "  ])\n",
        "  model.compile(optimizer='adam',\n",
        "              loss='mean_squared_error',\n",
        "              metrics=['accuracy'])\n",
        "#   model.summary()\n",
        "\n",
        "  model.fit(x, y, epochs=50,verbose=0,batch_size=16)\n",
        "  return model\n",
        "\n",
        "\n",
        "\n",
        "\n"
      ],
      "execution_count": 0,
      "outputs": []
    },
    {
      "metadata": {
        "id": "9aLibFN2W5sO",
        "colab_type": "code",
        "outputId": "af3aaa5e-63a6-4d90-b939-f932d148dbfe",
        "colab": {
          "base_uri": "https://localhost:8080/",
          "height": 899
        }
      },
      "cell_type": "code",
      "source": [
        "import pandas as pd\n",
        "from sklearn.metrics import mean_squared_error #regression problem\n",
        "from sklearn.model_selection import train_test_split\n",
        "\n",
        "df = pd.read_csv('absenteeism_at_work.csv')\n",
        "x = df.iloc[:,:-1]\n",
        "y=df.iloc[:,-1:]\n",
        "\n",
        "\n",
        "x_train, x_test, y_train, y_test = train_test_split(x, y, test_size=.2, random_state=5685)\n",
        "model = create_prediction_function(x_train, y_train)\n",
        "\n",
        "prediction = model.predict(x_test)\n",
        "mse = mean_squared_error(y_test, prediction)\n"
      ],
      "execution_count": 0,
      "outputs": [
        {
          "output_type": "error",
          "ename": "ValueError",
          "evalue": "ignored",
          "traceback": [
            "\u001b[0;31m---------------------------------------------------------------------------\u001b[0m",
            "\u001b[0;31mValueError\u001b[0m                                Traceback (most recent call last)",
            "\u001b[0;32m<ipython-input-44-6e36e74dfdd1>\u001b[0m in \u001b[0;36m<module>\u001b[0;34m()\u001b[0m\n\u001b[1;32m      9\u001b[0m \u001b[0;34m\u001b[0m\u001b[0m\n\u001b[1;32m     10\u001b[0m \u001b[0mx_train\u001b[0m\u001b[0;34m,\u001b[0m \u001b[0mx_test\u001b[0m\u001b[0;34m,\u001b[0m \u001b[0my_train\u001b[0m\u001b[0;34m,\u001b[0m \u001b[0my_test\u001b[0m \u001b[0;34m=\u001b[0m \u001b[0mtrain_test_split\u001b[0m\u001b[0;34m(\u001b[0m\u001b[0mx\u001b[0m\u001b[0;34m,\u001b[0m \u001b[0my\u001b[0m\u001b[0;34m,\u001b[0m \u001b[0mtest_size\u001b[0m\u001b[0;34m=\u001b[0m\u001b[0;36m.2\u001b[0m\u001b[0;34m,\u001b[0m \u001b[0mrandom_state\u001b[0m\u001b[0;34m=\u001b[0m\u001b[0;36m5685\u001b[0m\u001b[0;34m)\u001b[0m\u001b[0;34m\u001b[0m\u001b[0;34m\u001b[0m\u001b[0m\n\u001b[0;32m---> 11\u001b[0;31m \u001b[0mmodel\u001b[0m \u001b[0;34m=\u001b[0m \u001b[0mcreate_prediction_function\u001b[0m\u001b[0;34m(\u001b[0m\u001b[0mx_train\u001b[0m\u001b[0;34m,\u001b[0m \u001b[0my_train\u001b[0m\u001b[0;34m)\u001b[0m\u001b[0;34m\u001b[0m\u001b[0;34m\u001b[0m\u001b[0m\n\u001b[0m\u001b[1;32m     12\u001b[0m \u001b[0;34m\u001b[0m\u001b[0m\n\u001b[1;32m     13\u001b[0m \u001b[0mprediction\u001b[0m \u001b[0;34m=\u001b[0m \u001b[0mmodel\u001b[0m\u001b[0;34m.\u001b[0m\u001b[0mpredict\u001b[0m\u001b[0;34m(\u001b[0m\u001b[0mx_test\u001b[0m\u001b[0;34m)\u001b[0m\u001b[0;34m\u001b[0m\u001b[0;34m\u001b[0m\u001b[0m\n",
            "\u001b[0;32m<ipython-input-43-0785eebb8bcd>\u001b[0m in \u001b[0;36mcreate_prediction_function\u001b[0;34m(x, y)\u001b[0m\n\u001b[1;32m      9\u001b[0m \u001b[0;31m#   model.summary()\u001b[0m\u001b[0;34m\u001b[0m\u001b[0;34m\u001b[0m\u001b[0;34m\u001b[0m\u001b[0m\n\u001b[1;32m     10\u001b[0m \u001b[0;34m\u001b[0m\u001b[0m\n\u001b[0;32m---> 11\u001b[0;31m   \u001b[0mmodel\u001b[0m\u001b[0;34m.\u001b[0m\u001b[0mfit\u001b[0m\u001b[0;34m(\u001b[0m\u001b[0mx\u001b[0m\u001b[0;34m,\u001b[0m \u001b[0my\u001b[0m\u001b[0;34m,\u001b[0m \u001b[0mepochs\u001b[0m\u001b[0;34m=\u001b[0m\u001b[0;36m50\u001b[0m\u001b[0;34m,\u001b[0m\u001b[0mverbose\u001b[0m\u001b[0;34m=\u001b[0m\u001b[0;36m0\u001b[0m\u001b[0;34m,\u001b[0m\u001b[0mbatch_size\u001b[0m\u001b[0;34m=\u001b[0m\u001b[0;36m16\u001b[0m\u001b[0;34m)\u001b[0m\u001b[0;34m\u001b[0m\u001b[0;34m\u001b[0m\u001b[0m\n\u001b[0m\u001b[1;32m     12\u001b[0m   \u001b[0;32mreturn\u001b[0m \u001b[0mmodel\u001b[0m\u001b[0;34m\u001b[0m\u001b[0;34m\u001b[0m\u001b[0m\n\u001b[1;32m     13\u001b[0m \u001b[0;34m\u001b[0m\u001b[0m\n",
            "\u001b[0;32m/usr/local/lib/python3.6/dist-packages/tensorflow/python/keras/engine/training.py\u001b[0m in \u001b[0;36mfit\u001b[0;34m(self, x, y, batch_size, epochs, verbose, callbacks, validation_split, validation_data, shuffle, class_weight, sample_weight, initial_epoch, steps_per_epoch, validation_steps, max_queue_size, workers, use_multiprocessing, **kwargs)\u001b[0m\n\u001b[1;32m   1534\u001b[0m         \u001b[0msteps_name\u001b[0m\u001b[0;34m=\u001b[0m\u001b[0;34m'steps_per_epoch'\u001b[0m\u001b[0;34m,\u001b[0m\u001b[0;34m\u001b[0m\u001b[0;34m\u001b[0m\u001b[0m\n\u001b[1;32m   1535\u001b[0m         \u001b[0msteps\u001b[0m\u001b[0;34m=\u001b[0m\u001b[0msteps_per_epoch\u001b[0m\u001b[0;34m,\u001b[0m\u001b[0;34m\u001b[0m\u001b[0;34m\u001b[0m\u001b[0m\n\u001b[0;32m-> 1536\u001b[0;31m         validation_split=validation_split)\n\u001b[0m\u001b[1;32m   1537\u001b[0m \u001b[0;34m\u001b[0m\u001b[0m\n\u001b[1;32m   1538\u001b[0m     \u001b[0;31m# Prepare validation data.\u001b[0m\u001b[0;34m\u001b[0m\u001b[0;34m\u001b[0m\u001b[0;34m\u001b[0m\u001b[0m\n",
            "\u001b[0;32m/usr/local/lib/python3.6/dist-packages/tensorflow/python/keras/engine/training.py\u001b[0m in \u001b[0;36m_standardize_user_data\u001b[0;34m(self, x, y, sample_weight, class_weight, batch_size, check_steps, steps_name, steps, validation_split)\u001b[0m\n\u001b[1;32m    990\u001b[0m         \u001b[0mx\u001b[0m\u001b[0;34m,\u001b[0m \u001b[0my\u001b[0m\u001b[0;34m,\u001b[0m \u001b[0msample_weight\u001b[0m \u001b[0;34m=\u001b[0m \u001b[0mnext_element\u001b[0m\u001b[0;34m\u001b[0m\u001b[0;34m\u001b[0m\u001b[0m\n\u001b[1;32m    991\u001b[0m     x, y, sample_weights = self._standardize_weights(x, y, sample_weight,\n\u001b[0;32m--> 992\u001b[0;31m                                                      class_weight, batch_size)\n\u001b[0m\u001b[1;32m    993\u001b[0m     \u001b[0;32mreturn\u001b[0m \u001b[0mx\u001b[0m\u001b[0;34m,\u001b[0m \u001b[0my\u001b[0m\u001b[0;34m,\u001b[0m \u001b[0msample_weights\u001b[0m\u001b[0;34m\u001b[0m\u001b[0;34m\u001b[0m\u001b[0m\n\u001b[1;32m    994\u001b[0m \u001b[0;34m\u001b[0m\u001b[0m\n",
            "\u001b[0;32m/usr/local/lib/python3.6/dist-packages/tensorflow/python/keras/engine/training.py\u001b[0m in \u001b[0;36m_standardize_weights\u001b[0;34m(self, x, y, sample_weight, class_weight, batch_size)\u001b[0m\n\u001b[1;32m   1115\u001b[0m         \u001b[0mfeed_input_shapes\u001b[0m\u001b[0;34m,\u001b[0m\u001b[0;34m\u001b[0m\u001b[0;34m\u001b[0m\u001b[0m\n\u001b[1;32m   1116\u001b[0m         \u001b[0mcheck_batch_axis\u001b[0m\u001b[0;34m=\u001b[0m\u001b[0;32mFalse\u001b[0m\u001b[0;34m,\u001b[0m  \u001b[0;31m# Don't enforce the batch size.\u001b[0m\u001b[0;34m\u001b[0m\u001b[0;34m\u001b[0m\u001b[0m\n\u001b[0;32m-> 1117\u001b[0;31m         exception_prefix='input')\n\u001b[0m\u001b[1;32m   1118\u001b[0m \u001b[0;34m\u001b[0m\u001b[0m\n\u001b[1;32m   1119\u001b[0m     \u001b[0;32mif\u001b[0m \u001b[0my\u001b[0m \u001b[0;32mis\u001b[0m \u001b[0;32mnot\u001b[0m \u001b[0;32mNone\u001b[0m\u001b[0;34m:\u001b[0m\u001b[0;34m\u001b[0m\u001b[0;34m\u001b[0m\u001b[0m\n",
            "\u001b[0;32m/usr/local/lib/python3.6/dist-packages/tensorflow/python/keras/engine/training_utils.py\u001b[0m in \u001b[0;36mstandardize_input_data\u001b[0;34m(data, names, shapes, check_batch_axis, exception_prefix)\u001b[0m\n\u001b[1;32m    321\u001b[0m                            \u001b[0;34m': expected '\u001b[0m \u001b[0;34m+\u001b[0m \u001b[0mnames\u001b[0m\u001b[0;34m[\u001b[0m\u001b[0mi\u001b[0m\u001b[0;34m]\u001b[0m \u001b[0;34m+\u001b[0m \u001b[0;34m' to have '\u001b[0m \u001b[0;34m+\u001b[0m\u001b[0;34m\u001b[0m\u001b[0;34m\u001b[0m\u001b[0m\n\u001b[1;32m    322\u001b[0m                            \u001b[0mstr\u001b[0m\u001b[0;34m(\u001b[0m\u001b[0mlen\u001b[0m\u001b[0;34m(\u001b[0m\u001b[0mshape\u001b[0m\u001b[0;34m)\u001b[0m\u001b[0;34m)\u001b[0m \u001b[0;34m+\u001b[0m \u001b[0;34m' dimensions, but got array '\u001b[0m\u001b[0;34m\u001b[0m\u001b[0;34m\u001b[0m\u001b[0m\n\u001b[0;32m--> 323\u001b[0;31m                            'with shape ' + str(data_shape))\n\u001b[0m\u001b[1;32m    324\u001b[0m         \u001b[0;32mif\u001b[0m \u001b[0;32mnot\u001b[0m \u001b[0mcheck_batch_axis\u001b[0m\u001b[0;34m:\u001b[0m\u001b[0;34m\u001b[0m\u001b[0;34m\u001b[0m\u001b[0m\n\u001b[1;32m    325\u001b[0m           \u001b[0mdata_shape\u001b[0m \u001b[0;34m=\u001b[0m \u001b[0mdata_shape\u001b[0m\u001b[0;34m[\u001b[0m\u001b[0;36m1\u001b[0m\u001b[0;34m:\u001b[0m\u001b[0;34m]\u001b[0m\u001b[0;34m\u001b[0m\u001b[0;34m\u001b[0m\u001b[0m\n",
            "\u001b[0;31mValueError\u001b[0m: Error when checking input: expected lstm_input to have 3 dimensions, but got array with shape (592, 20)"
          ]
        }
      ]
    },
    {
      "metadata": {
        "id": "QKdRGI3o10C2",
        "colab_type": "code",
        "colab": {}
      },
      "cell_type": "code",
      "source": [
        ""
      ],
      "execution_count": 0,
      "outputs": []
    },
    {
      "metadata": {
        "id": "0i_S4BZihv90",
        "colab_type": "code",
        "outputId": "1de25d89-6a68-4162-c2ff-26feb7ed08e0",
        "colab": {
          "base_uri": "https://localhost:8080/",
          "height": 213
        }
      },
      "cell_type": "code",
      "source": [
        "df.head(2)"
      ],
      "execution_count": 0,
      "outputs": [
        {
          "output_type": "execute_result",
          "data": {
            "text/html": [
              "<div>\n",
              "<style scoped>\n",
              "    .dataframe tbody tr th:only-of-type {\n",
              "        vertical-align: middle;\n",
              "    }\n",
              "\n",
              "    .dataframe tbody tr th {\n",
              "        vertical-align: top;\n",
              "    }\n",
              "\n",
              "    .dataframe thead th {\n",
              "        text-align: right;\n",
              "    }\n",
              "</style>\n",
              "<table border=\"1\" class=\"dataframe\">\n",
              "  <thead>\n",
              "    <tr style=\"text-align: right;\">\n",
              "      <th></th>\n",
              "      <th>ID</th>\n",
              "      <th>Reason for absence</th>\n",
              "      <th>Month of absence</th>\n",
              "      <th>Day of the week</th>\n",
              "      <th>Seasons</th>\n",
              "      <th>Transportation expense</th>\n",
              "      <th>Distance from Residence to Work</th>\n",
              "      <th>Service time</th>\n",
              "      <th>Age</th>\n",
              "      <th>Work load Average/day</th>\n",
              "      <th>...</th>\n",
              "      <th>Disciplinary failure</th>\n",
              "      <th>Education</th>\n",
              "      <th>Son</th>\n",
              "      <th>Social drinker</th>\n",
              "      <th>Social smoker</th>\n",
              "      <th>Pet</th>\n",
              "      <th>Weight</th>\n",
              "      <th>Height</th>\n",
              "      <th>Body mass index</th>\n",
              "      <th>Absenteeism time in hours</th>\n",
              "    </tr>\n",
              "  </thead>\n",
              "  <tbody>\n",
              "    <tr>\n",
              "      <th>0</th>\n",
              "      <td>11</td>\n",
              "      <td>26</td>\n",
              "      <td>7</td>\n",
              "      <td>3</td>\n",
              "      <td>1</td>\n",
              "      <td>289</td>\n",
              "      <td>36</td>\n",
              "      <td>13</td>\n",
              "      <td>33</td>\n",
              "      <td>239554</td>\n",
              "      <td>...</td>\n",
              "      <td>0</td>\n",
              "      <td>1</td>\n",
              "      <td>2</td>\n",
              "      <td>1</td>\n",
              "      <td>0</td>\n",
              "      <td>1</td>\n",
              "      <td>90</td>\n",
              "      <td>172</td>\n",
              "      <td>30</td>\n",
              "      <td>4</td>\n",
              "    </tr>\n",
              "    <tr>\n",
              "      <th>1</th>\n",
              "      <td>36</td>\n",
              "      <td>0</td>\n",
              "      <td>7</td>\n",
              "      <td>3</td>\n",
              "      <td>1</td>\n",
              "      <td>118</td>\n",
              "      <td>13</td>\n",
              "      <td>18</td>\n",
              "      <td>50</td>\n",
              "      <td>239554</td>\n",
              "      <td>...</td>\n",
              "      <td>1</td>\n",
              "      <td>1</td>\n",
              "      <td>1</td>\n",
              "      <td>1</td>\n",
              "      <td>0</td>\n",
              "      <td>0</td>\n",
              "      <td>98</td>\n",
              "      <td>178</td>\n",
              "      <td>31</td>\n",
              "      <td>0</td>\n",
              "    </tr>\n",
              "  </tbody>\n",
              "</table>\n",
              "<p>2 rows × 21 columns</p>\n",
              "</div>"
            ],
            "text/plain": [
              "   ID  Reason for absence  Month of absence  Day of the week  Seasons  \\\n",
              "0  11                  26                 7                3        1   \n",
              "1  36                   0                 7                3        1   \n",
              "\n",
              "   Transportation expense  Distance from Residence to Work  Service time  Age  \\\n",
              "0                     289                               36            13   33   \n",
              "1                     118                               13            18   50   \n",
              "\n",
              "   Work load Average/day            ...              Disciplinary failure  \\\n",
              "0                 239554            ...                                 0   \n",
              "1                 239554            ...                                 1   \n",
              "\n",
              "   Education  Son  Social drinker  Social smoker  Pet  Weight  Height  \\\n",
              "0          1    2               1              0    1      90     172   \n",
              "1          1    1               1              0    0      98     178   \n",
              "\n",
              "   Body mass index  Absenteeism time in hours  \n",
              "0               30                          4  \n",
              "1               31                          0  \n",
              "\n",
              "[2 rows x 21 columns]"
            ]
          },
          "metadata": {
            "tags": []
          },
          "execution_count": 33
        }
      ]
    },
    {
      "metadata": {
        "id": "mf4JD5VjiQwa",
        "colab_type": "code",
        "outputId": "536b50e4-f8a9-4547-b07a-c2db3dd045cb",
        "colab": {
          "base_uri": "https://localhost:8080/",
          "height": 35
        }
      },
      "cell_type": "code",
      "source": [
        "x.shape"
      ],
      "execution_count": 0,
      "outputs": [
        {
          "output_type": "execute_result",
          "data": {
            "text/plain": [
              "(740, 20)"
            ]
          },
          "metadata": {
            "tags": []
          },
          "execution_count": 38
        }
      ]
    },
    {
      "metadata": {
        "id": "Sn-MJXR5i088",
        "colab_type": "code",
        "colab": {}
      },
      "cell_type": "code",
      "source": [
        ""
      ],
      "execution_count": 0,
      "outputs": []
    },
    {
      "metadata": {
        "id": "DvJ_0dg3jnFC",
        "colab_type": "code",
        "colab": {}
      },
      "cell_type": "code",
      "source": [
        ""
      ],
      "execution_count": 0,
      "outputs": []
    },
    {
      "metadata": {
        "id": "Pyco3e4Gi1h7",
        "colab_type": "text"
      },
      "cell_type": "markdown",
      "source": [
        "[Top](#scrollTo=sY96aPI-kVPC)\n",
        "\n",
        "\n",
        "---\n",
        "# Time series using RNN absentism from work\n"
      ]
    },
    {
      "metadata": {
        "id": "YSP1_Z5pi1Ru",
        "colab_type": "code",
        "colab": {}
      },
      "cell_type": "code",
      "source": [
        ""
      ],
      "execution_count": 0,
      "outputs": []
    },
    {
      "metadata": {
        "id": "dUMfaZBz5BAP",
        "colab_type": "text"
      },
      "cell_type": "markdown",
      "source": [
        "[Top](#scrollTo=sY96aPI-kVPC)\n",
        "\n",
        "\n",
        "---\n",
        "# Linear regression fails\n"
      ]
    },
    {
      "metadata": {
        "id": "KWinI5Pn5WYX",
        "colab_type": "code",
        "colab": {}
      },
      "cell_type": "code",
      "source": [
        "#walkthrough"
      ],
      "execution_count": 0,
      "outputs": []
    },
    {
      "metadata": {
        "id": "3VTd_eez5WKR",
        "colab_type": "code",
        "colab": {}
      },
      "cell_type": "code",
      "source": [
        "#problem\n",
        "import pandas as pd\n",
        "from sklearn.linear_model import LogisticRegression\n",
        "from sklearn.linear_model import LinearRegression\n",
        "from sklearn.tree import DecisionTreeRegressor\n",
        "def create_prediction_function(x, y):\n",
        "    model= DecisionTreeRegressor(random_state=0)\n",
        "    model = LinearRegression()\n",
        "    model.fit(x, y)\n",
        "    return model"
      ],
      "execution_count": 0,
      "outputs": []
    },
    {
      "metadata": {
        "id": "j_XkZGab5WEr",
        "colab_type": "code",
        "colab": {}
      },
      "cell_type": "code",
      "source": [
        "#solution\n",
        "import tensorflow as tf\n",
        "def create_prediction_function(x, y):\n",
        "  model = tf.keras.models.Sequential([\n",
        "      tf.keras.layers.Dense(128, input_dim=1, kernel_initializer='normal', activation='relu'),\n",
        "      tf.keras.layers.Dense(64, 'relu'),\n",
        "      tf.keras.layers.Dense(8, 'relu'),\n",
        "      tf.keras.layers.Dense(1, 'relu')\n",
        "      ])\n",
        "  model.compile(optimizer='adam',\n",
        "              loss='mean_squared_error',\n",
        "              metrics=['accuracy'])\n",
        "  model.summary()\n",
        "\n",
        "  model.fit(x, y, epochs=10,verbose=1,batch_size=16)\n",
        "  return model\n"
      ],
      "execution_count": 0,
      "outputs": []
    },
    {
      "metadata": {
        "id": "OG7SMJaV5Vtv",
        "colab_type": "code",
        "outputId": "92342ce2-d4c8-4c0f-e1e6-d2d6a7b77aba",
        "colab": {
          "base_uri": "https://localhost:8080/",
          "height": 660
        }
      },
      "cell_type": "code",
      "source": [
        "#test\n",
        "import pandas as pd\n",
        "from sklearn.metrics import mean_squared_error #regression problem\n",
        "from sklearn.model_selection import train_test_split\n",
        "\n",
        "df = pd.read_csv('quadratic_data.csv')\n",
        "x = df.iloc[:,:-1]\n",
        "y=df.iloc[:,-1:]\n",
        "\n",
        "x_train, x_test, y_train, y_test = train_test_split(x, y, test_size=.2, random_state=5685)\n",
        "model = create_prediction_function(x_train, y_train)\n",
        "\n",
        "prediction = model.predict(x_test)\n",
        "mse = mean_squared_error(y_test, prediction)\n",
        "# mse\n",
        "max_error = 5\n",
        "assert mse < max_error , \"Your error is %f which is greater than the max error\"%mse"
      ],
      "execution_count": 0,
      "outputs": [
        {
          "output_type": "stream",
          "text": [
            "_________________________________________________________________\n",
            "Layer (type)                 Output Shape              Param #   \n",
            "=================================================================\n",
            "dense_8 (Dense)              (None, 128)               256       \n",
            "_________________________________________________________________\n",
            "dense_9 (Dense)              (None, 64)                8256      \n",
            "_________________________________________________________________\n",
            "dense_10 (Dense)             (None, 8)                 520       \n",
            "_________________________________________________________________\n",
            "dense_11 (Dense)             (None, 1)                 9         \n",
            "=================================================================\n",
            "Total params: 9,041\n",
            "Trainable params: 9,041\n",
            "Non-trainable params: 0\n",
            "_________________________________________________________________\n",
            "Epoch 1/10\n",
            "12000/12000 [==============================] - 1s 113us/step - loss: 317.5351 - acc: 2.5000e-04\n",
            "Epoch 2/10\n",
            "12000/12000 [==============================] - 1s 82us/step - loss: 11.9972 - acc: 0.0000e+00\n",
            "Epoch 3/10\n",
            "12000/12000 [==============================] - 1s 81us/step - loss: 3.7042 - acc: 0.0000e+00\n",
            "Epoch 4/10\n",
            "12000/12000 [==============================] - 1s 83us/step - loss: 2.9498 - acc: 0.0000e+00\n",
            "Epoch 5/10\n",
            "12000/12000 [==============================] - 1s 81us/step - loss: 1.2238 - acc: 0.0000e+00\n",
            "Epoch 6/10\n",
            "12000/12000 [==============================] - 1s 81us/step - loss: 0.9521 - acc: 0.0000e+00\n",
            "Epoch 7/10\n",
            "12000/12000 [==============================] - 1s 79us/step - loss: 0.8183 - acc: 0.0000e+00\n",
            "Epoch 8/10\n",
            "12000/12000 [==============================] - 1s 78us/step - loss: 0.7612 - acc: 0.0000e+00\n",
            "Epoch 9/10\n",
            "12000/12000 [==============================] - 1s 80us/step - loss: 0.6902 - acc: 0.0000e+00\n",
            "Epoch 10/10\n",
            "12000/12000 [==============================] - 1s 80us/step - loss: 0.7028 - acc: 0.0000e+00\n"
          ],
          "name": "stdout"
        }
      ]
    },
    {
      "metadata": {
        "id": "bkWg-GI06xF1",
        "colab_type": "code",
        "colab": {}
      },
      "cell_type": "code",
      "source": [
        "import tensorflow as tf\n",
        "def create_prediction_function(x, y):\n",
        "  model = tf.keras.models.Sequential([\n",
        "      tf.keras.layers.Dense(128, input_dim=1, kernel_initializer='normal', activation='relu'),\n",
        "      tf.keras.layers.Dense(64, 'relu'),\n",
        "      tf.keras.layers.Dense(8, 'relu'),\n",
        "      tf.keras.layers.Dense(1, 'relu')\n",
        "      ])\n",
        "  model.compile(optimizer='adam',\n",
        "              loss='mean_squared_error',\n",
        "              metrics=['accuracy'])\n",
        "  model.summary()\n",
        "\n",
        "  model.fit(x, y, epochs=10,verbose=1,batch_size=16)\n",
        "  return model"
      ],
      "execution_count": 0,
      "outputs": []
    },
    {
      "metadata": {
        "id": "n0Q0SYDEB4nK",
        "colab_type": "text"
      },
      "cell_type": "markdown",
      "source": [
        "[Top](#scrollTo=sY96aPI-kVPC)\n",
        "\n",
        "\n",
        "---\n",
        "# Linear regression with tensorflow\n"
      ]
    },
    {
      "metadata": {
        "id": "mZZHBhov6ovr",
        "colab_type": "code",
        "colab": {}
      },
      "cell_type": "code",
      "source": [
        "#walkthrough\n"
      ],
      "execution_count": 0,
      "outputs": []
    },
    {
      "metadata": {
        "id": "F8SBj7bMCN5P",
        "colab_type": "code",
        "colab": {}
      },
      "cell_type": "code",
      "source": [
        "#problem\n",
        "\n",
        "import tensorflow as tf\n",
        "def create_prediction_function(x, y):\n",
        "  model = tf.keras.models.Sequential([\n",
        "      tf.keras.layers.Dense(128, input_dim=1, kernel_initializer='normal', activation='relu'),\n",
        "      tf.keras.layers.Dense(64, 'relu'),\n",
        "      tf.keras.layers.Dense(8, 'relu'),\n",
        "      tf.keras.layers.Dense(1, 'relu')\n",
        "      ])\n",
        "  model.compile(optimizer='adam',\n",
        "              loss='mean_squared_error',\n",
        "              metrics=['accuracy'])\n",
        "\n",
        "#   model.fit(x, y, epochs=10,verbose=0,batch_size=16)\n"
      ],
      "execution_count": 0,
      "outputs": []
    },
    {
      "metadata": {
        "id": "_jBGTNt8CNs-",
        "colab_type": "code",
        "colab": {}
      },
      "cell_type": "code",
      "source": [
        "#solution\n",
        "\n",
        "import tensorflow as tf\n",
        "def create_prediction_function(x, y):\n",
        "  model = tf.keras.models.Sequential([\n",
        "      tf.keras.layers.Dense(128, input_dim=1, kernel_initializer='normal', activation='relu'),\n",
        "      tf.keras.layers.Dense(64, 'relu'),\n",
        "      tf.keras.layers.Dense(8, 'relu'),\n",
        "      tf.keras.layers.Dense(1, 'relu')\n",
        "      ])\n",
        "  model.compile(optimizer='adam',\n",
        "              loss='mean_squared_error',\n",
        "              metrics=['accuracy'])\n",
        "\n",
        "  model.fit(x, y, epochs=10,verbose=0,batch_size=16)\n",
        "  return model\n"
      ],
      "execution_count": 0,
      "outputs": []
    },
    {
      "metadata": {
        "id": "nz960ja3CNeP",
        "colab_type": "code",
        "colab": {}
      },
      "cell_type": "code",
      "source": [
        "#test\n",
        "import pandas as pd\n",
        "from sklearn.metrics import mean_squared_error\n",
        "from sklearn.model_selection import train_test_split\n",
        "\n",
        "df = pd.read_csv('quadratic_data.csv')\n",
        "x = df.iloc[:,:-1]\n",
        "y=df.iloc[:,-1:]\n",
        "\n",
        "x_train, x_test, y_train, y_test = train_test_split(x, y, test_size=.2, random_state=5685)\n",
        "model = create_prediction_function(x_train, y_train)\n",
        "\n",
        "prediction = model.predict(x_test)\n",
        "mse = mean_squared_error(y_test, prediction)\n",
        "# mse\n",
        "max_error = 5\n",
        "assert mse < max_error , \"Your error is %f which is greater than the max error\"%mse"
      ],
      "execution_count": 0,
      "outputs": []
    },
    {
      "metadata": {
        "id": "CGf554wm-w2U",
        "colab_type": "code",
        "outputId": "898c0dd5-e098-4c6c-f568-496d061a8c08",
        "colab": {
          "base_uri": "https://localhost:8080/",
          "height": 35
        }
      },
      "cell_type": "code",
      "source": [
        "mse"
      ],
      "execution_count": 0,
      "outputs": [
        {
          "output_type": "execute_result",
          "data": {
            "text/plain": [
              "0.498012832723765"
            ]
          },
          "metadata": {
            "tags": []
          },
          "execution_count": 23
        }
      ]
    },
    {
      "metadata": {
        "id": "FJ5X2-Up7H30",
        "colab_type": "text"
      },
      "cell_type": "markdown",
      "source": [
        "[Top](#scrollTo=sY96aPI-kVPC)\n",
        "\n",
        "\n",
        "---\n",
        "# Failing the single layer perceptron\n"
      ]
    },
    {
      "metadata": {
        "id": "88sEjsv_0yrl",
        "colab_type": "code",
        "colab": {}
      },
      "cell_type": "code",
      "source": [
        "# 5 lines of code to train a model and create a prediction function from input data. \n",
        "\n",
        "from sklearn.linear_model import Perceptron\n",
        "# X = [[0, 0], [0, 1], [1, 0], [1, 1]]\n",
        "# y = [0, 1, 1, 1]\n",
        "# classifier = Perceptron()\n",
        "# model = classifier.fit(X, y)\n",
        "# predict_or = model.predict\n",
        "\n",
        "from sklearn.neural_network import MLPRegressor\n",
        "def create_prediction_function(x, y):\n",
        "#   clf = MLPRegressor()\n",
        "#   model = clf.fit(x, y)\n",
        "  classifier = Perceptron()\n",
        "  model = classifier.fit(x, y)\n",
        "  return model          "
      ],
      "execution_count": 0,
      "outputs": []
    },
    {
      "metadata": {
        "id": "fIeGn3Z688pp",
        "colab_type": "code",
        "outputId": "be3f3d19-6bbe-4a56-fdd2-86548956f488",
        "colab": {
          "base_uri": "https://localhost:8080/",
          "height": 1937
        }
      },
      "cell_type": "code",
      "source": [
        "import pandas as pd\n",
        "from sklearn.metrics import mean_squared_error\n",
        "from sklearn.model_selection import train_test_split\n",
        "\n",
        "df = pd.read_csv('quadratic_data.csv')\n",
        "x = df.iloc[:,:-1]\n",
        "y=df.iloc[:,-1:]\n",
        "\n",
        "x_train, x_test, y_train, y_test = train_test_split(x, y, test_size=.2, random_state=5685)\n",
        "model = create_prediction_function(x_train, y_train)\n",
        "\n",
        "prediction = model.predict(x_test)\n",
        "mse = mean_squared_error(y_test, prediction)\n",
        "# mse\n",
        "max_error = 5\n",
        "assert mse < max_error , \"Your error is %f which is greater than the max error\"%mse\n",
        " "
      ],
      "execution_count": 0,
      "outputs": [
        {
          "output_type": "stream",
          "text": [
            "/usr/local/lib/python3.6/dist-packages/sklearn/linear_model/stochastic_gradient.py:166: FutureWarning: max_iter and tol parameters have been added in Perceptron in 0.19. If both are left unset, they default to max_iter=5 and tol=None. If tol is not None, max_iter defaults to max_iter=1000. From 0.21, default max_iter will be 1000, and default tol will be 1e-3.\n",
            "  FutureWarning)\n",
            "/usr/local/lib/python3.6/dist-packages/sklearn/utils/validation.py:761: DataConversionWarning: A column-vector y was passed when a 1d array was expected. Please change the shape of y to (n_samples, ), for example using ravel().\n",
            "  y = column_or_1d(y, warn=True)\n"
          ],
          "name": "stderr"
        },
        {
          "output_type": "error",
          "ename": "ValueError",
          "evalue": "ignored",
          "traceback": [
            "\u001b[0;31m---------------------------------------------------------------------------\u001b[0m",
            "\u001b[0;31mValueError\u001b[0m                                Traceback (most recent call last)",
            "\u001b[0;32m<ipython-input-27-18becc8f30c0>\u001b[0m in \u001b[0;36m<module>\u001b[0;34m()\u001b[0m\n\u001b[1;32m      8\u001b[0m \u001b[0;34m\u001b[0m\u001b[0m\n\u001b[1;32m      9\u001b[0m \u001b[0mx_train\u001b[0m\u001b[0;34m,\u001b[0m \u001b[0mx_test\u001b[0m\u001b[0;34m,\u001b[0m \u001b[0my_train\u001b[0m\u001b[0;34m,\u001b[0m \u001b[0my_test\u001b[0m \u001b[0;34m=\u001b[0m \u001b[0mtrain_test_split\u001b[0m\u001b[0;34m(\u001b[0m\u001b[0mx\u001b[0m\u001b[0;34m,\u001b[0m \u001b[0my\u001b[0m\u001b[0;34m,\u001b[0m \u001b[0mtest_size\u001b[0m\u001b[0;34m=\u001b[0m\u001b[0;36m.2\u001b[0m\u001b[0;34m,\u001b[0m \u001b[0mrandom_state\u001b[0m\u001b[0;34m=\u001b[0m\u001b[0;36m5685\u001b[0m\u001b[0;34m)\u001b[0m\u001b[0;34m\u001b[0m\u001b[0;34m\u001b[0m\u001b[0m\n\u001b[0;32m---> 10\u001b[0;31m \u001b[0mmodel\u001b[0m \u001b[0;34m=\u001b[0m \u001b[0mcreate_prediction_function\u001b[0m\u001b[0;34m(\u001b[0m\u001b[0mx_train\u001b[0m\u001b[0;34m,\u001b[0m \u001b[0my_train\u001b[0m\u001b[0;34m)\u001b[0m\u001b[0;34m\u001b[0m\u001b[0;34m\u001b[0m\u001b[0m\n\u001b[0m\u001b[1;32m     11\u001b[0m \u001b[0;34m\u001b[0m\u001b[0m\n\u001b[1;32m     12\u001b[0m \u001b[0mprediction\u001b[0m \u001b[0;34m=\u001b[0m \u001b[0mmodel\u001b[0m\u001b[0;34m.\u001b[0m\u001b[0mpredict\u001b[0m\u001b[0;34m(\u001b[0m\u001b[0mx_test\u001b[0m\u001b[0;34m)\u001b[0m\u001b[0;34m\u001b[0m\u001b[0;34m\u001b[0m\u001b[0m\n",
            "\u001b[0;32m<ipython-input-26-9755125ac4b9>\u001b[0m in \u001b[0;36mcreate_prediction_function\u001b[0;34m(x, y)\u001b[0m\n\u001b[1;32m     12\u001b[0m \u001b[0;31m#   model = clf.fit(x, y)\u001b[0m\u001b[0;34m\u001b[0m\u001b[0;34m\u001b[0m\u001b[0;34m\u001b[0m\u001b[0m\n\u001b[1;32m     13\u001b[0m   \u001b[0mclassifier\u001b[0m \u001b[0;34m=\u001b[0m \u001b[0mPerceptron\u001b[0m\u001b[0;34m(\u001b[0m\u001b[0;34m)\u001b[0m\u001b[0;34m\u001b[0m\u001b[0;34m\u001b[0m\u001b[0m\n\u001b[0;32m---> 14\u001b[0;31m   \u001b[0mmodel\u001b[0m \u001b[0;34m=\u001b[0m \u001b[0mclassifier\u001b[0m\u001b[0;34m.\u001b[0m\u001b[0mfit\u001b[0m\u001b[0;34m(\u001b[0m\u001b[0mx\u001b[0m\u001b[0;34m,\u001b[0m \u001b[0my\u001b[0m\u001b[0;34m)\u001b[0m\u001b[0;34m\u001b[0m\u001b[0;34m\u001b[0m\u001b[0m\n\u001b[0m\u001b[1;32m     15\u001b[0m   \u001b[0;32mreturn\u001b[0m \u001b[0mmodel\u001b[0m\u001b[0;34m\u001b[0m\u001b[0;34m\u001b[0m\u001b[0m\n",
            "\u001b[0;32m/usr/local/lib/python3.6/dist-packages/sklearn/linear_model/stochastic_gradient.py\u001b[0m in \u001b[0;36mfit\u001b[0;34m(self, X, y, coef_init, intercept_init, sample_weight)\u001b[0m\n\u001b[1;32m    741\u001b[0m                          \u001b[0mloss\u001b[0m\u001b[0;34m=\u001b[0m\u001b[0mself\u001b[0m\u001b[0;34m.\u001b[0m\u001b[0mloss\u001b[0m\u001b[0;34m,\u001b[0m \u001b[0mlearning_rate\u001b[0m\u001b[0;34m=\u001b[0m\u001b[0mself\u001b[0m\u001b[0;34m.\u001b[0m\u001b[0mlearning_rate\u001b[0m\u001b[0;34m,\u001b[0m\u001b[0;34m\u001b[0m\u001b[0;34m\u001b[0m\u001b[0m\n\u001b[1;32m    742\u001b[0m                          \u001b[0mcoef_init\u001b[0m\u001b[0;34m=\u001b[0m\u001b[0mcoef_init\u001b[0m\u001b[0;34m,\u001b[0m \u001b[0mintercept_init\u001b[0m\u001b[0;34m=\u001b[0m\u001b[0mintercept_init\u001b[0m\u001b[0;34m,\u001b[0m\u001b[0;34m\u001b[0m\u001b[0;34m\u001b[0m\u001b[0m\n\u001b[0;32m--> 743\u001b[0;31m                          sample_weight=sample_weight)\n\u001b[0m\u001b[1;32m    744\u001b[0m \u001b[0;34m\u001b[0m\u001b[0m\n\u001b[1;32m    745\u001b[0m \u001b[0;34m\u001b[0m\u001b[0m\n",
            "\u001b[0;32m/usr/local/lib/python3.6/dist-packages/sklearn/linear_model/stochastic_gradient.py\u001b[0m in \u001b[0;36m_fit\u001b[0;34m(self, X, y, alpha, C, loss, learning_rate, coef_init, intercept_init, sample_weight)\u001b[0m\n\u001b[1;32m    594\u001b[0m \u001b[0;34m\u001b[0m\u001b[0m\n\u001b[1;32m    595\u001b[0m         self._partial_fit(X, y, alpha, C, loss, learning_rate, self._max_iter,\n\u001b[0;32m--> 596\u001b[0;31m                           classes, sample_weight, coef_init, intercept_init)\n\u001b[0m\u001b[1;32m    597\u001b[0m \u001b[0;34m\u001b[0m\u001b[0m\n\u001b[1;32m    598\u001b[0m         if (self._tol is not None and self._tol > -np.inf\n",
            "\u001b[0;32m/usr/local/lib/python3.6/dist-packages/sklearn/linear_model/stochastic_gradient.py\u001b[0m in \u001b[0;36m_partial_fit\u001b[0;34m(self, X, y, alpha, C, loss, learning_rate, max_iter, classes, sample_weight, coef_init, intercept_init)\u001b[0m\n\u001b[1;32m    523\u001b[0m         \u001b[0mn_samples\u001b[0m\u001b[0;34m,\u001b[0m \u001b[0mn_features\u001b[0m \u001b[0;34m=\u001b[0m \u001b[0mX\u001b[0m\u001b[0;34m.\u001b[0m\u001b[0mshape\u001b[0m\u001b[0;34m\u001b[0m\u001b[0;34m\u001b[0m\u001b[0m\n\u001b[1;32m    524\u001b[0m \u001b[0;34m\u001b[0m\u001b[0m\n\u001b[0;32m--> 525\u001b[0;31m         \u001b[0m_check_partial_fit_first_call\u001b[0m\u001b[0;34m(\u001b[0m\u001b[0mself\u001b[0m\u001b[0;34m,\u001b[0m \u001b[0mclasses\u001b[0m\u001b[0;34m)\u001b[0m\u001b[0;34m\u001b[0m\u001b[0;34m\u001b[0m\u001b[0m\n\u001b[0m\u001b[1;32m    526\u001b[0m \u001b[0;34m\u001b[0m\u001b[0m\n\u001b[1;32m    527\u001b[0m         \u001b[0mn_classes\u001b[0m \u001b[0;34m=\u001b[0m \u001b[0mself\u001b[0m\u001b[0;34m.\u001b[0m\u001b[0mclasses_\u001b[0m\u001b[0;34m.\u001b[0m\u001b[0mshape\u001b[0m\u001b[0;34m[\u001b[0m\u001b[0;36m0\u001b[0m\u001b[0;34m]\u001b[0m\u001b[0;34m\u001b[0m\u001b[0;34m\u001b[0m\u001b[0m\n",
            "\u001b[0;32m/usr/local/lib/python3.6/dist-packages/sklearn/utils/multiclass.py\u001b[0m in \u001b[0;36m_check_partial_fit_first_call\u001b[0;34m(clf, classes)\u001b[0m\n\u001b[1;32m    318\u001b[0m         \u001b[0;32melse\u001b[0m\u001b[0;34m:\u001b[0m\u001b[0;34m\u001b[0m\u001b[0;34m\u001b[0m\u001b[0m\n\u001b[1;32m    319\u001b[0m             \u001b[0;31m# This is the first call to partial_fit\u001b[0m\u001b[0;34m\u001b[0m\u001b[0;34m\u001b[0m\u001b[0;34m\u001b[0m\u001b[0m\n\u001b[0;32m--> 320\u001b[0;31m             \u001b[0mclf\u001b[0m\u001b[0;34m.\u001b[0m\u001b[0mclasses_\u001b[0m \u001b[0;34m=\u001b[0m \u001b[0munique_labels\u001b[0m\u001b[0;34m(\u001b[0m\u001b[0mclasses\u001b[0m\u001b[0;34m)\u001b[0m\u001b[0;34m\u001b[0m\u001b[0;34m\u001b[0m\u001b[0m\n\u001b[0m\u001b[1;32m    321\u001b[0m             \u001b[0;32mreturn\u001b[0m \u001b[0;32mTrue\u001b[0m\u001b[0;34m\u001b[0m\u001b[0;34m\u001b[0m\u001b[0m\n\u001b[1;32m    322\u001b[0m \u001b[0;34m\u001b[0m\u001b[0m\n",
            "\u001b[0;32m/usr/local/lib/python3.6/dist-packages/sklearn/utils/multiclass.py\u001b[0m in \u001b[0;36munique_labels\u001b[0;34m(*ys)\u001b[0m\n\u001b[1;32m     94\u001b[0m     \u001b[0m_unique_labels\u001b[0m \u001b[0;34m=\u001b[0m \u001b[0m_FN_UNIQUE_LABELS\u001b[0m\u001b[0;34m.\u001b[0m\u001b[0mget\u001b[0m\u001b[0;34m(\u001b[0m\u001b[0mlabel_type\u001b[0m\u001b[0;34m,\u001b[0m \u001b[0;32mNone\u001b[0m\u001b[0;34m)\u001b[0m\u001b[0;34m\u001b[0m\u001b[0;34m\u001b[0m\u001b[0m\n\u001b[1;32m     95\u001b[0m     \u001b[0;32mif\u001b[0m \u001b[0;32mnot\u001b[0m \u001b[0m_unique_labels\u001b[0m\u001b[0;34m:\u001b[0m\u001b[0;34m\u001b[0m\u001b[0;34m\u001b[0m\u001b[0m\n\u001b[0;32m---> 96\u001b[0;31m         \u001b[0;32mraise\u001b[0m \u001b[0mValueError\u001b[0m\u001b[0;34m(\u001b[0m\u001b[0;34m\"Unknown label type: %s\"\u001b[0m \u001b[0;34m%\u001b[0m \u001b[0mrepr\u001b[0m\u001b[0;34m(\u001b[0m\u001b[0mys\u001b[0m\u001b[0;34m)\u001b[0m\u001b[0;34m)\u001b[0m\u001b[0;34m\u001b[0m\u001b[0;34m\u001b[0m\u001b[0m\n\u001b[0m\u001b[1;32m     97\u001b[0m \u001b[0;34m\u001b[0m\u001b[0m\n\u001b[1;32m     98\u001b[0m     \u001b[0mys_labels\u001b[0m \u001b[0;34m=\u001b[0m \u001b[0mset\u001b[0m\u001b[0;34m(\u001b[0m\u001b[0mchain\u001b[0m\u001b[0;34m.\u001b[0m\u001b[0mfrom_iterable\u001b[0m\u001b[0;34m(\u001b[0m\u001b[0m_unique_labels\u001b[0m\u001b[0;34m(\u001b[0m\u001b[0my\u001b[0m\u001b[0;34m)\u001b[0m \u001b[0;32mfor\u001b[0m \u001b[0my\u001b[0m \u001b[0;32min\u001b[0m \u001b[0mys\u001b[0m\u001b[0;34m)\u001b[0m\u001b[0;34m)\u001b[0m\u001b[0;34m\u001b[0m\u001b[0;34m\u001b[0m\u001b[0m\n",
            "\u001b[0;31mValueError\u001b[0m: Unknown label type: (array([  1.  ,   1.01,   1.02,   1.03,   1.04,   1.05,   1.06,   1.07,\n         1.08,   1.09,   1.1 ,   1.11,   1.12,   1.13,   1.14,   1.15,\n         1.16,   1.17,   1.18,   1.19,   1.2 ,   1.21,   1.22,   1.23,\n         1.24,   1.25,   1.26,   1.27,   1.28,   1.29,   1.3 ,   1.31,\n         1.32,   1.33,   1.34,   1.35,   1.36,   1.37,   1.38,   1.39,\n         1.4 ,   1.41,   1.42,   1.43,   1.44,   1.45,   1.46,   1.47,\n         1.48,   1.49,   1.5 ,   1.51,   1.52,   1.53,   1.54,   1.55,\n         1.56,   1.57,   1.58,   1.59,   1.6 ,   1.61,   1.62,   1.63,\n         1.64,   1.65,   1.66,   1.67,   1.68,   1.69,   1.7 ,   1.71,\n         1.72,   1.73,   1.74,   1.75,   1.76,   1.77,   1.78,   1.79,\n         1.8 ,   1.81,   1.82,   1.83,   1.84,   1.85,   1.86,   1.87,\n         1.88,   1.89,   1.9 ,   1.91,   1.92,   1.93,   1.94,   1.95,\n         1.96,   1.97,   1.98,   1.99,   2.  ,   4.  ,   4.01,   4.02,\n         4.03,   4.04,   4.05,   4.06,   4.07,   4.08,   4.09,   4.1 ,\n         4.11,   4.12,   4.13,   4.14,   4.15,   4.16,   4.17,   4.18,\n         4.19,   4.2 ,   4.21,   4.22,   4.23,   4.24,   4.25,   4.26,\n         4.27,   4.28,   4.29,   4.3 ,   4.31,   4.32,   4.33,   4.34,\n         4.35,   4.36,   4.37,   4.38,   4.39,   4.4 ,   4.41,   4.42,\n         4.43,   4.44,   4.45,   4.46,   4.47,   4.48,   4.49,   4.5 ,\n         4.51,   4.52,   4.53,   4.54,   4.55,   4.56,   4.57,   4.58,\n         4.59,   4.6 ,   4.61,   4.62,   4.63,   4.64,   4.65,   4.66,\n         4.67,   4.68,   4.69,   4.7 ,   4.71,   4.72,   4.73,   4.74,\n         4.75,   4.76,   4.77,   4.78,   4.79,   4.8 ,   4.81,   4.82,\n         4.83,   4.84,   4.85,   4.86,   4.87,   4.88,   4.89,   4.9 ,\n         4.91,   4.92,   4.93,   4.94,   4.95,   4.96,   4.97,   4.98,\n         4.99,   5.  ,   9.  ,   9.01,   9.02,   9.03,   9.04,   9.05,\n         9.06,   9.07,   9.08,   9.09,   9.1 ,   9.11,   9.12,   9.13,\n         9.14,   9.15,   9.16,   9.17,   9.18,   9.19,   9.2 ,   9.21,\n         9.22,   9.23,   9.24,   9.25,   9.26,   9.27,   9.28,   9.29,\n         9.3 ,   9.31,   9.32,   9.33,   9.34,   9.35,   9.36,   9.37,\n         9.38,   9.39,   9.4 ,   9.41,   9.42,   9.43,   9.44,   9.45,\n         9.46,   9.47,   9.48,   9.49,   9.5 ,   9.51,   9.52,   9.53,\n         9.54,   9.55,   9.56,   9.57,   9.58,   9.59,   9.6 ,   9.61,\n         9.62,   9.63,   9.64,   9.65,   9.66,   9.67,   9.68,   9.69,\n         9.7 ,   9.71,   9.72,   9.73,   9.74,   9.75,   9.76,   9.77,\n         9.78,   9.79,   9.8 ,   9.81,   9.82,   9.83,   9.84,   9.85,\n         9.86,   9.87,   9.88,   9.89,   9.9 ,   9.91,   9.92,   9.93,\n         9.94,   9.95,   9.96,   9.97,   9.98,   9.99,  10.  ,  16.  ,\n        16.1 ,  16.2 ,  16.3 ,  16.4 ,  16.5 ,  16.6 ,  16.7 ,  16.8 ,\n        16.9 ,  17.  ,  25.  ,  25.1 ,  25.2 ,  25.3 ,  25.4 ,  25.5 ,\n        25.6 ,  25.7 ,  25.8 ,  25.9 ,  26.  ,  36.  ,  36.1 ,  36.2 ,\n        36.3 ,  36.4 ,  36.5 ,  36.6 ,  36.7 ,  36.8 ,  36.9 ,  37.  ,\n        49.  ,  49.1 ,  49.2 ,  49.3 ,  49.4 ,  49.5 ,  49.6 ,  49.7 ,\n        49.8 ,  49.9 ,  50.  ,  64.  ,  64.1 ,  64.2 ,  64.3 ,  64.4 ,\n        64.5 ,  64.6 ,  64.7 ,  64.8 ,  64.9 ,  65.  ,  81.  ,  81.1 ,\n        81.2 ,  81.3 ,  81.4 ,  81.5 ,  81.6 ,  81.7 ,  81.8 ,  81.9 ,\n        82.  , 100.  , 101.  ]),)"
          ]
        }
      ]
    },
    {
      "metadata": {
        "id": "v-EoLKi99qtV",
        "colab_type": "code",
        "outputId": "ace5a18f-0be9-4f74-df7d-3a585ced95e3",
        "colab": {
          "base_uri": "https://localhost:8080/",
          "height": 35
        }
      },
      "cell_type": "code",
      "source": [
        "mse\n"
      ],
      "execution_count": 0,
      "outputs": [
        {
          "output_type": "execute_result",
          "data": {
            "text/plain": [
              "0.5834414044019411"
            ]
          },
          "metadata": {
            "tags": []
          },
          "execution_count": 18
        }
      ]
    },
    {
      "metadata": {
        "id": "Gu5Hw0Fz-pUG",
        "colab_type": "code",
        "colab": {}
      },
      "cell_type": "code",
      "source": [
        ""
      ],
      "execution_count": 0,
      "outputs": []
    }
  ]
}