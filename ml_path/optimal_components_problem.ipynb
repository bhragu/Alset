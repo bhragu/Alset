{
  "nbformat": 4,
  "nbformat_minor": 0,
  "metadata": {
    "colab": {
      "name": "optimal_components_problem.ipynb",
      "version": "0.3.2",
      "provenance": [],
      "collapsed_sections": []
    },
    "kernelspec": {
      "name": "python3",
      "display_name": "Python 3"
    }
  },
  "cells": [
    {
      "metadata": {
        "id": "R64Pi8Rn7gop",
        "colab_type": "text"
      },
      "cell_type": "markdown",
      "source": [
        "#Optimal Components"
      ]
    },
    {
      "metadata": {
        "colab_type": "code",
        "id": "886x3H0hI94K",
        "colab": {}
      },
      "cell_type": "code",
      "source": [
        "#walkthrough\n",
        "#the elbow method we need to preserve the variance and look for the point from where the curve starts flating"
      ],
      "execution_count": 0,
      "outputs": []
    },
    {
      "metadata": {
        "colab_type": "code",
        "id": "6PMipbwDI94k",
        "colab": {}
      },
      "cell_type": "code",
      "source": [
        "#problem\n",
        "def create_prediction_function(x):\n",
        "  number_components = 0\n",
        "  from sklearn.preprocessing import StandardScaler\n",
        "  from sklearn.decomposition import PCA\n",
        "  pca = PCA(n_components = x.shape[1]) \n",
        "  x = pca.fit_transform(x)\n",
        "  variance = pca.explained_variance_ratio_\n",
        "  plt.plot(range(0,x.shape[1]),variance)\n",
        "#   number_components = *Enter a number after studying the graph*\n",
        "  return number_components"
      ],
      "execution_count": 0,
      "outputs": []
    },
    {
      "metadata": {
        "colab_type": "code",
        "id": "T1nElNVPI94_",
        "colab": {}
      },
      "cell_type": "code",
      "source": [
        "\n",
        "# Tests \n",
        "import pandas as pd\n",
        "import numpy as np\n",
        "def warn(*args, **kwargs):\n",
        "    pass\n",
        "import warnings\n",
        "warnings.warn = warn\n",
        "import random\n",
        "from sklearn import datasets\n",
        "import matplotlib.pyplot as plt\n",
        "%matplotlib inline \n",
        "\n",
        "df = datasets.load_boston()\n",
        "x = df.data\n",
        "y = df.target\n",
        "x = create_prediction_function(x)\n",
        "plt.title('Explained Variance')\n",
        "plt.xlabel('Features')\n",
        "plt.ylabel('Variance')\n",
        "plt.legend()\n",
        "plt.show()\n",
        "plt.show()\n"
      ],
      "execution_count": 0,
      "outputs": []
    },
    {
      "metadata": {
        "id": "ESDGDpgqdim_",
        "colab_type": "code",
        "colab": {}
      },
      "cell_type": "code",
      "source": [
        "assert (x == 3 or x==4 ),'Number of selected components is not correct. Try normalising the data.'"
      ],
      "execution_count": 0,
      "outputs": []
    }
  ]
}