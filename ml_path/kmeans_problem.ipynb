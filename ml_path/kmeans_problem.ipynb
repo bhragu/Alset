{
  "nbformat": 4,
  "nbformat_minor": 0,
  "metadata": {
    "colab": {
      "name": "kmeans_problem.ipynb",
      "version": "0.3.2",
      "provenance": []
    },
    "kernelspec": {
      "name": "python3",
      "display_name": "Python 3"
    }
  },
  "cells": [
    {
      "metadata": {
        "id": "jkHcnjo3FlZ_",
        "colab_type": "text"
      },
      "cell_type": "markdown",
      "source": [
        "#K Means\n",
        "\n"
      ]
    },
    {
      "metadata": {
        "colab_type": "code",
        "id": "9wfseqe2JAQL",
        "colab": {}
      },
      "cell_type": "code",
      "source": [
        "#walkthrough"
      ],
      "execution_count": 0,
      "outputs": []
    },
    {
      "metadata": {
        "colab_type": "code",
        "id": "4gRhUhaeJAQ3",
        "colab": {}
      },
      "cell_type": "code",
      "source": [
        "#Problem\n",
        "def create_prediction_function(x):\n",
        "#   from sklearn.cluster import KMeans\n",
        "#   Build the clusters and return the labels using fit_predict\n",
        "  return cluster_label"
      ],
      "execution_count": 0,
      "outputs": []
    },
    {
      "metadata": {
        "colab_type": "code",
        "id": "80oIFm1jJARE",
        "colab": {}
      },
      "cell_type": "code",
      "source": [
        "\n",
        "# Tests \n",
        "def warn(*args, **kwargs):\n",
        "    pass\n",
        "import warnings\n",
        "warnings.warn = warn\n",
        "import pandas as pd\n",
        "import numpy as np\n",
        "import matplotlib.pyplot as plt\n",
        "%matplotlib inline \n",
        "\n",
        "from sklearn import datasets\n",
        "df = datasets.load_iris()\n",
        "x = df.data[:, :2]\n",
        "model = create_prediction_function(x)\n",
        "#the plot begins \n",
        "plt.scatter(x[model == 0, 0], x[model == 0, 1], s = 100, c = 'red', label = 'Cluster 1')\n",
        "plt.scatter(x[model == 1, 0], x[model == 1, 1], s = 100, c = 'blue', label = 'Cluster 2')\n",
        "plt.scatter(x[model == 2, 0], x[model == 2, 1], s = 100, c = 'green', label = 'Cluster 3')\n",
        "plt.title('Iris Clusters')\n",
        "plt.xlabel('Sepal length')\n",
        "plt.ylabel('Sepal width')\n",
        "plt.legend()\n",
        "plt.show()"
      ],
      "execution_count": 0,
      "outputs": []
    },
    {
      "metadata": {
        "colab_type": "code",
        "id": "akNQei3vJARa",
        "colab": {}
      },
      "cell_type": "code",
      "source": [
        "assert model is not None,'Please Try again'"
      ],
      "execution_count": 0,
      "outputs": []
    }
  ]
}