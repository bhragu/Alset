{
  "nbformat": 4,
  "nbformat_minor": 0,
  "metadata": {
    "colab": {
      "name": "kmeans_problem.ipynb",
      "version": "0.3.2",
      "provenance": [],
      "collapsed_sections": []
    },
    "kernelspec": {
      "name": "python3",
      "display_name": "Python 3"
    }
  },
  "cells": [
    {
      "metadata": {
        "id": "jkHcnjo3FlZ_",
        "colab_type": "text"
      },
      "cell_type": "markdown",
      "source": [
        "# K Means\n",
        "\n"
      ]
    },
    {
      "metadata": {
        "id": "KCiN9zhtiD8o",
        "colab_type": "text"
      },
      "cell_type": "markdown",
      "source": [
        "K-means clustering is one of the simplest and popular unsupervised machine learning algorithms. We give the unlabelled dataset to the algorithm. K-means partitions the N number of observations into  K clusters. The algorithm works iteratively to assign each point in the dataset to one of the K clusters based on the similarity. The results of the algorithm are K clusters and their respective labels.\n",
        "The steps involved in the algorithm are described below: \n",
        "\n",
        "\n",
        "1.   Cluster Assignment: Assign each observation a cluster based on the nearest centroid.\n",
        "2.   Update Centroid: A new centroid is calculated for each cluster. The mean value of the cluster is the new centroid of the cluster.\n",
        "\n",
        "Repeat the above steps till the centroids dont change for a few iterations.\n",
        "\n",
        "\n",
        "\n",
        "\n",
        "The K-means algorithm has implemented in sklearn library and here is a simple sample of using that:\n",
        "\n",
        "    kmeans = Kmeans(n_clusters = 3)\n",
        "    classifier.fit(x,y)\n",
        "    \n",
        "You can also find more about the classifier parametrs [here](https://scikit-learn.org/stable/modules/generated/sklearn.cluster.KMeans.html).\n",
        "\n",
        "---\n",
        "\n",
        "Now it's your turn!\n",
        "\n",
        "Change the kmeans_function which takes the  dataset (x) and return the cluster labels based on the input. Don't forget normalization!\n"
      ]
    },
    {
      "metadata": {
        "colab_type": "code",
        "id": "4gRhUhaeJAQ3",
        "colab": {}
      },
      "cell_type": "code",
      "source": [
        "#Problem\n",
        "def kmeans_function(x):\n",
        "#   from sklearn.cluster import KMeans\n",
        "#   Build the clusters and return the labels using fit_predict\n",
        "  return cluster_label"
      ],
      "execution_count": 0,
      "outputs": []
    },
    {
      "metadata": {
        "colab_type": "code",
        "id": "80oIFm1jJARE",
        "colab": {}
      },
      "cell_type": "code",
      "source": [
        "# Tests \n",
        "def warn(*args, **kwargs):\n",
        "    pass\n",
        "import warnings\n",
        "warnings.warn = warn\n",
        "import pandas as pd\n",
        "import numpy as np\n",
        "import matplotlib.pyplot as plt\n",
        "%matplotlib inline \n",
        "\n",
        "from sklearn import datasets\n",
        "df = datasets.load_iris()\n",
        "x = df.data[:, :2]\n",
        "model = kmeans_function(x)\n",
        "#the plot begins \n",
        "plt.scatter(x[model == 0, 0], x[model == 0, 1], s = 100, c = 'red', label = 'Cluster 1')\n",
        "plt.scatter(x[model == 1, 0], x[model == 1, 1], s = 100, c = 'blue', label = 'Cluster 2')\n",
        "plt.scatter(x[model == 2, 0], x[model == 2, 1], s = 100, c = 'green', label = 'Cluster 3')\n",
        "plt.title('Iris Clusters')\n",
        "plt.xlabel('Sepal length')\n",
        "plt.ylabel('Sepal width')\n",
        "plt.legend()\n",
        "plt.show()"
      ],
      "execution_count": 0,
      "outputs": []
    },
    {
      "metadata": {
        "colab_type": "code",
        "id": "akNQei3vJARa",
        "colab": {}
      },
      "cell_type": "code",
      "source": [
        "assert model is not None,'Please Try again'"
      ],
      "execution_count": 0,
      "outputs": []
    }
  ]
}