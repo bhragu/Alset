{
  "nbformat": 4,
  "nbformat_minor": 0,
  "metadata": {
    "colab": {
      "name": "svm_regression_problem.ipynb",
      "version": "0.3.2",
      "provenance": [],
      "collapsed_sections": []
    },
    "kernelspec": {
      "name": "python3",
      "display_name": "Python 3"
    }
  },
  "cells": [
    {
      "metadata": {
        "colab_type": "text",
        "id": "7tqR_6NbCTCX"
      },
      "cell_type": "markdown",
      "source": [
        "\n",
        "#SVM Regression\n"
      ]
    },
    {
      "metadata": {
        "id": "xPjLDrDN9hre",
        "colab_type": "text"
      },
      "cell_type": "markdown",
      "source": [
        "Support Vectors are also used for Regression. Now we will deal the continous values with the help of support vector machines. The procedure is the same as that of classification. We create a hyperplane like we did in classification but there is a diference between the two problems. In case of regression we try to fit a hyperplane so that all the data points are near to it or are within the deviation limit. You will get a better idea of it from the figure. We try to keep as many points as possible near the hyperplane.\n",
        "\n",
        "\n",
        "\n",
        "![SVM](https://raw.githubusercontent.com/bhragu/Alset/master/img/svr.jpeg)\n",
        "\n",
        "The SVM algorithm is implemented in sklearn library and here is a simple sample of using that:\n",
        "\n",
        "    regressor = SVR(kernel = 'rbf',)\n",
        "    regressor.fit(x,y)\n",
        "    \n",
        "You can also find more about the classifier parametrs [here](https://scikit-learn.org/stable/modules/generated/sklearn.svm.SVC.html).\n",
        "\n",
        "In the given problem you will be using a linear kernel.\n",
        "\n",
        "---\n",
        "\n",
        "Now it's your turn!\n",
        "\n",
        "Change the svm_regressor_function which takes in an a training set (x,y) and return it. Don't forget normalization!"
      ]
    },
    {
      "metadata": {
        "colab_type": "code",
        "id": "TUWrwKbXCTDD",
        "colab": {}
      },
      "cell_type": "code",
      "source": [
        "#problem\n",
        "def svm_regressor_function(x, y):\n",
        "  #from sklearn.svm import SVR\n",
        "  #Build the regressor and return it\n",
        "  return"
      ],
      "execution_count": 0,
      "outputs": []
    },
    {
      "metadata": {
        "colab_type": "code",
        "id": "IXJ3wrH-CTDg",
        "colab": {}
      },
      "cell_type": "code",
      "source": [
        "\n",
        "# Tests \n",
        "def warn(*args, **kwargs):\n",
        "    pass\n",
        "import warnings\n",
        "warnings.warn = warn\n",
        "from sklearn.metrics import mean_squared_error\n",
        "import pandas as pd\n",
        "import numpy as np\n",
        "import matplotlib.pyplot as plt\n",
        "%matplotlib inline \n",
        "from sklearn.model_selection import train_test_split\n",
        "\n",
        "\n",
        "from sklearn import datasets\n",
        "df = pd.read_csv('https://docs.google.com/spreadsheets/d/1w1ykc27-yEGMQEbT93JMH66n3uu07di1dCg6B-saYRI/gviz/tq?tqx=out:csv&sheet=personal_data')\n",
        "x = df.iloc[:, :-1].values\n",
        "y = df.iloc[:, -1:].values\n",
        "from sklearn.preprocessing import StandardScaler\n",
        "\n",
        "x_train, x_test, y_train, y_test = train_test_split(x, y, test_size=.2, random_state=5685)\n",
        "model = svm_regressor_function(x_train, y_train)\n",
        "sc = StandardScaler()\n",
        "y_test = sc.fit_transform(y_test)\n",
        "x_test = sc.fit_transform(x_test)\n",
        "prediction = model.predict(x_test)\n",
        "error = mean_squared_error(y_test, prediction)\n",
        "x = sc.fit_transform(x)\n",
        "y = sc.fit_transform(y)\n",
        "#the plot begins \n",
        "\n",
        "x_grid = np.arange(min(x), max(x), 0.1)\n",
        "x_grid = x_grid.reshape((len(x_grid), 1))\n",
        "plt.scatter(x, y, color = 'red')\n",
        "plt.plot(x_grid, model.predict(x_grid), color = 'blue')\n",
        "\n",
        "plt.show()"
      ],
      "execution_count": 0,
      "outputs": []
    },
    {
      "metadata": {
        "colab_type": "code",
        "id": "HVj-Dv4vCTD0",
        "colab": {}
      },
      "cell_type": "code",
      "source": [
        "assert error <= 0.005,'Please Try again with a different kernel'"
      ],
      "execution_count": 0,
      "outputs": []
    }
  ]
}