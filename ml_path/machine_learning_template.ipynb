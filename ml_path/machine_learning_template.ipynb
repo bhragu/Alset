{
  "nbformat": 4,
  "nbformat_minor": 0,
  "metadata": {
    "colab": {
      "name": "machine_learning_template.ipynb",
      "version": "0.3.2",
      "provenance": []
    },
    "kernelspec": {
      "name": "python3",
      "display_name": "Python 3"
    }
  },
  "cells": [
    {
      "metadata": {
        "colab_type": "text",
        "id": "JMFgvj4NL4F4"
      },
      "cell_type": "markdown",
      "source": [
        "#  Template\n",
        "\n",
        "\n"
      ]
    },
    {
      "metadata": {
        "colab_type": "code",
        "id": "LNRkqOK5L4Gm",
        "colab": {}
      },
      "cell_type": "code",
      "source": [
        "#walkthrough"
      ],
      "execution_count": 0,
      "outputs": []
    },
    {
      "metadata": {
        "colab_type": "code",
        "id": "zbJXF-sQL4HI",
        "colab": {}
      },
      "cell_type": "code",
      "source": [
        "#problem\n",
        "\n",
        "def create_prediction_function(x, y):\n",
        "  from sklearn.ensemble import RandomForestClassifier\n",
        "  from sklearn.preprocessing import StandardScaler\n",
        "  sc = StandardScaler()\n",
        "  x = sc.fit_transform(x)\n",
        "  classifier = RandomForestClassifier(n_estimators = 10, criterion = 'entropy', random_state = 0)\n",
        "  classifier.fit(x,y)\n",
        "  return classifier"
      ],
      "execution_count": 0,
      "outputs": []
    },
    {
      "metadata": {
        "id": "cDyAlPRlC729",
        "colab_type": "code",
        "colab": {}
      },
      "cell_type": "code",
      "source": [
        "#solution\n",
        "\n",
        "def create_prediction_function(x, y):\n",
        "  from sklearn.ensemble import RandomForestClassifier\n",
        "  from sklearn.preprocessing import StandardScaler\n",
        "  sc = StandardScaler()\n",
        "  x = sc.fit_transform(x)\n",
        "  classifier = RandomForestClassifier(n_estimators = 10, criterion = 'entropy', random_state = 0)\n",
        "  classifier.fit(x,y)\n",
        "  return classifier"
      ],
      "execution_count": 0,
      "outputs": []
    },
    {
      "metadata": {
        "colab_type": "code",
        "id": "Kns76xf8L4Hm",
        "colab": {}
      },
      "cell_type": "code",
      "source": [
        "#test\n",
        "def warn(*args, **kwargs):\n",
        "    pass\n",
        "import warnings\n",
        "warnings.warn = warn\n",
        "from sklearn.metrics import accuracy_score\n",
        "import pandas as pd\n",
        "import numpy as np\n",
        "from io import StringIO\n",
        "import matplotlib.pyplot as plt\n",
        "%matplotlib inline \n",
        "from sklearn.model_selection import train_test_split\n",
        "\n",
        "df = pd.read_csv('https://docs.google.com/spreadsheets/d/1C0h8c4TbHmbDvw6sscfZpG07AN-N92LALrjpkj3vPIs/gviz/tq?tqx=out:csv&sheet=personal_data')\n",
        "\n",
        "x = df.iloc[:, [2, 3]].values\n",
        "y = df.iloc[:, 4].values\n",
        "\n",
        "from sklearn.preprocessing import StandardScaler\n",
        "sc = StandardScaler()\n",
        "x= sc.fit_transform(x)\n",
        "x_train, x_test, y_train, y_test = train_test_split(x, y, test_size=.2, random_state=5685)\n",
        "model = create_prediction_function(x_train, y_train)\n",
        "\n",
        "prediction = model.predict(x_test)\n",
        "accuracy = accuracy_score(y_test, prediction)\n",
        "\n",
        "#the plot begins \n",
        "from matplotlib.colors import ListedColormap\n",
        "x_set, y_set = x_train, y_train\n",
        "x_min, x_max = x[:, 0].min() - 1, x[:, 0].max() + 1\n",
        "y_min, y_max = x[:, 1].min() - 1, x[:, 1].max() + 1\n",
        "xx, yy = np.meshgrid(np.arange(x_min, x_max, 0.1),\n",
        "                     np.arange(y_min, y_max, 0.1))\n",
        "z = model.predict(np.c_[xx.ravel(), yy.ravel()])\n",
        "z = z.reshape(xx.shape)\n",
        "\n",
        "\n",
        "cmap2 = ListedColormap(['red', 'yellow'])\n",
        "cmap1 = ListedColormap(['red', 'yellow'])\n",
        "plt.contourf(xx, yy, z, alpha=0.1,cmap=cmap2)\n",
        "plt.scatter(x[:, 0], x[:, 1], c=y,cmap=cmap1,\n",
        "                              s=20, edgecolor='black')\n",
        "\n",
        "plt.show()\n",
        "\n"
      ],
      "execution_count": 0,
      "outputs": []
    },
    {
      "metadata": {
        "id": "L4QU-tlK95qc",
        "colab_type": "code",
        "colab": {}
      },
      "cell_type": "code",
      "source": [
        "assert accuracy >0, 'Failed'"
      ],
      "execution_count": 0,
      "outputs": []
    }
  ]
}