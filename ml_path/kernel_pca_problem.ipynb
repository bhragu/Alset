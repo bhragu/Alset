{
  "nbformat": 4,
  "nbformat_minor": 0,
  "metadata": {
    "colab": {
      "name": "kernel_pca_problem.ipynb",
      "version": "0.3.2",
      "provenance": [],
      "collapsed_sections": []
    },
    "kernelspec": {
      "name": "python3",
      "display_name": "Python 3"
    }
  },
  "cells": [
    {
      "metadata": {
        "id": "5-ZxMjkDy2Il",
        "colab_type": "text"
      },
      "cell_type": "markdown",
      "source": [
        "#Kernel PCA\n",
        "\n",
        "Always normalise before PCA\n"
      ]
    },
    {
      "metadata": {
        "colab_type": "code",
        "id": "H3hrjy6EyB7C",
        "colab": {}
      },
      "cell_type": "code",
      "source": [
        "#walkthrough\n"
      ],
      "execution_count": 0,
      "outputs": []
    },
    {
      "metadata": {
        "colab_type": "code",
        "id": "ZT4C2hLTyB7i",
        "colab": {}
      },
      "cell_type": "code",
      "source": [
        "#problem\n",
        "def create_prediction_function(x):\n",
        "  from sklearn.preprocessing import StandardScaler\n",
        "  from sklearn.decomposition import KernelPCA\n",
        "#   normalize the data first\n",
        "#   num_of_components = 2\n",
        "#   pca = KernelPCA(n_components = num_of_components, kernel='rbf') #change kernel to poly, linear, rbf\n",
        "#   x = pca.fit_transform(x)\n",
        "  return x"
      ],
      "execution_count": 0,
      "outputs": []
    },
    {
      "metadata": {
        "colab_type": "code",
        "id": "XHoIisrPyB8A",
        "colab": {}
      },
      "cell_type": "code",
      "source": [
        "\n",
        "# Tests \n",
        "import pandas as pd\n",
        "import numpy as np\n",
        "def warn(*args, **kwargs):\n",
        "    pass\n",
        "import warnings\n",
        "warnings.warn = warn\n",
        "import random\n",
        "from sklearn import datasets\n",
        "import matplotlib.pyplot as plt\n",
        "%matplotlib inline \n",
        "\n",
        "df = datasets.load_wine()\n",
        "x = df.data\n",
        "y = df.target\n",
        "x = create_prediction_function(x)\n",
        "\n",
        "plt.scatter(x[y == 0, 0], x[y == 0, 1],  c = 'red', label = 'Cluster 1')\n",
        "plt.scatter(x[y == 1, 0], x[y == 1, 1], c = 'blue', label = 'Cluster 2')\n",
        "plt.scatter(x[y == 2, 0], x[y == 2, 1],  c = 'green', label = 'Cluster 3')\n",
        "plt.title('PCA')\n",
        "plt.xlabel('Principal Component 1')\n",
        "plt.ylabel('Principal Component 2')\n",
        "plt.legend()\n",
        "plt.show()\n",
        "plt.show()"
      ],
      "execution_count": 0,
      "outputs": []
    },
    {
      "metadata": {
        "colab_type": "code",
        "id": "gagVbfCOyB8L",
        "colab": {}
      },
      "cell_type": "code",
      "source": [
        "assert x.shape[1]== 2 ,'Dimensions not reduced properly'"
      ],
      "execution_count": 0,
      "outputs": []
    }
  ]
}