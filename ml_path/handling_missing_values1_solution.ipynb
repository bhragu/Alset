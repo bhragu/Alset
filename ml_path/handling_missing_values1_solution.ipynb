{
  "nbformat": 4,
  "nbformat_minor": 0,
  "metadata": {
    "colab": {
      "name": "handling_missing_values1_solution.ipynb",
      "version": "0.3.2",
      "provenance": []
    },
    "kernelspec": {
      "name": "python3",
      "display_name": "Python 3"
    }
  },
  "cells": [
    {
      "metadata": {
        "id": "N0Hk0HeepIID",
        "colab_type": "text"
      },
      "cell_type": "markdown",
      "source": [
        "\n",
        "#Handling Missing Values 1\n",
        "\n",
        "\n"
      ]
    },
    {
      "metadata": {
        "colab_type": "code",
        "id": "YoQqcJglsQdT",
        "colab": {}
      },
      "cell_type": "code",
      "source": [
        "#walkthrough\n"
      ],
      "execution_count": 0,
      "outputs": []
    },
    {
      "metadata": {
        "colab_type": "code",
        "id": "VSPbm14HsQeF",
        "colab": {}
      },
      "cell_type": "code",
      "source": [
        "#Solution\n",
        "\n",
        "def create_prediction_function(x):\n",
        "  import pandas as pd\n",
        "  x = x.dropna(axis = 0)\n",
        "  return x"
      ],
      "execution_count": 0,
      "outputs": []
    },
    {
      "metadata": {
        "colab_type": "code",
        "id": "-XNsVXG5sQeT",
        "colab": {}
      },
      "cell_type": "code",
      "source": [
        "\n",
        "# Tests \n",
        "\n",
        "import pandas as pd\n",
        "df = pd.read_csv('https://docs.google.com/spreadsheets/d/1bpTtTaZhH1l2cGRQhbi9IaOnprvjKDIu0nGy597lXm0/gviz/tq?tqx=out:csv&sheet=personal_data')\n",
        "df =  create_prediction_function(df)"
      ],
      "execution_count": 0,
      "outputs": []
    },
    {
      "metadata": {
        "colab_type": "code",
        "id": "saQA22E6sQep",
        "colab": {}
      },
      "cell_type": "code",
      "source": [
        "assert df.isnull().any().any() == False, \"Missing Values not removed\"\n"
      ],
      "execution_count": 0,
      "outputs": []
    }
  ]
}