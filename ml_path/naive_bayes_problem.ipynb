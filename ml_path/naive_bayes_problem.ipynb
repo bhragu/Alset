{
  "nbformat": 4,
  "nbformat_minor": 0,
  "metadata": {
    "colab": {
      "name": "naive_bayes_problem.ipynb",
      "version": "0.3.2",
      "provenance": [],
      "collapsed_sections": []
    },
    "kernelspec": {
      "name": "python3",
      "display_name": "Python 3"
    }
  },
  "cells": [
    {
      "metadata": {
        "colab_type": "text",
        "id": "JMFgvj4NL4F4"
      },
      "cell_type": "markdown",
      "source": [
        "# Naive Bayes"
      ]
    },
    {
      "metadata": {
        "id": "jkTcDge1GOTd",
        "colab_type": "text"
      },
      "cell_type": "markdown",
      "source": [
        "Naive Bayes is a effective and commonly-used supervised learning algorithm. Naive Bayes algorithms is  based on Bayes’ theorem with the assumption that there is a conditional independence between every pair of given features. \n",
        "It is a probabilistic classifier that makes classifications using the Maximum A Posteriori decision rule in a Bayesian setting. It can also be represented using a very simple Bayesian network. Naive Bayes classifiers can be extremely fast compared to more sophisticated methods. \n",
        "\n",
        "The Naive Bayes algorithm has implemented in sklearn library and here is a simple sample of using that:\n",
        "\n",
        "    classifier = GaussianNB()\n",
        "    classifier.fit(x,y)\n",
        "    \n",
        "You can also find more about the classifier parametrs [here](https://scikit-learn.org/stable/modules/generated/sklearn.naive_bayes.GaussianNB.html).\n",
        "\n",
        "---\n",
        "\n",
        "Now it's your turn!\n",
        "\n",
        "Change the naive_bayes_classifier_function to takes in an a training set (x,y) and return a naive bayes classifier based on the input. Don't forget normalization!\n"
      ]
    },
    {
      "metadata": {
        "colab_type": "code",
        "id": "zbJXF-sQL4HI",
        "colab": {}
      },
      "cell_type": "code",
      "source": [
        "def naive_bayes_classifier_function(x, y):\n",
        "#   from sklearn.naive_bayes import GaussianNB\n",
        "#   classifier = GaussianNB()\n",
        "  return classifier"
      ],
      "execution_count": 0,
      "outputs": []
    },
    {
      "metadata": {
        "colab_type": "code",
        "id": "Kns76xf8L4Hm",
        "colab": {}
      },
      "cell_type": "code",
      "source": [
        "# Tests \n",
        "def warn(*args, **kwargs):\n",
        "    pass\n",
        "import warnings\n",
        "warnings.warn = warn\n",
        "from sklearn.metrics import accuracy_score\n",
        "import pandas as pd\n",
        "import numpy as np\n",
        "import matplotlib.pyplot as plt\n",
        "%matplotlib inline \n",
        "from sklearn.model_selection import train_test_split\n",
        "\n",
        "\n",
        "df = pd.read_csv('https://docs.google.com/spreadsheets/d/1C0h8c4TbHmbDvw6sscfZpG07AN-N92LALrjpkj3vPIs/gviz/tq?tqx=out:csv&sheet=personal_data')\n",
        "x = df.iloc[:, [2, 3]].values\n",
        "y = df.iloc[:, 4].values\n",
        "\n",
        "\n",
        "x_train, x_test, y_train, y_test = train_test_split(x, y, test_size=.2, random_state=5685)\n",
        "model = naive_bayes_classifier_function(x_train, y_train)\n",
        "\n",
        "from sklearn.preprocessing import StandardScaler\n",
        "sc = StandardScaler()\n",
        "x_test = sc.fit_transform(x_test)\n",
        "\n",
        "prediction = model.predict(x_test)\n",
        "accuracy = accuracy_score(y_test, prediction)\n",
        "\n",
        "#the plot begins \n",
        "from matplotlib.colors import ListedColormap\n",
        "x = sc.fit_transform(x)\n",
        "x_set, y_set = x_train, y_train\n",
        "x_min, x_max = x[:, 0].min() - 1, x[:, 0].max() + 1\n",
        "y_min, y_max = x[:, 1].min() - 1, x[:, 1].max() + 1\n",
        "xx, yy = np.meshgrid(np.arange(x_min, x_max, 0.1),\n",
        "                     np.arange(y_min, y_max, 0.1))\n",
        "z = model.predict(np.c_[xx.ravel(), yy.ravel()])\n",
        "z = z.reshape(xx.shape)\n",
        "\n",
        "color_list_light = ['blue','red']\n",
        "color_list_bold = ['blue','red']\n",
        "custom_cmap2 = ListedColormap(color_list_light)\n",
        "custom_cmap1 = ListedColormap(color_list_bold)\n",
        "plt.contourf(xx, yy, z, alpha=0.1,cmap=custom_cmap2)\n",
        "plt.scatter(x[:, 0], x[:, 1], c=y,cmap=custom_cmap1,\n",
        "                              s=20, edgecolor='black')\n",
        "\n",
        "plt.show()"
      ],
      "execution_count": 0,
      "outputs": []
    },
    {
      "metadata": {
        "id": "L4QU-tlK95qc",
        "colab_type": "code",
        "colab": {}
      },
      "cell_type": "code",
      "source": [
        "assert accuracy >=.85, 'Your accuracy is %f which is less than the required accuracy'%accuracy"
      ],
      "execution_count": 0,
      "outputs": []
    }
  ]
}