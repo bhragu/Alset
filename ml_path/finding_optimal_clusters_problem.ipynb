{
  "nbformat": 4,
  "nbformat_minor": 0,
  "metadata": {
    "colab": {
      "name": "finding_optimal_clusters_problem.ipynb",
      "version": "0.3.2",
      "provenance": [],
      "collapsed_sections": []
    },
    "kernelspec": {
      "name": "python3",
      "display_name": "Python 3"
    }
  },
  "cells": [
    {
      "metadata": {
        "colab_type": "text",
        "id": "WqRWKllMuqPp"
      },
      "cell_type": "markdown",
      "source": [
        "# Optimal Clusters\n"
      ]
    },
    {
      "metadata": {
        "id": "d0jfutYfw8Li",
        "colab_type": "text"
      },
      "cell_type": "markdown",
      "source": [
        "K-means algorithm clusters the data into K clusters even if the value of K is not the optimal one. Now we will find out how to find the optimal number of centroids or clusters in the K-means algorithm.  In the last section we just took a random value for K. So how to decide what is the optimal value of K?\n",
        "We run the k-means algorithm for a range of values. We run the algorithm for k in range 1 to 20, for each value of K we calculate within-cluster sum-of-squares or inertia(sklearn). Since increasing the clusters will decrease the distance between the data points and eventually it will be tending to zero for large values of K. If we plot this we obtain the \"elbow point\". After this point the rate of decrease shifts sharply. This point can be taken as a rough value for K.\n",
        "In the following graph you can see that the elbow point is at K = 5. \n",
        "\n",
        "![graph](https://raw.githubusercontent.com/bhragu/Alset/master/img/optimal_clusters.png)\n",
        "\n",
        "\n",
        "\n",
        "\n",
        "\n",
        "\n",
        "\n",
        "\n",
        "\n",
        "\n",
        "    \n",
        "You can also find more about the classifier parametrs [here](https://scikit-learn.org/stable/modules/generated/sklearn.cluster.KMeans.html).\n",
        "\n",
        "---\n",
        "\n",
        "Now it's your turn! \n",
        "\n",
        "The following problem has 3 clusters. \n",
        "\n",
        "Change the value of number_optimal_clusters to your answer and commit the solution after running.\n",
        "Run it first so that you can obtain a graph. After you analyse the graph run it again and make sure you change the value of the specified variable."
      ]
    },
    {
      "metadata": {
        "colab_type": "code",
        "id": "2eTzcUv0uqQn",
        "colab": {}
      },
      "cell_type": "code",
      "source": [
        "#problem\n",
        "def create_prediction_function(x):\n",
        "  max_clusters = 20\n",
        "  from sklearn.cluster import KMeans\n",
        "  inertia = []\n",
        "  for i in range(1, max_clusters ):\n",
        "      kmeans = KMeans(n_clusters = i)\n",
        "      kmeans.fit(x)\n",
        "      inertia.append(kmeans.inertia_)\n",
        "  plt.plot(range(1, max_clusters), inertia)\n",
        "  plt.title('Elbow Method')\n",
        "  plt.xlabel('Number of clusters')\n",
        "  plt.ylabel('WCSS')\n",
        "  plt.show()\n",
        "  number_optimal_clusters = 100 #Change 100 to a suitable number after studying the graph\n",
        "  return number_optimal_clusters\n"
      ],
      "execution_count": 0,
      "outputs": []
    },
    {
      "metadata": {
        "colab_type": "code",
        "outputId": "42ebbfc1-a44e-490a-cd51-d467957002b3",
        "id": "CD4NdgsWuqQy",
        "colab": {
          "base_uri": "https://localhost:8080/",
          "height": 294
        }
      },
      "cell_type": "code",
      "source": [
        "\n",
        "# Tests \n",
        "def warn(*args, **kwargs):\n",
        "    pass\n",
        "import warnings\n",
        "warnings.warn = warn\n",
        "from sklearn.metrics import mean_squared_error\n",
        "import pandas as pd\n",
        "import numpy as np\n",
        "import matplotlib.pyplot as plt\n",
        "%matplotlib inline \n",
        "from sklearn.model_selection import train_test_split\n",
        "\n",
        "\n",
        "from sklearn import datasets\n",
        "df = datasets.load_iris()\n",
        "x = df.data[:, :2]\n",
        "y = df.target\n",
        "df = pd.read_csv('https://docs.google.com/spreadsheets/d/1ipMF7QQ7XTDJ3slX6FCpup57ROboyx912w-e5H0k-D0/gviz/tq?tqx=out:csv&sheet=personal_data')\n",
        "x = df.values\n",
        "\n",
        "clusters = create_prediction_function(x)\n"
      ],
      "execution_count": 0,
      "outputs": [
        {
          "output_type": "display_data",
          "data": {
            "image/png": "[encoded data removed]",
            "text/plain": [
              "<Figure size 432x288 with 1 Axes>"
            ]
          },
          "metadata": {
            "tags": []
          }
        }
      ]
    },
    {
      "metadata": {
        "colab_type": "code",
        "id": "pRq5nFSJuqRD",
        "colab": {}
      },
      "cell_type": "code",
      "source": [
        "assert clusters == 5,'%f is not the correct number of optimal clusters'%clusters"
      ],
      "execution_count": 0,
      "outputs": []
    }
  ]
}