{
  "nbformat": 4,
  "nbformat_minor": 0,
  "metadata": {
    "colab": {
      "name": "knn_problem.ipynb",
      "version": "0.3.2",
      "provenance": [],
      "collapsed_sections": []
    },
    "kernelspec": {
      "name": "python3",
      "display_name": "Python 3"
    }
  },
  "cells": [
    {
      "metadata": {
        "id": "Rasf_sfW4vq6",
        "colab_type": "text"
      },
      "cell_type": "markdown",
      "source": [
        "\n",
        "#KNN\n"
      ]
    },
    {
      "metadata": {
        "id": "FbD1zO4kUYQp",
        "colab_type": "text"
      },
      "cell_type": "markdown",
      "source": [
        "KNN or K Nearest Neighbour is a non-parametric, instance-based supervised learning algorithm. Instance based learning \n",
        "means that the model memorizes the training instances and uses them as knowledge. When it sees a new problem instance it compares the new instance with the instances that its has stored in the memory.\n",
        "The steps involved in the algorithms are explained below:\n",
        "1.   We select the parameter K which sets the number of nearest neighbours.\n",
        "2.   Now calculate the the distance between the given instance and all the training samples.\n",
        "1.   Sort the distances calculated and the determine the nearest neighbours based on the K.\n",
        "2.   Get the target the class of each nearest neighbour and simply pick the majority class label as the label for the given instance. \n",
        "\n",
        "KNN algorithm calculates the distance from every single point in the training set which makes it slow and takes a lot of memory when compared to other algorithms. \n",
        "Don't worry you dont have to do all these steps. Sklearn has already implemented all these steps. You just have to call the functions as shown below.\n",
        "\n",
        "\n",
        "\n",
        "\n",
        "\n",
        "    classifier = KNeighborsClassifier(n_neighbors = 5, metric = 'minkowski', p = 2)\n",
        "    classifier.fit(x,y)\n",
        "    \n",
        "You can also find more about the classifier parametrs [here](https://scikit-learn.org/stable/modules/generated/sklearn.neighbors.KNeighborsClassifier.html).\n",
        "\n",
        "---\n",
        "\n",
        "Now it's your turn!\n",
        "\n",
        "Change the knn_function to takes in an a training set (x,y) and return a knn classifier based on the input. Don't forget normalization!\n"
      ]
    },
    {
      "metadata": {
        "id": "8uoi1p6-t6g_",
        "colab_type": "code",
        "colab": {}
      },
      "cell_type": "code",
      "source": [
        "#problem\n",
        "def knn_function(x, y):\n",
        "#   from sklearn.neighbors import KNeighborsClassifier\n",
        "#   Build the classfier and return it\n",
        "  return classifier"
      ],
      "execution_count": 0,
      "outputs": []
    },
    {
      "metadata": {
        "colab_type": "code",
        "id": "zsg0ezVq5-AP",
        "colab": {}
      },
      "cell_type": "code",
      "source": [
        "# Tests \n",
        "def warn(*args, **kwargs):\n",
        "    pass\n",
        "import warnings\n",
        "warnings.warn = warn\n",
        "from sklearn.metrics import accuracy_score\n",
        "import pandas as pd\n",
        "import numpy as np\n",
        "import matplotlib.pyplot as plt\n",
        "%matplotlib inline \n",
        "from sklearn.model_selection import train_test_split\n",
        "\n",
        "from sklearn import datasets\n",
        "df = datasets.load_iris()\n",
        "x = df.data[:,:2]\n",
        "y = df.target\n",
        "\n",
        "from sklearn.preprocessing import StandardScaler\n",
        "\n",
        "x_train, x_test, y_train, y_test = train_test_split(x, y, test_size=.2, random_state=5685)\n",
        "model = knn_function(x_train, y_train)\n",
        "sc = StandardScaler()\n",
        "x_test = sc.fit_transform(x_test)\n",
        "prediction = model.predict(x_test)\n",
        "accuracy = accuracy_score(y_test, prediction)\n",
        "\n",
        "#the plot begins \n",
        "from matplotlib.colors import ListedColormap\n",
        "x = sc.fit_transform(x)\n",
        "x_set, y_set = x_train, y_train\n",
        "x_min, x_max = x[:, 0].min() - 1, x[:, 0].max() + 1\n",
        "y_min, y_max = x[:, 1].min() - 1, x[:, 1].max() + 1\n",
        "xx, yy = np.meshgrid(np.arange(x_min, x_max, 0.1),\n",
        "                     np.arange(y_min, y_max, 0.1))\n",
        "z = model.predict(np.c_[xx.ravel(), yy.ravel()])\n",
        "z = z.reshape(xx.shape)\n",
        "\n",
        "color_list_light = ['red','green','blue']\n",
        "color_list_bold = ['red','green','blue']\n",
        "custom_cmap2 = ListedColormap(color_list_light)\n",
        "custom_cmap1 = ListedColormap(color_list_bold)\n",
        "plt.contourf(xx, yy, z, alpha=0.1,cmap=custom_cmap2)\n",
        "plt.scatter(x[:, 0], x[:, 1], c=y,cmap=custom_cmap1,\n",
        "                              s=20, edgecolor='black')\n",
        "\n",
        "plt.show()"
      ],
      "execution_count": 0,
      "outputs": []
    },
    {
      "metadata": {
        "id": "ai_8oG9jbhr0",
        "colab_type": "code",
        "colab": {}
      },
      "cell_type": "code",
      "source": [
        "assert accuracy >= 0.6,'Your accuracy is %f which is less than the required accuracy'%accuracy"
      ],
      "execution_count": 0,
      "outputs": []
    }
  ]
}