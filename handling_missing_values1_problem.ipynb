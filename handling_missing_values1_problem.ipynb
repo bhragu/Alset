{
  "nbformat": 4,
  "nbformat_minor": 0,
  "metadata": {
    "colab": {
      "name": "handling_missing_values1_problem.ipynb",
      "version": "0.3.2",
      "provenance": [],
      "collapsed_sections": [],
      "include_colab_link": true
    },
    "kernelspec": {
      "name": "python3",
      "display_name": "Python 3"
    }
  },
  "cells": [
    {
      "cell_type": "markdown",
      "metadata": {
        "id": "view-in-github",
        "colab_type": "text"
      },
      "source": [
        "<a href=\"https://colab.research.google.com/github/melikaf/Alset/blob/master/handling_missing_values1_problem.ipynb\" target=\"_parent\"><img src=\"https://colab.research.google.com/assets/colab-badge.svg\" alt=\"Open In Colab\"/></a>"
      ]
    },
    {
      "metadata": {
        "id": "N0Hk0HeepIID",
        "colab_type": "text"
      },
      "cell_type": "markdown",
      "source": [
        "\n",
        "#Handling Missing Values 1\n",
        "\n",
        "\n",
        "\n"
      ]
    },
    {
      "metadata": {
        "id": "_8UWA0WWtZuc",
        "colab_type": "text"
      },
      "cell_type": "markdown",
      "source": [
        "\n",
        "\n",
        "```\n",
        "# This is formatted as code\n",
        "```\n",
        "\n",
        "One of the most common problems in Data Cleaning/Exploratory Analysis is handling the missing values. There are some ways to handle missing values:\n",
        "\n",
        "*   Delete the data row or data column that consists .\n",
        "*   Replace with a global constant to fill in for missing values\n",
        "*   Replace with mean/median/mode.\n",
        "*   Replace with mean/median/mode for all samples belonging to the same class.\n",
        "*   Use a data mining algorithm to predict the most probable value.\n",
        "\n",
        "There are some functions for pandas dataframes that remove missing values:\n",
        "\n",
        "EXAMPLE 1:                   \n",
        "\n",
        "\n",
        "    x.dropna()  \n",
        "    # Drop the rows where at least one element is missing in  x.\n",
        "\n",
        "EXAMPLE 2:\n",
        "\n",
        "\n",
        "\n",
        "    x.dropna(axis='columns')   \n",
        "    # Drop the columns where at least one element is missing in x.\n",
        "\n",
        "EXAMPLE 3:\n",
        "\n",
        "\n",
        "    x.dropna(how='all')  \n",
        "    # Drop the rows where all elements are missing in x.\n",
        "\n",
        "EXAMPLE 4:\n",
        "\n",
        "    \n",
        "    x.dropna(inplace=True) \n",
        "    # Keep the DataFrame with valid entries in the same variable.\n",
        "\n",
        "---\n",
        "\n",
        "Now is your turn!\n",
        "\n",
        "Change the remove_missing_values_function to takes in an input x that is a dataframe and remove all the missing values.\n",
        "\n",
        "\n"
      ]
    },
    {
      "metadata": {
        "colab_type": "code",
        "id": "VSPbm14HsQeF",
        "colab": {}
      },
      "cell_type": "code",
      "source": [
        "#Solution\n",
        "\n",
        "import pandas as pd\n",
        "\n",
        "def remove_missing_values_function(x):\n",
        "  # your solution for removing the missing values\n",
        "  return x"
      ],
      "execution_count": 0,
      "outputs": []
    },
    {
      "metadata": {
        "colab_type": "code",
        "id": "-XNsVXG5sQeT",
        "colab": {}
      },
      "cell_type": "code",
      "source": [
        "\n",
        "# Tests \n",
        "\n",
        "import pandas as pd\n",
        "df = pd.read_csv('https://docs.google.com/spreadsheets/d/1bpTtTaZhH1l2cGRQhbi9IaOnprvjKDIu0nGy597lXm0/gviz/tq?tqx=out:csv&sheet=personal_data')\n",
        "df = remove_missing_values_function(df)"
      ],
      "execution_count": 0,
      "outputs": []
    },
    {
      "metadata": {
        "colab_type": "code",
        "id": "saQA22E6sQep",
        "colab": {}
      },
      "cell_type": "code",
      "source": [
        "assert df.isnull().any().any() == False, \"Missing Values not removed\"\n"
      ],
      "execution_count": 0,
      "outputs": []
    }
  ]
}